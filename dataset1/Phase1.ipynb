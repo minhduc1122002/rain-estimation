{
  "nbformat": 4,
  "nbformat_minor": 0,
  "metadata": {
    "colab": {
      "provenance": [],
      "gpuType": "T4"
    },
    "kernelspec": {
      "name": "python3",
      "display_name": "Python 3"
    },
    "language_info": {
      "name": "python"
    },
    "accelerator": "GPU",
    "gpuClass": "standard"
  },
  "cells": [
    {
      "cell_type": "code",
      "source": [
        "!pip3 install catboost"
      ],
      "metadata": {
        "colab": {
          "base_uri": "https://localhost:8080/"
        },
        "id": "ETtkkrCAwRpq",
        "outputId": "1e93154f-e4c3-4241-b0e6-a9e09c25e42a"
      },
      "execution_count": null,
      "outputs": [
        {
          "output_type": "stream",
          "name": "stdout",
          "text": [
            "Looking in indexes: https://pypi.org/simple, https://us-python.pkg.dev/colab-wheels/public/simple/\n",
            "Collecting catboost\n",
            "  Downloading catboost-1.2-cp310-cp310-manylinux2014_x86_64.whl (98.6 MB)\n",
            "\u001b[2K     \u001b[90m━━━━━━━━━━━━━━━━━━━━━━━━━━━━━━━━━━━━━━━━\u001b[0m \u001b[32m98.6/98.6 MB\u001b[0m \u001b[31m8.8 MB/s\u001b[0m eta \u001b[36m0:00:00\u001b[0m\n",
            "\u001b[?25hRequirement already satisfied: scipy in /usr/local/lib/python3.10/dist-packages (from catboost) (1.10.1)\n",
            "Requirement already satisfied: graphviz in /usr/local/lib/python3.10/dist-packages (from catboost) (0.20.1)\n",
            "Requirement already satisfied: numpy>=1.16.0 in /usr/local/lib/python3.10/dist-packages (from catboost) (1.22.4)\n",
            "Requirement already satisfied: plotly in /usr/local/lib/python3.10/dist-packages (from catboost) (5.13.1)\n",
            "Requirement already satisfied: pandas>=0.24 in /usr/local/lib/python3.10/dist-packages (from catboost) (1.5.3)\n",
            "Requirement already satisfied: six in /usr/local/lib/python3.10/dist-packages (from catboost) (1.16.0)\n",
            "Requirement already satisfied: matplotlib in /usr/local/lib/python3.10/dist-packages (from catboost) (3.7.1)\n",
            "Requirement already satisfied: pytz>=2020.1 in /usr/local/lib/python3.10/dist-packages (from pandas>=0.24->catboost) (2022.7.1)\n",
            "Requirement already satisfied: python-dateutil>=2.8.1 in /usr/local/lib/python3.10/dist-packages (from pandas>=0.24->catboost) (2.8.2)\n",
            "Requirement already satisfied: contourpy>=1.0.1 in /usr/local/lib/python3.10/dist-packages (from matplotlib->catboost) (1.0.7)\n",
            "Requirement already satisfied: kiwisolver>=1.0.1 in /usr/local/lib/python3.10/dist-packages (from matplotlib->catboost) (1.4.4)\n",
            "Requirement already satisfied: cycler>=0.10 in /usr/local/lib/python3.10/dist-packages (from matplotlib->catboost) (0.11.0)\n",
            "Requirement already satisfied: pillow>=6.2.0 in /usr/local/lib/python3.10/dist-packages (from matplotlib->catboost) (8.4.0)\n",
            "Requirement already satisfied: packaging>=20.0 in /usr/local/lib/python3.10/dist-packages (from matplotlib->catboost) (23.1)\n",
            "Requirement already satisfied: fonttools>=4.22.0 in /usr/local/lib/python3.10/dist-packages (from matplotlib->catboost) (4.39.3)\n",
            "Requirement already satisfied: pyparsing>=2.3.1 in /usr/local/lib/python3.10/dist-packages (from matplotlib->catboost) (3.0.9)\n",
            "Requirement already satisfied: tenacity>=6.2.0 in /usr/local/lib/python3.10/dist-packages (from plotly->catboost) (8.2.2)\n",
            "Installing collected packages: catboost\n",
            "Successfully installed catboost-1.2\n"
          ]
        }
      ]
    },
    {
      "cell_type": "code",
      "execution_count": null,
      "metadata": {
        "id": "GkUNd7qouddC"
      },
      "outputs": [],
      "source": [
        "import pandas as pd\n",
        "import numpy as np\n",
        "import seaborn as sns\n",
        "import matplotlib.pyplot as plt\n",
        "from scipy import stats\n",
        "from google.colab import drive"
      ]
    },
    {
      "cell_type": "code",
      "source": [
        "from sklearn.model_selection import train_test_split\n",
        "from sklearn.metrics import accuracy_score, r2_score\n",
        "from sklearn.linear_model import LinearRegression\n",
        "from sklearn.tree import DecisionTreeRegressor\n",
        "from sklearn.ensemble import RandomForestClassifier, RandomForestRegressor, AdaBoostRegressor\n",
        "from xgboost import XGBRegressor\n",
        "from sklearn.preprocessing import StandardScaler\n",
        "from sklearn.metrics import mean_squared_error, mean_absolute_error\n",
        "from scipy import stats\n",
        "from scipy.stats import percentileofscore\n",
        "from sklearn.svm import SVR\n",
        "from sklearn.neural_network import MLPRegressor\n",
        "from sklearn.model_selection import GridSearchCV, RandomizedSearchCV\n",
        "from sklearn.metrics import mean_squared_error as mse\n",
        "from sklearn.model_selection import cross_val_score\n",
        "from sklearn.model_selection import KFold\n",
        "from sklearn.feature_selection import RFE\n",
        "from sklearn.metrics import classification_report\n",
        "from catboost import CatBoostRegressor, cv, Pool"
      ],
      "metadata": {
        "id": "0WVSuF21uoLW"
      },
      "execution_count": null,
      "outputs": []
    },
    {
      "cell_type": "code",
      "source": [
        "drive.mount('/content/drive')"
      ],
      "metadata": {
        "colab": {
          "base_uri": "https://localhost:8080/"
        },
        "id": "QLY4Knk3v0-8",
        "outputId": "37548220-6835-4a58-85ea-219f0c6df478"
      },
      "execution_count": null,
      "outputs": [
        {
          "output_type": "stream",
          "name": "stdout",
          "text": [
            "Mounted at /content/drive\n"
          ]
        }
      ]
    },
    {
      "cell_type": "code",
      "source": [
        "train_data = pd.read_excel('/content/drive/MyDrive/dataset1/data_match9.xlsx', engine='openpyxl')\n",
        "test_data = pd.read_excel('/content/drive/MyDrive/dataset1/data_match10.xlsx', engine='openpyxl')\n",
        "\n",
        "train_data.dropna(inplace=True)\n",
        "test_data.dropna(inplace=True)"
      ],
      "metadata": {
        "id": "_weMGie7upsO"
      },
      "execution_count": null,
      "outputs": []
    },
    {
      "cell_type": "code",
      "source": [
        "def add_column(data):\n",
        "    data[\"B10B-B16B\"] = data[\"B10B\"] - data[\"B16B\"]\n",
        "    data[\"B11B-IRB\"] = data[\"B11B\"] - data[\"IRB\"]\n",
        "    data[\"IRB-I2B\"] = data[\"IRB\"] - data[\"I2B\"]\n",
        "    data[\"WVB-B09B\"] = data[\"WVB\"] - data[\"B09B\"]\n",
        "    data[\"B09B-B10B\"] = data[\"B09B\"] - data[\"B10B\"]"
      ],
      "metadata": {
        "id": "baav7kA0uq48"
      },
      "execution_count": null,
      "outputs": []
    },
    {
      "cell_type": "code",
      "source": [
        "data = pd.concat([train_data, test_data], ignore_index=True)"
      ],
      "metadata": {
        "id": "zruR4U9fuscE"
      },
      "execution_count": null,
      "outputs": []
    },
    {
      "cell_type": "code",
      "source": [
        "from sklearn.preprocessing import StandardScaler\n",
        "scaler = StandardScaler()\n",
        "data.iloc[:, 6:-1] = scaler.fit_transform(data.iloc[:, 6:-1])"
      ],
      "metadata": {
        "id": "C0kX-0-4ut8E"
      },
      "execution_count": null,
      "outputs": []
    },
    {
      "cell_type": "code",
      "source": [
        "add_column(data)"
      ],
      "metadata": {
        "id": "WwK6f78xuuy5"
      },
      "execution_count": null,
      "outputs": []
    },
    {
      "cell_type": "code",
      "source": [
        "data.iloc[:, -5:] = scaler.fit_transform(data.iloc[:, -5:])"
      ],
      "metadata": {
        "id": "uBHJEyh1uvBy"
      },
      "execution_count": null,
      "outputs": []
    },
    {
      "cell_type": "code",
      "source": [
        "train_cols = [\"IRB\", \"B10B-B16B\", \"B11B-IRB\", \"IRB-I2B\", \"WVB-B09B\", \"B09B-B10B\", \n",
        "              'CAPE', 'TCC', 'TCW', 'TCWV']\n",
        "x = data[train_cols]\n",
        "y = data['value']\n",
        "IMERG = data['IMERG']"
      ],
      "metadata": {
        "id": "KbECRdufuwn0"
      },
      "execution_count": null,
      "outputs": []
    },
    {
      "cell_type": "code",
      "source": [
        "X_train, X_test, Y_train, Y_test = train_test_split(x, y, test_size=0.3, random_state=42)"
      ],
      "metadata": {
        "id": "eBWycTC4uzAS"
      },
      "execution_count": null,
      "outputs": []
    },
    {
      "cell_type": "code",
      "source": [
        "IMERG_train = data['IMERG'].loc[Y_train.index]\n",
        "IMERG_test = data['IMERG'].loc[Y_test.index]"
      ],
      "metadata": {
        "id": "V2Y3pyjwu0Gw"
      },
      "execution_count": null,
      "outputs": []
    },
    {
      "cell_type": "code",
      "source": [
        "def compute_metric(name, model, X, Y):\n",
        "    print(f'{name}-R2:', model.score(X,Y))\n",
        "    print(f'{name}-RMSE:',mean_squared_error(Y, model.predict(X), squared=False))\n",
        "    print(f'{name}-MAE:',mean_absolute_error(Y,model.predict(X)))\n",
        "    print(f'{name}-Pearson r:', stats.pearsonr(Y, model.predict(X))[0])"
      ],
      "metadata": {
        "id": "NEITXK38u1p4"
      },
      "execution_count": null,
      "outputs": []
    },
    {
      "cell_type": "code",
      "source": [
        "np.random.seed(42)"
      ],
      "metadata": {
        "id": "3WOJO6v-u2k2"
      },
      "execution_count": null,
      "outputs": []
    },
    {
      "cell_type": "markdown",
      "source": [
        "# LR"
      ],
      "metadata": {
        "id": "ha0X6HhUG1qC"
      }
    },
    {
      "cell_type": "code",
      "source": [
        "LR = LinearRegression()\n",
        "LR.fit(X_train,Y_train)"
      ],
      "metadata": {
        "colab": {
          "base_uri": "https://localhost:8080/",
          "height": 74
        },
        "id": "H1j_8UJqu380",
        "outputId": "500c9c58-ef5d-4d88-ff51-2718e310cfba"
      },
      "execution_count": null,
      "outputs": [
        {
          "output_type": "execute_result",
          "data": {
            "text/plain": [
              "LinearRegression()"
            ],
            "text/html": [
              "<style>#sk-container-id-4 {color: black;background-color: white;}#sk-container-id-4 pre{padding: 0;}#sk-container-id-4 div.sk-toggleable {background-color: white;}#sk-container-id-4 label.sk-toggleable__label {cursor: pointer;display: block;width: 100%;margin-bottom: 0;padding: 0.3em;box-sizing: border-box;text-align: center;}#sk-container-id-4 label.sk-toggleable__label-arrow:before {content: \"▸\";float: left;margin-right: 0.25em;color: #696969;}#sk-container-id-4 label.sk-toggleable__label-arrow:hover:before {color: black;}#sk-container-id-4 div.sk-estimator:hover label.sk-toggleable__label-arrow:before {color: black;}#sk-container-id-4 div.sk-toggleable__content {max-height: 0;max-width: 0;overflow: hidden;text-align: left;background-color: #f0f8ff;}#sk-container-id-4 div.sk-toggleable__content pre {margin: 0.2em;color: black;border-radius: 0.25em;background-color: #f0f8ff;}#sk-container-id-4 input.sk-toggleable__control:checked~div.sk-toggleable__content {max-height: 200px;max-width: 100%;overflow: auto;}#sk-container-id-4 input.sk-toggleable__control:checked~label.sk-toggleable__label-arrow:before {content: \"▾\";}#sk-container-id-4 div.sk-estimator input.sk-toggleable__control:checked~label.sk-toggleable__label {background-color: #d4ebff;}#sk-container-id-4 div.sk-label input.sk-toggleable__control:checked~label.sk-toggleable__label {background-color: #d4ebff;}#sk-container-id-4 input.sk-hidden--visually {border: 0;clip: rect(1px 1px 1px 1px);clip: rect(1px, 1px, 1px, 1px);height: 1px;margin: -1px;overflow: hidden;padding: 0;position: absolute;width: 1px;}#sk-container-id-4 div.sk-estimator {font-family: monospace;background-color: #f0f8ff;border: 1px dotted black;border-radius: 0.25em;box-sizing: border-box;margin-bottom: 0.5em;}#sk-container-id-4 div.sk-estimator:hover {background-color: #d4ebff;}#sk-container-id-4 div.sk-parallel-item::after {content: \"\";width: 100%;border-bottom: 1px solid gray;flex-grow: 1;}#sk-container-id-4 div.sk-label:hover label.sk-toggleable__label {background-color: #d4ebff;}#sk-container-id-4 div.sk-serial::before {content: \"\";position: absolute;border-left: 1px solid gray;box-sizing: border-box;top: 0;bottom: 0;left: 50%;z-index: 0;}#sk-container-id-4 div.sk-serial {display: flex;flex-direction: column;align-items: center;background-color: white;padding-right: 0.2em;padding-left: 0.2em;position: relative;}#sk-container-id-4 div.sk-item {position: relative;z-index: 1;}#sk-container-id-4 div.sk-parallel {display: flex;align-items: stretch;justify-content: center;background-color: white;position: relative;}#sk-container-id-4 div.sk-item::before, #sk-container-id-4 div.sk-parallel-item::before {content: \"\";position: absolute;border-left: 1px solid gray;box-sizing: border-box;top: 0;bottom: 0;left: 50%;z-index: -1;}#sk-container-id-4 div.sk-parallel-item {display: flex;flex-direction: column;z-index: 1;position: relative;background-color: white;}#sk-container-id-4 div.sk-parallel-item:first-child::after {align-self: flex-end;width: 50%;}#sk-container-id-4 div.sk-parallel-item:last-child::after {align-self: flex-start;width: 50%;}#sk-container-id-4 div.sk-parallel-item:only-child::after {width: 0;}#sk-container-id-4 div.sk-dashed-wrapped {border: 1px dashed gray;margin: 0 0.4em 0.5em 0.4em;box-sizing: border-box;padding-bottom: 0.4em;background-color: white;}#sk-container-id-4 div.sk-label label {font-family: monospace;font-weight: bold;display: inline-block;line-height: 1.2em;}#sk-container-id-4 div.sk-label-container {text-align: center;}#sk-container-id-4 div.sk-container {/* jupyter's `normalize.less` sets `[hidden] { display: none; }` but bootstrap.min.css set `[hidden] { display: none !important; }` so we also need the `!important` here to be able to override the default hidden behavior on the sphinx rendered scikit-learn.org. See: https://github.com/scikit-learn/scikit-learn/issues/21755 */display: inline-block !important;position: relative;}#sk-container-id-4 div.sk-text-repr-fallback {display: none;}</style><div id=\"sk-container-id-4\" class=\"sk-top-container\"><div class=\"sk-text-repr-fallback\"><pre>LinearRegression()</pre><b>In a Jupyter environment, please rerun this cell to show the HTML representation or trust the notebook. <br />On GitHub, the HTML representation is unable to render, please try loading this page with nbviewer.org.</b></div><div class=\"sk-container\" hidden><div class=\"sk-item\"><div class=\"sk-estimator sk-toggleable\"><input class=\"sk-toggleable__control sk-hidden--visually\" id=\"sk-estimator-id-6\" type=\"checkbox\" checked><label for=\"sk-estimator-id-6\" class=\"sk-toggleable__label sk-toggleable__label-arrow\">LinearRegression</label><div class=\"sk-toggleable__content\"><pre>LinearRegression()</pre></div></div></div></div></div>"
            ]
          },
          "metadata": {},
          "execution_count": 25
        }
      ]
    },
    {
      "cell_type": "code",
      "source": [
        "compute_metric('Linear Regression Train', LR, X_train, Y_train)"
      ],
      "metadata": {
        "colab": {
          "base_uri": "https://localhost:8080/"
        },
        "id": "ct5llDDUu5vI",
        "outputId": "163fd621-5636-4666-9dd8-fedb1eca8f4d"
      },
      "execution_count": null,
      "outputs": [
        {
          "output_type": "stream",
          "name": "stdout",
          "text": [
            "Linear Regression Train-R2: 0.1013089190917561\n",
            "Linear Regression Train-RMSE: 2.198786172477575\n",
            "Linear Regression Train-MAE: 0.6081252433933565\n",
            "Linear Regression Train-Pearson r: 0.31829062048975976\n"
          ]
        }
      ]
    },
    {
      "cell_type": "code",
      "source": [
        "compute_metric('Linear Regression Val', LR, X_test, Y_test)"
      ],
      "metadata": {
        "colab": {
          "base_uri": "https://localhost:8080/"
        },
        "id": "sPldf_tcu7Uf",
        "outputId": "699ba04c-ee99-4e38-b079-b57b4bc16301"
      },
      "execution_count": null,
      "outputs": [
        {
          "output_type": "stream",
          "name": "stdout",
          "text": [
            "Linear Regression Val-R2: 0.09696719780432617\n",
            "Linear Regression Val-RMSE: 2.345197441567148\n",
            "Linear Regression Val-MAE: 0.6299371318547652\n",
            "Linear Regression Val-Pearson r: 0.31182874912483644\n"
          ]
        }
      ]
    },
    {
      "cell_type": "code",
      "source": [
        "plt.ylabel('Predicted')\n",
        "plt.xlabel('Expected')\n",
        "plt.title('Test Scatter Plot')\n",
        "plt.plot(Y_test, LR.predict(X_test), 'o')\n",
        "a, b = np.polyfit(Y_test, LR.predict(X_test), 1)\n",
        "plt.plot(Y_test, a * Y_test + b, 'r')\n",
        "plt.show()"
      ],
      "metadata": {
        "colab": {
          "base_uri": "https://localhost:8080/",
          "height": 472
        },
        "id": "m2lZA5o1u8Pk",
        "outputId": "08bf66d8-9200-4ca5-b110-bd5f79fcfa14"
      },
      "execution_count": null,
      "outputs": [
        {
          "output_type": "display_data",
          "data": {
            "text/plain": [
              "<Figure size 640x480 with 1 Axes>"
            ],
            "image/png": "[encoded data removed]"
          },
          "metadata": {}
        }
      ]
    },
    {
      "cell_type": "markdown",
      "source": [
        "# MLP"
      ],
      "metadata": {
        "id": "RY0OsneqG4BW"
      }
    },
    {
      "cell_type": "code",
      "source": [
        "MLP = MLPRegressor(max_iter=1000)\n",
        "MLP.fit(X_train,Y_train)"
      ],
      "metadata": {
        "colab": {
          "base_uri": "https://localhost:8080/",
          "height": 74
        },
        "id": "Xsa1Hr50vAoR",
        "outputId": "13c194da-74e3-4d17-cd4b-e059b4e3a5f0"
      },
      "execution_count": null,
      "outputs": [
        {
          "output_type": "execute_result",
          "data": {
            "text/plain": [
              "MLPRegressor(max_iter=1000)"
            ],
            "text/html": [
              "<style>#sk-container-id-2 {color: black;background-color: white;}#sk-container-id-2 pre{padding: 0;}#sk-container-id-2 div.sk-toggleable {background-color: white;}#sk-container-id-2 label.sk-toggleable__label {cursor: pointer;display: block;width: 100%;margin-bottom: 0;padding: 0.3em;box-sizing: border-box;text-align: center;}#sk-container-id-2 label.sk-toggleable__label-arrow:before {content: \"▸\";float: left;margin-right: 0.25em;color: #696969;}#sk-container-id-2 label.sk-toggleable__label-arrow:hover:before {color: black;}#sk-container-id-2 div.sk-estimator:hover label.sk-toggleable__label-arrow:before {color: black;}#sk-container-id-2 div.sk-toggleable__content {max-height: 0;max-width: 0;overflow: hidden;text-align: left;background-color: #f0f8ff;}#sk-container-id-2 div.sk-toggleable__content pre {margin: 0.2em;color: black;border-radius: 0.25em;background-color: #f0f8ff;}#sk-container-id-2 input.sk-toggleable__control:checked~div.sk-toggleable__content {max-height: 200px;max-width: 100%;overflow: auto;}#sk-container-id-2 input.sk-toggleable__control:checked~label.sk-toggleable__label-arrow:before {content: \"▾\";}#sk-container-id-2 div.sk-estimator input.sk-toggleable__control:checked~label.sk-toggleable__label {background-color: #d4ebff;}#sk-container-id-2 div.sk-label input.sk-toggleable__control:checked~label.sk-toggleable__label {background-color: #d4ebff;}#sk-container-id-2 input.sk-hidden--visually {border: 0;clip: rect(1px 1px 1px 1px);clip: rect(1px, 1px, 1px, 1px);height: 1px;margin: -1px;overflow: hidden;padding: 0;position: absolute;width: 1px;}#sk-container-id-2 div.sk-estimator {font-family: monospace;background-color: #f0f8ff;border: 1px dotted black;border-radius: 0.25em;box-sizing: border-box;margin-bottom: 0.5em;}#sk-container-id-2 div.sk-estimator:hover {background-color: #d4ebff;}#sk-container-id-2 div.sk-parallel-item::after {content: \"\";width: 100%;border-bottom: 1px solid gray;flex-grow: 1;}#sk-container-id-2 div.sk-label:hover label.sk-toggleable__label {background-color: #d4ebff;}#sk-container-id-2 div.sk-serial::before {content: \"\";position: absolute;border-left: 1px solid gray;box-sizing: border-box;top: 0;bottom: 0;left: 50%;z-index: 0;}#sk-container-id-2 div.sk-serial {display: flex;flex-direction: column;align-items: center;background-color: white;padding-right: 0.2em;padding-left: 0.2em;position: relative;}#sk-container-id-2 div.sk-item {position: relative;z-index: 1;}#sk-container-id-2 div.sk-parallel {display: flex;align-items: stretch;justify-content: center;background-color: white;position: relative;}#sk-container-id-2 div.sk-item::before, #sk-container-id-2 div.sk-parallel-item::before {content: \"\";position: absolute;border-left: 1px solid gray;box-sizing: border-box;top: 0;bottom: 0;left: 50%;z-index: -1;}#sk-container-id-2 div.sk-parallel-item {display: flex;flex-direction: column;z-index: 1;position: relative;background-color: white;}#sk-container-id-2 div.sk-parallel-item:first-child::after {align-self: flex-end;width: 50%;}#sk-container-id-2 div.sk-parallel-item:last-child::after {align-self: flex-start;width: 50%;}#sk-container-id-2 div.sk-parallel-item:only-child::after {width: 0;}#sk-container-id-2 div.sk-dashed-wrapped {border: 1px dashed gray;margin: 0 0.4em 0.5em 0.4em;box-sizing: border-box;padding-bottom: 0.4em;background-color: white;}#sk-container-id-2 div.sk-label label {font-family: monospace;font-weight: bold;display: inline-block;line-height: 1.2em;}#sk-container-id-2 div.sk-label-container {text-align: center;}#sk-container-id-2 div.sk-container {/* jupyter's `normalize.less` sets `[hidden] { display: none; }` but bootstrap.min.css set `[hidden] { display: none !important; }` so we also need the `!important` here to be able to override the default hidden behavior on the sphinx rendered scikit-learn.org. See: https://github.com/scikit-learn/scikit-learn/issues/21755 */display: inline-block !important;position: relative;}#sk-container-id-2 div.sk-text-repr-fallback {display: none;}</style><div id=\"sk-container-id-2\" class=\"sk-top-container\"><div class=\"sk-text-repr-fallback\"><pre>MLPRegressor(max_iter=1000)</pre><b>In a Jupyter environment, please rerun this cell to show the HTML representation or trust the notebook. <br />On GitHub, the HTML representation is unable to render, please try loading this page with nbviewer.org.</b></div><div class=\"sk-container\" hidden><div class=\"sk-item\"><div class=\"sk-estimator sk-toggleable\"><input class=\"sk-toggleable__control sk-hidden--visually\" id=\"sk-estimator-id-2\" type=\"checkbox\" checked><label for=\"sk-estimator-id-2\" class=\"sk-toggleable__label sk-toggleable__label-arrow\">MLPRegressor</label><div class=\"sk-toggleable__content\"><pre>MLPRegressor(max_iter=1000)</pre></div></div></div></div></div>"
            ]
          },
          "metadata": {},
          "execution_count": 24
        }
      ]
    },
    {
      "cell_type": "code",
      "source": [
        "compute_metric('MLP Regressor Train', MLP, X_train, Y_train)"
      ],
      "metadata": {
        "colab": {
          "base_uri": "https://localhost:8080/"
        },
        "id": "zh6d5Us4vCK4",
        "outputId": "546932c5-af1e-41b6-cb03-6e4d0b337792"
      },
      "execution_count": null,
      "outputs": [
        {
          "output_type": "stream",
          "name": "stdout",
          "text": [
            "MLP Regressor Train-R2: 0.14652079287477104\n",
            "MLP Regressor Train-RMSE: 2.142763568908932\n",
            "MLP Regressor Train-MAE: 0.5613779543338874\n",
            "MLP Regressor Train-Pearson r: 0.38423097697509\n"
          ]
        }
      ]
    },
    {
      "cell_type": "code",
      "source": [
        "compute_metric('MLP Regressor Val', MLP, X_test, Y_test)"
      ],
      "metadata": {
        "colab": {
          "base_uri": "https://localhost:8080/"
        },
        "id": "4UqGqvGkvDDu",
        "outputId": "867b6677-773c-4cf8-9f5e-d7a814762ed0"
      },
      "execution_count": null,
      "outputs": [
        {
          "output_type": "stream",
          "name": "stdout",
          "text": [
            "MLP Regressor Val-R2: 0.1381267495418278\n",
            "MLP Regressor Val-RMSE: 2.2911279828332187\n",
            "MLP Regressor Val-MAE: 0.5855447695299173\n",
            "MLP Regressor Val-Pearson r: 0.3739517872906831\n"
          ]
        }
      ]
    },
    {
      "cell_type": "code",
      "source": [
        "mlp_param_grid = {'hidden_layer_sizes': [(50,50,50), (100,1)],\n",
        "              'activation': ['relu','tanh'],\n",
        "              'alpha': [0.0001, 0.05],\n",
        "              'learning_rate': ['constant','adaptive'],\n",
        "              'solver': ['adam']}\n",
        "grid_mlp = GridSearchCV(MLP, param_grid=mlp_param_grid, cv=3, n_jobs=-1, verbose=1)\n",
        "grid_mlp.fit(X_train, Y_train)"
      ],
      "metadata": {
        "colab": {
          "base_uri": "https://localhost:8080/",
          "height": 133
        },
        "id": "Hz-OUOBpvECL",
        "outputId": "a5bb5d52-d81c-4b73-ac21-f5d27b2b4d7f"
      },
      "execution_count": null,
      "outputs": [
        {
          "output_type": "stream",
          "name": "stdout",
          "text": [
            "Fitting 3 folds for each of 16 candidates, totalling 48 fits\n"
          ]
        },
        {
          "output_type": "execute_result",
          "data": {
            "text/plain": [
              "GridSearchCV(cv=3, estimator=MLPRegressor(max_iter=1000), n_jobs=-1,\n",
              "             param_grid={'activation': ['relu', 'tanh'],\n",
              "                         'alpha': [0.0001, 0.05],\n",
              "                         'hidden_layer_sizes': [(50, 50, 50), (100, 1)],\n",
              "                         'learning_rate': ['constant', 'adaptive'],\n",
              "                         'solver': ['adam']},\n",
              "             verbose=1)"
            ],
            "text/html": [
              "<style>#sk-container-id-3 {color: black;background-color: white;}#sk-container-id-3 pre{padding: 0;}#sk-container-id-3 div.sk-toggleable {background-color: white;}#sk-container-id-3 label.sk-toggleable__label {cursor: pointer;display: block;width: 100%;margin-bottom: 0;padding: 0.3em;box-sizing: border-box;text-align: center;}#sk-container-id-3 label.sk-toggleable__label-arrow:before {content: \"▸\";float: left;margin-right: 0.25em;color: #696969;}#sk-container-id-3 label.sk-toggleable__label-arrow:hover:before {color: black;}#sk-container-id-3 div.sk-estimator:hover label.sk-toggleable__label-arrow:before {color: black;}#sk-container-id-3 div.sk-toggleable__content {max-height: 0;max-width: 0;overflow: hidden;text-align: left;background-color: #f0f8ff;}#sk-container-id-3 div.sk-toggleable__content pre {margin: 0.2em;color: black;border-radius: 0.25em;background-color: #f0f8ff;}#sk-container-id-3 input.sk-toggleable__control:checked~div.sk-toggleable__content {max-height: 200px;max-width: 100%;overflow: auto;}#sk-container-id-3 input.sk-toggleable__control:checked~label.sk-toggleable__label-arrow:before {content: \"▾\";}#sk-container-id-3 div.sk-estimator input.sk-toggleable__control:checked~label.sk-toggleable__label {background-color: #d4ebff;}#sk-container-id-3 div.sk-label input.sk-toggleable__control:checked~label.sk-toggleable__label {background-color: #d4ebff;}#sk-container-id-3 input.sk-hidden--visually {border: 0;clip: rect(1px 1px 1px 1px);clip: rect(1px, 1px, 1px, 1px);height: 1px;margin: -1px;overflow: hidden;padding: 0;position: absolute;width: 1px;}#sk-container-id-3 div.sk-estimator {font-family: monospace;background-color: #f0f8ff;border: 1px dotted black;border-radius: 0.25em;box-sizing: border-box;margin-bottom: 0.5em;}#sk-container-id-3 div.sk-estimator:hover {background-color: #d4ebff;}#sk-container-id-3 div.sk-parallel-item::after {content: \"\";width: 100%;border-bottom: 1px solid gray;flex-grow: 1;}#sk-container-id-3 div.sk-label:hover label.sk-toggleable__label {background-color: #d4ebff;}#sk-container-id-3 div.sk-serial::before {content: \"\";position: absolute;border-left: 1px solid gray;box-sizing: border-box;top: 0;bottom: 0;left: 50%;z-index: 0;}#sk-container-id-3 div.sk-serial {display: flex;flex-direction: column;align-items: center;background-color: white;padding-right: 0.2em;padding-left: 0.2em;position: relative;}#sk-container-id-3 div.sk-item {position: relative;z-index: 1;}#sk-container-id-3 div.sk-parallel {display: flex;align-items: stretch;justify-content: center;background-color: white;position: relative;}#sk-container-id-3 div.sk-item::before, #sk-container-id-3 div.sk-parallel-item::before {content: \"\";position: absolute;border-left: 1px solid gray;box-sizing: border-box;top: 0;bottom: 0;left: 50%;z-index: -1;}#sk-container-id-3 div.sk-parallel-item {display: flex;flex-direction: column;z-index: 1;position: relative;background-color: white;}#sk-container-id-3 div.sk-parallel-item:first-child::after {align-self: flex-end;width: 50%;}#sk-container-id-3 div.sk-parallel-item:last-child::after {align-self: flex-start;width: 50%;}#sk-container-id-3 div.sk-parallel-item:only-child::after {width: 0;}#sk-container-id-3 div.sk-dashed-wrapped {border: 1px dashed gray;margin: 0 0.4em 0.5em 0.4em;box-sizing: border-box;padding-bottom: 0.4em;background-color: white;}#sk-container-id-3 div.sk-label label {font-family: monospace;font-weight: bold;display: inline-block;line-height: 1.2em;}#sk-container-id-3 div.sk-label-container {text-align: center;}#sk-container-id-3 div.sk-container {/* jupyter's `normalize.less` sets `[hidden] { display: none; }` but bootstrap.min.css set `[hidden] { display: none !important; }` so we also need the `!important` here to be able to override the default hidden behavior on the sphinx rendered scikit-learn.org. See: https://github.com/scikit-learn/scikit-learn/issues/21755 */display: inline-block !important;position: relative;}#sk-container-id-3 div.sk-text-repr-fallback {display: none;}</style><div id=\"sk-container-id-3\" class=\"sk-top-container\"><div class=\"sk-text-repr-fallback\"><pre>GridSearchCV(cv=3, estimator=MLPRegressor(max_iter=1000), n_jobs=-1,\n",
              "             param_grid={&#x27;activation&#x27;: [&#x27;relu&#x27;, &#x27;tanh&#x27;],\n",
              "                         &#x27;alpha&#x27;: [0.0001, 0.05],\n",
              "                         &#x27;hidden_layer_sizes&#x27;: [(50, 50, 50), (100, 1)],\n",
              "                         &#x27;learning_rate&#x27;: [&#x27;constant&#x27;, &#x27;adaptive&#x27;],\n",
              "                         &#x27;solver&#x27;: [&#x27;adam&#x27;]},\n",
              "             verbose=1)</pre><b>In a Jupyter environment, please rerun this cell to show the HTML representation or trust the notebook. <br />On GitHub, the HTML representation is unable to render, please try loading this page with nbviewer.org.</b></div><div class=\"sk-container\" hidden><div class=\"sk-item sk-dashed-wrapped\"><div class=\"sk-label-container\"><div class=\"sk-label sk-toggleable\"><input class=\"sk-toggleable__control sk-hidden--visually\" id=\"sk-estimator-id-3\" type=\"checkbox\" ><label for=\"sk-estimator-id-3\" class=\"sk-toggleable__label sk-toggleable__label-arrow\">GridSearchCV</label><div class=\"sk-toggleable__content\"><pre>GridSearchCV(cv=3, estimator=MLPRegressor(max_iter=1000), n_jobs=-1,\n",
              "             param_grid={&#x27;activation&#x27;: [&#x27;relu&#x27;, &#x27;tanh&#x27;],\n",
              "                         &#x27;alpha&#x27;: [0.0001, 0.05],\n",
              "                         &#x27;hidden_layer_sizes&#x27;: [(50, 50, 50), (100, 1)],\n",
              "                         &#x27;learning_rate&#x27;: [&#x27;constant&#x27;, &#x27;adaptive&#x27;],\n",
              "                         &#x27;solver&#x27;: [&#x27;adam&#x27;]},\n",
              "             verbose=1)</pre></div></div></div><div class=\"sk-parallel\"><div class=\"sk-parallel-item\"><div class=\"sk-item\"><div class=\"sk-label-container\"><div class=\"sk-label sk-toggleable\"><input class=\"sk-toggleable__control sk-hidden--visually\" id=\"sk-estimator-id-4\" type=\"checkbox\" ><label for=\"sk-estimator-id-4\" class=\"sk-toggleable__label sk-toggleable__label-arrow\">estimator: MLPRegressor</label><div class=\"sk-toggleable__content\"><pre>MLPRegressor(max_iter=1000)</pre></div></div></div><div class=\"sk-serial\"><div class=\"sk-item\"><div class=\"sk-estimator sk-toggleable\"><input class=\"sk-toggleable__control sk-hidden--visually\" id=\"sk-estimator-id-5\" type=\"checkbox\" ><label for=\"sk-estimator-id-5\" class=\"sk-toggleable__label sk-toggleable__label-arrow\">MLPRegressor</label><div class=\"sk-toggleable__content\"><pre>MLPRegressor(max_iter=1000)</pre></div></div></div></div></div></div></div></div></div></div>"
            ]
          },
          "metadata": {},
          "execution_count": 27
        }
      ]
    },
    {
      "cell_type": "code",
      "source": [
        "grid_mlp.best_params_"
      ],
      "metadata": {
        "colab": {
          "base_uri": "https://localhost:8080/"
        },
        "id": "_Q7LZWvmvE64",
        "outputId": "efcb3bc8-a4bc-4592-f209-16d83a92a4cd"
      },
      "execution_count": null,
      "outputs": [
        {
          "output_type": "execute_result",
          "data": {
            "text/plain": [
              "{'activation': 'relu',\n",
              " 'alpha': 0.05,\n",
              " 'hidden_layer_sizes': (50, 50, 50),\n",
              " 'learning_rate': 'constant',\n",
              " 'solver': 'adam'}"
            ]
          },
          "metadata": {},
          "execution_count": 28
        }
      ]
    },
    {
      "cell_type": "code",
      "source": [
        "grid_mlp = MLPRegressor(activation='relu', alpha=0.05, hidden_layer_sizes=(50, 50, 50), learning_rate='constant',solver='adam',random_state=42)\n",
        "grid_mlp.fit(X_train, Y_train)"
      ],
      "metadata": {
        "colab": {
          "base_uri": "https://localhost:8080/",
          "height": 129
        },
        "id": "5xRIraErvFxc",
        "outputId": "24bb380b-57ff-4be8-c2e1-644208855271"
      },
      "execution_count": null,
      "outputs": [
        {
          "output_type": "stream",
          "name": "stderr",
          "text": [
            "/usr/local/lib/python3.10/dist-packages/sklearn/neural_network/_multilayer_perceptron.py:686: ConvergenceWarning: Stochastic Optimizer: Maximum iterations (200) reached and the optimization hasn't converged yet.\n",
            "  warnings.warn(\n"
          ]
        },
        {
          "output_type": "execute_result",
          "data": {
            "text/plain": [
              "MLPRegressor(alpha=0.05, hidden_layer_sizes=(50, 50, 50), random_state=42)"
            ],
            "text/html": [
              "<style>#sk-container-id-4 {color: black;background-color: white;}#sk-container-id-4 pre{padding: 0;}#sk-container-id-4 div.sk-toggleable {background-color: white;}#sk-container-id-4 label.sk-toggleable__label {cursor: pointer;display: block;width: 100%;margin-bottom: 0;padding: 0.3em;box-sizing: border-box;text-align: center;}#sk-container-id-4 label.sk-toggleable__label-arrow:before {content: \"▸\";float: left;margin-right: 0.25em;color: #696969;}#sk-container-id-4 label.sk-toggleable__label-arrow:hover:before {color: black;}#sk-container-id-4 div.sk-estimator:hover label.sk-toggleable__label-arrow:before {color: black;}#sk-container-id-4 div.sk-toggleable__content {max-height: 0;max-width: 0;overflow: hidden;text-align: left;background-color: #f0f8ff;}#sk-container-id-4 div.sk-toggleable__content pre {margin: 0.2em;color: black;border-radius: 0.25em;background-color: #f0f8ff;}#sk-container-id-4 input.sk-toggleable__control:checked~div.sk-toggleable__content {max-height: 200px;max-width: 100%;overflow: auto;}#sk-container-id-4 input.sk-toggleable__control:checked~label.sk-toggleable__label-arrow:before {content: \"▾\";}#sk-container-id-4 div.sk-estimator input.sk-toggleable__control:checked~label.sk-toggleable__label {background-color: #d4ebff;}#sk-container-id-4 div.sk-label input.sk-toggleable__control:checked~label.sk-toggleable__label {background-color: #d4ebff;}#sk-container-id-4 input.sk-hidden--visually {border: 0;clip: rect(1px 1px 1px 1px);clip: rect(1px, 1px, 1px, 1px);height: 1px;margin: -1px;overflow: hidden;padding: 0;position: absolute;width: 1px;}#sk-container-id-4 div.sk-estimator {font-family: monospace;background-color: #f0f8ff;border: 1px dotted black;border-radius: 0.25em;box-sizing: border-box;margin-bottom: 0.5em;}#sk-container-id-4 div.sk-estimator:hover {background-color: #d4ebff;}#sk-container-id-4 div.sk-parallel-item::after {content: \"\";width: 100%;border-bottom: 1px solid gray;flex-grow: 1;}#sk-container-id-4 div.sk-label:hover label.sk-toggleable__label {background-color: #d4ebff;}#sk-container-id-4 div.sk-serial::before {content: \"\";position: absolute;border-left: 1px solid gray;box-sizing: border-box;top: 0;bottom: 0;left: 50%;z-index: 0;}#sk-container-id-4 div.sk-serial {display: flex;flex-direction: column;align-items: center;background-color: white;padding-right: 0.2em;padding-left: 0.2em;position: relative;}#sk-container-id-4 div.sk-item {position: relative;z-index: 1;}#sk-container-id-4 div.sk-parallel {display: flex;align-items: stretch;justify-content: center;background-color: white;position: relative;}#sk-container-id-4 div.sk-item::before, #sk-container-id-4 div.sk-parallel-item::before {content: \"\";position: absolute;border-left: 1px solid gray;box-sizing: border-box;top: 0;bottom: 0;left: 50%;z-index: -1;}#sk-container-id-4 div.sk-parallel-item {display: flex;flex-direction: column;z-index: 1;position: relative;background-color: white;}#sk-container-id-4 div.sk-parallel-item:first-child::after {align-self: flex-end;width: 50%;}#sk-container-id-4 div.sk-parallel-item:last-child::after {align-self: flex-start;width: 50%;}#sk-container-id-4 div.sk-parallel-item:only-child::after {width: 0;}#sk-container-id-4 div.sk-dashed-wrapped {border: 1px dashed gray;margin: 0 0.4em 0.5em 0.4em;box-sizing: border-box;padding-bottom: 0.4em;background-color: white;}#sk-container-id-4 div.sk-label label {font-family: monospace;font-weight: bold;display: inline-block;line-height: 1.2em;}#sk-container-id-4 div.sk-label-container {text-align: center;}#sk-container-id-4 div.sk-container {/* jupyter's `normalize.less` sets `[hidden] { display: none; }` but bootstrap.min.css set `[hidden] { display: none !important; }` so we also need the `!important` here to be able to override the default hidden behavior on the sphinx rendered scikit-learn.org. See: https://github.com/scikit-learn/scikit-learn/issues/21755 */display: inline-block !important;position: relative;}#sk-container-id-4 div.sk-text-repr-fallback {display: none;}</style><div id=\"sk-container-id-4\" class=\"sk-top-container\"><div class=\"sk-text-repr-fallback\"><pre>MLPRegressor(alpha=0.05, hidden_layer_sizes=(50, 50, 50), random_state=42)</pre><b>In a Jupyter environment, please rerun this cell to show the HTML representation or trust the notebook. <br />On GitHub, the HTML representation is unable to render, please try loading this page with nbviewer.org.</b></div><div class=\"sk-container\" hidden><div class=\"sk-item\"><div class=\"sk-estimator sk-toggleable\"><input class=\"sk-toggleable__control sk-hidden--visually\" id=\"sk-estimator-id-6\" type=\"checkbox\" checked><label for=\"sk-estimator-id-6\" class=\"sk-toggleable__label sk-toggleable__label-arrow\">MLPRegressor</label><div class=\"sk-toggleable__content\"><pre>MLPRegressor(alpha=0.05, hidden_layer_sizes=(50, 50, 50), random_state=42)</pre></div></div></div></div></div>"
            ]
          },
          "metadata": {},
          "execution_count": 30
        }
      ]
    },
    {
      "cell_type": "code",
      "source": [
        "compute_metric('MLP (Grid Search) Train', grid_mlp, X_train, Y_train)"
      ],
      "metadata": {
        "colab": {
          "base_uri": "https://localhost:8080/"
        },
        "id": "ajw5RcbyvHgV",
        "outputId": "19b0ec51-19a8-4f87-86d2-39318fda7184"
      },
      "execution_count": null,
      "outputs": [
        {
          "output_type": "stream",
          "name": "stdout",
          "text": [
            "MLP (Grid Search) Train-R2: 0.3110778221471806\n",
            "MLP (Grid Search) Train-RMSE: 1.9251424227316405\n",
            "MLP (Grid Search) Train-MAE: 0.512091313932941\n",
            "MLP (Grid Search) Train-Pearson r: 0.5585670919934949\n"
          ]
        }
      ]
    },
    {
      "cell_type": "code",
      "source": [
        "compute_metric('MLP (Grid Search) Val', grid_mlp, X_test, Y_test)"
      ],
      "metadata": {
        "colab": {
          "base_uri": "https://localhost:8080/"
        },
        "id": "1oJU_vcjvI4-",
        "outputId": "78dbb2e5-0d96-46d8-b9e3-2d6cb1efe3f1"
      },
      "execution_count": null,
      "outputs": [
        {
          "output_type": "stream",
          "name": "stdout",
          "text": [
            "MLP (Grid Search) Val-R2: 0.15712439889640917\n",
            "MLP (Grid Search) Val-RMSE: 2.265736441929389\n",
            "MLP (Grid Search) Val-MAE: 0.5651284381617752\n",
            "MLP (Grid Search) Val-Pearson r: 0.41777960955770205\n"
          ]
        }
      ]
    },
    {
      "cell_type": "markdown",
      "source": [
        "# Decision Tree"
      ],
      "metadata": {
        "id": "qWvBGRjqG6sD"
      }
    },
    {
      "cell_type": "code",
      "source": [
        "DTR = DecisionTreeRegressor(random_state=42)\n",
        "DTR.fit(X_train,Y_train)"
      ],
      "metadata": {
        "colab": {
          "base_uri": "https://localhost:8080/",
          "height": 74
        },
        "id": "yVt34yc4vJ8U",
        "outputId": "d6a3b9a7-f4d9-4f34-95bd-906047991c4f"
      },
      "execution_count": null,
      "outputs": [
        {
          "output_type": "execute_result",
          "data": {
            "text/plain": [
              "DecisionTreeRegressor(random_state=42)"
            ],
            "text/html": [
              "<style>#sk-container-id-1 {color: black;background-color: white;}#sk-container-id-1 pre{padding: 0;}#sk-container-id-1 div.sk-toggleable {background-color: white;}#sk-container-id-1 label.sk-toggleable__label {cursor: pointer;display: block;width: 100%;margin-bottom: 0;padding: 0.3em;box-sizing: border-box;text-align: center;}#sk-container-id-1 label.sk-toggleable__label-arrow:before {content: \"▸\";float: left;margin-right: 0.25em;color: #696969;}#sk-container-id-1 label.sk-toggleable__label-arrow:hover:before {color: black;}#sk-container-id-1 div.sk-estimator:hover label.sk-toggleable__label-arrow:before {color: black;}#sk-container-id-1 div.sk-toggleable__content {max-height: 0;max-width: 0;overflow: hidden;text-align: left;background-color: #f0f8ff;}#sk-container-id-1 div.sk-toggleable__content pre {margin: 0.2em;color: black;border-radius: 0.25em;background-color: #f0f8ff;}#sk-container-id-1 input.sk-toggleable__control:checked~div.sk-toggleable__content {max-height: 200px;max-width: 100%;overflow: auto;}#sk-container-id-1 input.sk-toggleable__control:checked~label.sk-toggleable__label-arrow:before {content: \"▾\";}#sk-container-id-1 div.sk-estimator input.sk-toggleable__control:checked~label.sk-toggleable__label {background-color: #d4ebff;}#sk-container-id-1 div.sk-label input.sk-toggleable__control:checked~label.sk-toggleable__label {background-color: #d4ebff;}#sk-container-id-1 input.sk-hidden--visually {border: 0;clip: rect(1px 1px 1px 1px);clip: rect(1px, 1px, 1px, 1px);height: 1px;margin: -1px;overflow: hidden;padding: 0;position: absolute;width: 1px;}#sk-container-id-1 div.sk-estimator {font-family: monospace;background-color: #f0f8ff;border: 1px dotted black;border-radius: 0.25em;box-sizing: border-box;margin-bottom: 0.5em;}#sk-container-id-1 div.sk-estimator:hover {background-color: #d4ebff;}#sk-container-id-1 div.sk-parallel-item::after {content: \"\";width: 100%;border-bottom: 1px solid gray;flex-grow: 1;}#sk-container-id-1 div.sk-label:hover label.sk-toggleable__label {background-color: #d4ebff;}#sk-container-id-1 div.sk-serial::before {content: \"\";position: absolute;border-left: 1px solid gray;box-sizing: border-box;top: 0;bottom: 0;left: 50%;z-index: 0;}#sk-container-id-1 div.sk-serial {display: flex;flex-direction: column;align-items: center;background-color: white;padding-right: 0.2em;padding-left: 0.2em;position: relative;}#sk-container-id-1 div.sk-item {position: relative;z-index: 1;}#sk-container-id-1 div.sk-parallel {display: flex;align-items: stretch;justify-content: center;background-color: white;position: relative;}#sk-container-id-1 div.sk-item::before, #sk-container-id-1 div.sk-parallel-item::before {content: \"\";position: absolute;border-left: 1px solid gray;box-sizing: border-box;top: 0;bottom: 0;left: 50%;z-index: -1;}#sk-container-id-1 div.sk-parallel-item {display: flex;flex-direction: column;z-index: 1;position: relative;background-color: white;}#sk-container-id-1 div.sk-parallel-item:first-child::after {align-self: flex-end;width: 50%;}#sk-container-id-1 div.sk-parallel-item:last-child::after {align-self: flex-start;width: 50%;}#sk-container-id-1 div.sk-parallel-item:only-child::after {width: 0;}#sk-container-id-1 div.sk-dashed-wrapped {border: 1px dashed gray;margin: 0 0.4em 0.5em 0.4em;box-sizing: border-box;padding-bottom: 0.4em;background-color: white;}#sk-container-id-1 div.sk-label label {font-family: monospace;font-weight: bold;display: inline-block;line-height: 1.2em;}#sk-container-id-1 div.sk-label-container {text-align: center;}#sk-container-id-1 div.sk-container {/* jupyter's `normalize.less` sets `[hidden] { display: none; }` but bootstrap.min.css set `[hidden] { display: none !important; }` so we also need the `!important` here to be able to override the default hidden behavior on the sphinx rendered scikit-learn.org. See: https://github.com/scikit-learn/scikit-learn/issues/21755 */display: inline-block !important;position: relative;}#sk-container-id-1 div.sk-text-repr-fallback {display: none;}</style><div id=\"sk-container-id-1\" class=\"sk-top-container\"><div class=\"sk-text-repr-fallback\"><pre>DecisionTreeRegressor(random_state=42)</pre><b>In a Jupyter environment, please rerun this cell to show the HTML representation or trust the notebook. <br />On GitHub, the HTML representation is unable to render, please try loading this page with nbviewer.org.</b></div><div class=\"sk-container\" hidden><div class=\"sk-item\"><div class=\"sk-estimator sk-toggleable\"><input class=\"sk-toggleable__control sk-hidden--visually\" id=\"sk-estimator-id-1\" type=\"checkbox\" checked><label for=\"sk-estimator-id-1\" class=\"sk-toggleable__label sk-toggleable__label-arrow\">DecisionTreeRegressor</label><div class=\"sk-toggleable__content\"><pre>DecisionTreeRegressor(random_state=42)</pre></div></div></div></div></div>"
            ]
          },
          "metadata": {},
          "execution_count": 17
        }
      ]
    },
    {
      "cell_type": "code",
      "source": [
        "compute_metric('Decision Tree Train', DTR, X_train, Y_train)"
      ],
      "metadata": {
        "colab": {
          "base_uri": "https://localhost:8080/"
        },
        "id": "kUGOSeB3vK2Q",
        "outputId": "1cf11dac-7716-4f7e-92c4-e6e72187d87a"
      },
      "execution_count": null,
      "outputs": [
        {
          "output_type": "stream",
          "name": "stdout",
          "text": [
            "Decision Tree Train-R2: 0.9684114944518379\n",
            "Decision Tree Train-RMSE: 0.41223258847062505\n",
            "Decision Tree Train-MAE: 0.028366282916501253\n",
            "Decision Tree Train-Pearson r: 0.984079008236499\n"
          ]
        }
      ]
    },
    {
      "cell_type": "code",
      "source": [
        "compute_metric('Decision Tree Val', DTR, X_test, Y_test)"
      ],
      "metadata": {
        "colab": {
          "base_uri": "https://localhost:8080/"
        },
        "id": "KWAI4PpfvLxm",
        "outputId": "b042ae4b-01f6-482e-f0cc-117593ba87da"
      },
      "execution_count": null,
      "outputs": [
        {
          "output_type": "stream",
          "name": "stdout",
          "text": [
            "Decision Tree Val-R2: -0.36007111327838826\n",
            "Decision Tree Val-RMSE: 2.8781170814664963\n",
            "Decision Tree Val-MAE: 0.5427645924675627\n",
            "Decision Tree Val-Pearson r: 0.29365994137843526\n"
          ]
        }
      ]
    },
    {
      "cell_type": "code",
      "source": [
        "dt_param_grid = {\"max_depth\" : [1, 5],\n",
        "                 \"min_samples_leaf\":[1, 5],\n",
        "                 \"max_leaf_nodes\":[None, 10] }\n",
        "grid_dt = GridSearchCV(DTR, param_grid=dt_param_grid, cv=3, n_jobs=-1, verbose=1)\n",
        "grid_dt.fit(X_train, Y_train)"
      ],
      "metadata": {
        "colab": {
          "base_uri": "https://localhost:8080/",
          "height": 133
        },
        "id": "AJ7ulbQlvM9s",
        "outputId": "b47ab222-dba7-43ba-be4d-5f2142c37d6a"
      },
      "execution_count": null,
      "outputs": [
        {
          "output_type": "stream",
          "name": "stdout",
          "text": [
            "Fitting 3 folds for each of 8 candidates, totalling 24 fits\n"
          ]
        },
        {
          "output_type": "execute_result",
          "data": {
            "text/plain": [
              "GridSearchCV(cv=3, estimator=DecisionTreeRegressor(random_state=42), n_jobs=-1,\n",
              "             param_grid={'max_depth': [1, 5], 'max_leaf_nodes': [None, 10],\n",
              "                         'min_samples_leaf': [1, 5]},\n",
              "             verbose=1)"
            ],
            "text/html": [
              "<style>#sk-container-id-2 {color: black;background-color: white;}#sk-container-id-2 pre{padding: 0;}#sk-container-id-2 div.sk-toggleable {background-color: white;}#sk-container-id-2 label.sk-toggleable__label {cursor: pointer;display: block;width: 100%;margin-bottom: 0;padding: 0.3em;box-sizing: border-box;text-align: center;}#sk-container-id-2 label.sk-toggleable__label-arrow:before {content: \"▸\";float: left;margin-right: 0.25em;color: #696969;}#sk-container-id-2 label.sk-toggleable__label-arrow:hover:before {color: black;}#sk-container-id-2 div.sk-estimator:hover label.sk-toggleable__label-arrow:before {color: black;}#sk-container-id-2 div.sk-toggleable__content {max-height: 0;max-width: 0;overflow: hidden;text-align: left;background-color: #f0f8ff;}#sk-container-id-2 div.sk-toggleable__content pre {margin: 0.2em;color: black;border-radius: 0.25em;background-color: #f0f8ff;}#sk-container-id-2 input.sk-toggleable__control:checked~div.sk-toggleable__content {max-height: 200px;max-width: 100%;overflow: auto;}#sk-container-id-2 input.sk-toggleable__control:checked~label.sk-toggleable__label-arrow:before {content: \"▾\";}#sk-container-id-2 div.sk-estimator input.sk-toggleable__control:checked~label.sk-toggleable__label {background-color: #d4ebff;}#sk-container-id-2 div.sk-label input.sk-toggleable__control:checked~label.sk-toggleable__label {background-color: #d4ebff;}#sk-container-id-2 input.sk-hidden--visually {border: 0;clip: rect(1px 1px 1px 1px);clip: rect(1px, 1px, 1px, 1px);height: 1px;margin: -1px;overflow: hidden;padding: 0;position: absolute;width: 1px;}#sk-container-id-2 div.sk-estimator {font-family: monospace;background-color: #f0f8ff;border: 1px dotted black;border-radius: 0.25em;box-sizing: border-box;margin-bottom: 0.5em;}#sk-container-id-2 div.sk-estimator:hover {background-color: #d4ebff;}#sk-container-id-2 div.sk-parallel-item::after {content: \"\";width: 100%;border-bottom: 1px solid gray;flex-grow: 1;}#sk-container-id-2 div.sk-label:hover label.sk-toggleable__label {background-color: #d4ebff;}#sk-container-id-2 div.sk-serial::before {content: \"\";position: absolute;border-left: 1px solid gray;box-sizing: border-box;top: 0;bottom: 0;left: 50%;z-index: 0;}#sk-container-id-2 div.sk-serial {display: flex;flex-direction: column;align-items: center;background-color: white;padding-right: 0.2em;padding-left: 0.2em;position: relative;}#sk-container-id-2 div.sk-item {position: relative;z-index: 1;}#sk-container-id-2 div.sk-parallel {display: flex;align-items: stretch;justify-content: center;background-color: white;position: relative;}#sk-container-id-2 div.sk-item::before, #sk-container-id-2 div.sk-parallel-item::before {content: \"\";position: absolute;border-left: 1px solid gray;box-sizing: border-box;top: 0;bottom: 0;left: 50%;z-index: -1;}#sk-container-id-2 div.sk-parallel-item {display: flex;flex-direction: column;z-index: 1;position: relative;background-color: white;}#sk-container-id-2 div.sk-parallel-item:first-child::after {align-self: flex-end;width: 50%;}#sk-container-id-2 div.sk-parallel-item:last-child::after {align-self: flex-start;width: 50%;}#sk-container-id-2 div.sk-parallel-item:only-child::after {width: 0;}#sk-container-id-2 div.sk-dashed-wrapped {border: 1px dashed gray;margin: 0 0.4em 0.5em 0.4em;box-sizing: border-box;padding-bottom: 0.4em;background-color: white;}#sk-container-id-2 div.sk-label label {font-family: monospace;font-weight: bold;display: inline-block;line-height: 1.2em;}#sk-container-id-2 div.sk-label-container {text-align: center;}#sk-container-id-2 div.sk-container {/* jupyter's `normalize.less` sets `[hidden] { display: none; }` but bootstrap.min.css set `[hidden] { display: none !important; }` so we also need the `!important` here to be able to override the default hidden behavior on the sphinx rendered scikit-learn.org. See: https://github.com/scikit-learn/scikit-learn/issues/21755 */display: inline-block !important;position: relative;}#sk-container-id-2 div.sk-text-repr-fallback {display: none;}</style><div id=\"sk-container-id-2\" class=\"sk-top-container\"><div class=\"sk-text-repr-fallback\"><pre>GridSearchCV(cv=3, estimator=DecisionTreeRegressor(random_state=42), n_jobs=-1,\n",
              "             param_grid={&#x27;max_depth&#x27;: [1, 5], &#x27;max_leaf_nodes&#x27;: [None, 10],\n",
              "                         &#x27;min_samples_leaf&#x27;: [1, 5]},\n",
              "             verbose=1)</pre><b>In a Jupyter environment, please rerun this cell to show the HTML representation or trust the notebook. <br />On GitHub, the HTML representation is unable to render, please try loading this page with nbviewer.org.</b></div><div class=\"sk-container\" hidden><div class=\"sk-item sk-dashed-wrapped\"><div class=\"sk-label-container\"><div class=\"sk-label sk-toggleable\"><input class=\"sk-toggleable__control sk-hidden--visually\" id=\"sk-estimator-id-2\" type=\"checkbox\" ><label for=\"sk-estimator-id-2\" class=\"sk-toggleable__label sk-toggleable__label-arrow\">GridSearchCV</label><div class=\"sk-toggleable__content\"><pre>GridSearchCV(cv=3, estimator=DecisionTreeRegressor(random_state=42), n_jobs=-1,\n",
              "             param_grid={&#x27;max_depth&#x27;: [1, 5], &#x27;max_leaf_nodes&#x27;: [None, 10],\n",
              "                         &#x27;min_samples_leaf&#x27;: [1, 5]},\n",
              "             verbose=1)</pre></div></div></div><div class=\"sk-parallel\"><div class=\"sk-parallel-item\"><div class=\"sk-item\"><div class=\"sk-label-container\"><div class=\"sk-label sk-toggleable\"><input class=\"sk-toggleable__control sk-hidden--visually\" id=\"sk-estimator-id-3\" type=\"checkbox\" ><label for=\"sk-estimator-id-3\" class=\"sk-toggleable__label sk-toggleable__label-arrow\">estimator: DecisionTreeRegressor</label><div class=\"sk-toggleable__content\"><pre>DecisionTreeRegressor(random_state=42)</pre></div></div></div><div class=\"sk-serial\"><div class=\"sk-item\"><div class=\"sk-estimator sk-toggleable\"><input class=\"sk-toggleable__control sk-hidden--visually\" id=\"sk-estimator-id-4\" type=\"checkbox\" ><label for=\"sk-estimator-id-4\" class=\"sk-toggleable__label sk-toggleable__label-arrow\">DecisionTreeRegressor</label><div class=\"sk-toggleable__content\"><pre>DecisionTreeRegressor(random_state=42)</pre></div></div></div></div></div></div></div></div></div></div>"
            ]
          },
          "metadata": {},
          "execution_count": 20
        }
      ]
    },
    {
      "cell_type": "code",
      "source": [
        "grid_dt.best_params_"
      ],
      "metadata": {
        "colab": {
          "base_uri": "https://localhost:8080/"
        },
        "id": "12AxU8U9vNxQ",
        "outputId": "38adbfe5-b5da-4e24-d798-e70fd4bcda14"
      },
      "execution_count": null,
      "outputs": [
        {
          "output_type": "execute_result",
          "data": {
            "text/plain": [
              "{'max_depth': 5, 'max_leaf_nodes': None, 'min_samples_leaf': 5}"
            ]
          },
          "metadata": {},
          "execution_count": 21
        }
      ]
    },
    {
      "cell_type": "code",
      "source": [
        "grid_dt = DecisionTreeRegressor(max_depth=5, max_leaf_nodes=None, min_samples_leaf=5,random_state=42)\n",
        "grid_dt.fit(X_train, Y_train)"
      ],
      "metadata": {
        "colab": {
          "base_uri": "https://localhost:8080/",
          "height": 74
        },
        "id": "opVMlKXGvOpU",
        "outputId": "b5741e9e-36dd-4f27-949d-df80a08f8c06"
      },
      "execution_count": null,
      "outputs": [
        {
          "output_type": "execute_result",
          "data": {
            "text/plain": [
              "DecisionTreeRegressor(max_depth=5, min_samples_leaf=5, random_state=42)"
            ],
            "text/html": [
              "<style>#sk-container-id-3 {color: black;background-color: white;}#sk-container-id-3 pre{padding: 0;}#sk-container-id-3 div.sk-toggleable {background-color: white;}#sk-container-id-3 label.sk-toggleable__label {cursor: pointer;display: block;width: 100%;margin-bottom: 0;padding: 0.3em;box-sizing: border-box;text-align: center;}#sk-container-id-3 label.sk-toggleable__label-arrow:before {content: \"▸\";float: left;margin-right: 0.25em;color: #696969;}#sk-container-id-3 label.sk-toggleable__label-arrow:hover:before {color: black;}#sk-container-id-3 div.sk-estimator:hover label.sk-toggleable__label-arrow:before {color: black;}#sk-container-id-3 div.sk-toggleable__content {max-height: 0;max-width: 0;overflow: hidden;text-align: left;background-color: #f0f8ff;}#sk-container-id-3 div.sk-toggleable__content pre {margin: 0.2em;color: black;border-radius: 0.25em;background-color: #f0f8ff;}#sk-container-id-3 input.sk-toggleable__control:checked~div.sk-toggleable__content {max-height: 200px;max-width: 100%;overflow: auto;}#sk-container-id-3 input.sk-toggleable__control:checked~label.sk-toggleable__label-arrow:before {content: \"▾\";}#sk-container-id-3 div.sk-estimator input.sk-toggleable__control:checked~label.sk-toggleable__label {background-color: #d4ebff;}#sk-container-id-3 div.sk-label input.sk-toggleable__control:checked~label.sk-toggleable__label {background-color: #d4ebff;}#sk-container-id-3 input.sk-hidden--visually {border: 0;clip: rect(1px 1px 1px 1px);clip: rect(1px, 1px, 1px, 1px);height: 1px;margin: -1px;overflow: hidden;padding: 0;position: absolute;width: 1px;}#sk-container-id-3 div.sk-estimator {font-family: monospace;background-color: #f0f8ff;border: 1px dotted black;border-radius: 0.25em;box-sizing: border-box;margin-bottom: 0.5em;}#sk-container-id-3 div.sk-estimator:hover {background-color: #d4ebff;}#sk-container-id-3 div.sk-parallel-item::after {content: \"\";width: 100%;border-bottom: 1px solid gray;flex-grow: 1;}#sk-container-id-3 div.sk-label:hover label.sk-toggleable__label {background-color: #d4ebff;}#sk-container-id-3 div.sk-serial::before {content: \"\";position: absolute;border-left: 1px solid gray;box-sizing: border-box;top: 0;bottom: 0;left: 50%;z-index: 0;}#sk-container-id-3 div.sk-serial {display: flex;flex-direction: column;align-items: center;background-color: white;padding-right: 0.2em;padding-left: 0.2em;position: relative;}#sk-container-id-3 div.sk-item {position: relative;z-index: 1;}#sk-container-id-3 div.sk-parallel {display: flex;align-items: stretch;justify-content: center;background-color: white;position: relative;}#sk-container-id-3 div.sk-item::before, #sk-container-id-3 div.sk-parallel-item::before {content: \"\";position: absolute;border-left: 1px solid gray;box-sizing: border-box;top: 0;bottom: 0;left: 50%;z-index: -1;}#sk-container-id-3 div.sk-parallel-item {display: flex;flex-direction: column;z-index: 1;position: relative;background-color: white;}#sk-container-id-3 div.sk-parallel-item:first-child::after {align-self: flex-end;width: 50%;}#sk-container-id-3 div.sk-parallel-item:last-child::after {align-self: flex-start;width: 50%;}#sk-container-id-3 div.sk-parallel-item:only-child::after {width: 0;}#sk-container-id-3 div.sk-dashed-wrapped {border: 1px dashed gray;margin: 0 0.4em 0.5em 0.4em;box-sizing: border-box;padding-bottom: 0.4em;background-color: white;}#sk-container-id-3 div.sk-label label {font-family: monospace;font-weight: bold;display: inline-block;line-height: 1.2em;}#sk-container-id-3 div.sk-label-container {text-align: center;}#sk-container-id-3 div.sk-container {/* jupyter's `normalize.less` sets `[hidden] { display: none; }` but bootstrap.min.css set `[hidden] { display: none !important; }` so we also need the `!important` here to be able to override the default hidden behavior on the sphinx rendered scikit-learn.org. See: https://github.com/scikit-learn/scikit-learn/issues/21755 */display: inline-block !important;position: relative;}#sk-container-id-3 div.sk-text-repr-fallback {display: none;}</style><div id=\"sk-container-id-3\" class=\"sk-top-container\"><div class=\"sk-text-repr-fallback\"><pre>DecisionTreeRegressor(max_depth=5, min_samples_leaf=5, random_state=42)</pre><b>In a Jupyter environment, please rerun this cell to show the HTML representation or trust the notebook. <br />On GitHub, the HTML representation is unable to render, please try loading this page with nbviewer.org.</b></div><div class=\"sk-container\" hidden><div class=\"sk-item\"><div class=\"sk-estimator sk-toggleable\"><input class=\"sk-toggleable__control sk-hidden--visually\" id=\"sk-estimator-id-5\" type=\"checkbox\" checked><label for=\"sk-estimator-id-5\" class=\"sk-toggleable__label sk-toggleable__label-arrow\">DecisionTreeRegressor</label><div class=\"sk-toggleable__content\"><pre>DecisionTreeRegressor(max_depth=5, min_samples_leaf=5, random_state=42)</pre></div></div></div></div></div>"
            ]
          },
          "metadata": {},
          "execution_count": 22
        }
      ]
    },
    {
      "cell_type": "code",
      "source": [
        "compute_metric('Decision Tree (Grid Search) Train', grid_dt, X_train, Y_train)"
      ],
      "metadata": {
        "colab": {
          "base_uri": "https://localhost:8080/"
        },
        "id": "GBmxAOH2vQlH",
        "outputId": "cb706ccb-8efe-46c0-98fb-91fed9ecfac5"
      },
      "execution_count": null,
      "outputs": [
        {
          "output_type": "stream",
          "name": "stdout",
          "text": [
            "Decision Tree (Grid Search) Train-R2: 0.14474152535003348\n",
            "Decision Tree (Grid Search) Train-RMSE: 2.1449959400322123\n",
            "Decision Tree (Grid Search) Train-MAE: 0.535973002653998\n",
            "Decision Tree (Grid Search) Train-Pearson r: 0.380449110066033\n"
          ]
        }
      ]
    },
    {
      "cell_type": "code",
      "source": [
        "compute_metric('Decision Tree (Grid Search) Val', grid_dt, X_test, Y_test)"
      ],
      "metadata": {
        "colab": {
          "base_uri": "https://localhost:8080/"
        },
        "id": "Z2YM0FdSvR5e",
        "outputId": "b7d7eb31-7e49-4eae-b23c-7f6c1f55931a"
      },
      "execution_count": null,
      "outputs": [
        {
          "output_type": "stream",
          "name": "stdout",
          "text": [
            "Decision Tree (Grid Search) Val-R2: 0.11741594645568865\n",
            "Decision Tree (Grid Search) Val-RMSE: 2.3184924546809667\n",
            "Decision Tree (Grid Search) Val-MAE: 0.5648100204597972\n",
            "Decision Tree (Grid Search) Val-Pearson r: 0.3435929433522554\n"
          ]
        }
      ]
    },
    {
      "cell_type": "markdown",
      "source": [
        "# RF"
      ],
      "metadata": {
        "id": "-XKfdVtUG_ac"
      }
    },
    {
      "cell_type": "code",
      "source": [
        "RFR = RandomForestRegressor(random_state=42)\n",
        "RFR.fit(X_train,Y_train)"
      ],
      "metadata": {
        "colab": {
          "base_uri": "https://localhost:8080/",
          "height": 74
        },
        "id": "8398ab6ewlUg",
        "outputId": "8049131c-4a24-4271-cd70-8138555f4418"
      },
      "execution_count": null,
      "outputs": [
        {
          "output_type": "execute_result",
          "data": {
            "text/plain": [
              "RandomForestRegressor(random_state=42)"
            ],
            "text/html": [
              "<style>#sk-container-id-5 {color: black;background-color: white;}#sk-container-id-5 pre{padding: 0;}#sk-container-id-5 div.sk-toggleable {background-color: white;}#sk-container-id-5 label.sk-toggleable__label {cursor: pointer;display: block;width: 100%;margin-bottom: 0;padding: 0.3em;box-sizing: border-box;text-align: center;}#sk-container-id-5 label.sk-toggleable__label-arrow:before {content: \"▸\";float: left;margin-right: 0.25em;color: #696969;}#sk-container-id-5 label.sk-toggleable__label-arrow:hover:before {color: black;}#sk-container-id-5 div.sk-estimator:hover label.sk-toggleable__label-arrow:before {color: black;}#sk-container-id-5 div.sk-toggleable__content {max-height: 0;max-width: 0;overflow: hidden;text-align: left;background-color: #f0f8ff;}#sk-container-id-5 div.sk-toggleable__content pre {margin: 0.2em;color: black;border-radius: 0.25em;background-color: #f0f8ff;}#sk-container-id-5 input.sk-toggleable__control:checked~div.sk-toggleable__content {max-height: 200px;max-width: 100%;overflow: auto;}#sk-container-id-5 input.sk-toggleable__control:checked~label.sk-toggleable__label-arrow:before {content: \"▾\";}#sk-container-id-5 div.sk-estimator input.sk-toggleable__control:checked~label.sk-toggleable__label {background-color: #d4ebff;}#sk-container-id-5 div.sk-label input.sk-toggleable__control:checked~label.sk-toggleable__label {background-color: #d4ebff;}#sk-container-id-5 input.sk-hidden--visually {border: 0;clip: rect(1px 1px 1px 1px);clip: rect(1px, 1px, 1px, 1px);height: 1px;margin: -1px;overflow: hidden;padding: 0;position: absolute;width: 1px;}#sk-container-id-5 div.sk-estimator {font-family: monospace;background-color: #f0f8ff;border: 1px dotted black;border-radius: 0.25em;box-sizing: border-box;margin-bottom: 0.5em;}#sk-container-id-5 div.sk-estimator:hover {background-color: #d4ebff;}#sk-container-id-5 div.sk-parallel-item::after {content: \"\";width: 100%;border-bottom: 1px solid gray;flex-grow: 1;}#sk-container-id-5 div.sk-label:hover label.sk-toggleable__label {background-color: #d4ebff;}#sk-container-id-5 div.sk-serial::before {content: \"\";position: absolute;border-left: 1px solid gray;box-sizing: border-box;top: 0;bottom: 0;left: 50%;z-index: 0;}#sk-container-id-5 div.sk-serial {display: flex;flex-direction: column;align-items: center;background-color: white;padding-right: 0.2em;padding-left: 0.2em;position: relative;}#sk-container-id-5 div.sk-item {position: relative;z-index: 1;}#sk-container-id-5 div.sk-parallel {display: flex;align-items: stretch;justify-content: center;background-color: white;position: relative;}#sk-container-id-5 div.sk-item::before, #sk-container-id-5 div.sk-parallel-item::before {content: \"\";position: absolute;border-left: 1px solid gray;box-sizing: border-box;top: 0;bottom: 0;left: 50%;z-index: -1;}#sk-container-id-5 div.sk-parallel-item {display: flex;flex-direction: column;z-index: 1;position: relative;background-color: white;}#sk-container-id-5 div.sk-parallel-item:first-child::after {align-self: flex-end;width: 50%;}#sk-container-id-5 div.sk-parallel-item:last-child::after {align-self: flex-start;width: 50%;}#sk-container-id-5 div.sk-parallel-item:only-child::after {width: 0;}#sk-container-id-5 div.sk-dashed-wrapped {border: 1px dashed gray;margin: 0 0.4em 0.5em 0.4em;box-sizing: border-box;padding-bottom: 0.4em;background-color: white;}#sk-container-id-5 div.sk-label label {font-family: monospace;font-weight: bold;display: inline-block;line-height: 1.2em;}#sk-container-id-5 div.sk-label-container {text-align: center;}#sk-container-id-5 div.sk-container {/* jupyter's `normalize.less` sets `[hidden] { display: none; }` but bootstrap.min.css set `[hidden] { display: none !important; }` so we also need the `!important` here to be able to override the default hidden behavior on the sphinx rendered scikit-learn.org. See: https://github.com/scikit-learn/scikit-learn/issues/21755 */display: inline-block !important;position: relative;}#sk-container-id-5 div.sk-text-repr-fallback {display: none;}</style><div id=\"sk-container-id-5\" class=\"sk-top-container\"><div class=\"sk-text-repr-fallback\"><pre>RandomForestRegressor(random_state=42)</pre><b>In a Jupyter environment, please rerun this cell to show the HTML representation or trust the notebook. <br />On GitHub, the HTML representation is unable to render, please try loading this page with nbviewer.org.</b></div><div class=\"sk-container\" hidden><div class=\"sk-item\"><div class=\"sk-estimator sk-toggleable\"><input class=\"sk-toggleable__control sk-hidden--visually\" id=\"sk-estimator-id-7\" type=\"checkbox\" checked><label for=\"sk-estimator-id-7\" class=\"sk-toggleable__label sk-toggleable__label-arrow\">RandomForestRegressor</label><div class=\"sk-toggleable__content\"><pre>RandomForestRegressor(random_state=42)</pre></div></div></div></div></div>"
            ]
          },
          "metadata": {},
          "execution_count": 33
        }
      ]
    },
    {
      "cell_type": "code",
      "source": [
        "compute_metric('Random Forest Train', RFR, X_train, Y_train)"
      ],
      "metadata": {
        "colab": {
          "base_uri": "https://localhost:8080/"
        },
        "id": "Qxcs65YBGlHZ",
        "outputId": "195e6e13-37a5-44aa-f88a-d1e4f493c630"
      },
      "execution_count": null,
      "outputs": [
        {
          "output_type": "stream",
          "name": "stdout",
          "text": [
            "Random Forest Train-R2: 0.8738606604937416\n",
            "Random Forest Train-RMSE: 0.8237644725138094\n",
            "Random Forest Train-MAE: 0.18628044601493615\n",
            "Random Forest Train-Pearson r: 0.9561961076566089\n"
          ]
        }
      ]
    },
    {
      "cell_type": "code",
      "source": [
        "compute_metric('Random Forest Val', RFR, X_test, Y_test)"
      ],
      "metadata": {
        "colab": {
          "base_uri": "https://localhost:8080/"
        },
        "id": "J3sbYHzlGm4D",
        "outputId": "7f4f7506-ad4c-4e54-89da-2062070c25e0"
      },
      "execution_count": null,
      "outputs": [
        {
          "output_type": "stream",
          "name": "stdout",
          "text": [
            "Random Forest Val-R2: 0.25082464676959737\n",
            "Random Forest Val-RMSE: 2.1360892249288015\n",
            "Random Forest Val-MAE: 0.48800034586158353\n",
            "Random Forest Val-Pearson r: 0.5021140394758469\n"
          ]
        }
      ]
    },
    {
      "cell_type": "code",
      "source": [
        "rfr_param_grid = {'max_depth': [3, 7, None],\n",
        "                 'min_samples_split': [2, 5, 10],\n",
        "                 'n_estimators': [100, 200]}\n",
        "grid_rfr = GridSearchCV(rfr, param_grid=rfr_param_grid, cv=3, n_jobs=-1, verbose=1)\n",
        "grid_rfr.fit(X_train, Y_train)"
      ],
      "metadata": {
        "id": "JDh-wRmNRHp0"
      },
      "execution_count": null,
      "outputs": []
    },
    {
      "cell_type": "code",
      "source": [
        "rfr_param_grid.best_params_"
      ],
      "metadata": {
        "id": "a5UAUsZYRSMu"
      },
      "execution_count": null,
      "outputs": []
    },
    {
      "cell_type": "code",
      "source": [
        "grid_rfr = RandomForestRegressor(max_depth = None, n_estimators = 200, min_samples_leaf = 2, random_state=42)\n",
        "grid_rfr.fit(X_train, Y_train)"
      ],
      "metadata": {
        "colab": {
          "base_uri": "https://localhost:8080/",
          "height": 74
        },
        "id": "gCL09QWQvSjS",
        "outputId": "96962cae-b530-4a14-b334-15f65a35b2af"
      },
      "execution_count": null,
      "outputs": [
        {
          "output_type": "execute_result",
          "data": {
            "text/plain": [
              "RandomForestRegressor(min_samples_leaf=2, n_estimators=200, random_state=42)"
            ],
            "text/html": [
              "<style>#sk-container-id-6 {color: black;background-color: white;}#sk-container-id-6 pre{padding: 0;}#sk-container-id-6 div.sk-toggleable {background-color: white;}#sk-container-id-6 label.sk-toggleable__label {cursor: pointer;display: block;width: 100%;margin-bottom: 0;padding: 0.3em;box-sizing: border-box;text-align: center;}#sk-container-id-6 label.sk-toggleable__label-arrow:before {content: \"▸\";float: left;margin-right: 0.25em;color: #696969;}#sk-container-id-6 label.sk-toggleable__label-arrow:hover:before {color: black;}#sk-container-id-6 div.sk-estimator:hover label.sk-toggleable__label-arrow:before {color: black;}#sk-container-id-6 div.sk-toggleable__content {max-height: 0;max-width: 0;overflow: hidden;text-align: left;background-color: #f0f8ff;}#sk-container-id-6 div.sk-toggleable__content pre {margin: 0.2em;color: black;border-radius: 0.25em;background-color: #f0f8ff;}#sk-container-id-6 input.sk-toggleable__control:checked~div.sk-toggleable__content {max-height: 200px;max-width: 100%;overflow: auto;}#sk-container-id-6 input.sk-toggleable__control:checked~label.sk-toggleable__label-arrow:before {content: \"▾\";}#sk-container-id-6 div.sk-estimator input.sk-toggleable__control:checked~label.sk-toggleable__label {background-color: #d4ebff;}#sk-container-id-6 div.sk-label input.sk-toggleable__control:checked~label.sk-toggleable__label {background-color: #d4ebff;}#sk-container-id-6 input.sk-hidden--visually {border: 0;clip: rect(1px 1px 1px 1px);clip: rect(1px, 1px, 1px, 1px);height: 1px;margin: -1px;overflow: hidden;padding: 0;position: absolute;width: 1px;}#sk-container-id-6 div.sk-estimator {font-family: monospace;background-color: #f0f8ff;border: 1px dotted black;border-radius: 0.25em;box-sizing: border-box;margin-bottom: 0.5em;}#sk-container-id-6 div.sk-estimator:hover {background-color: #d4ebff;}#sk-container-id-6 div.sk-parallel-item::after {content: \"\";width: 100%;border-bottom: 1px solid gray;flex-grow: 1;}#sk-container-id-6 div.sk-label:hover label.sk-toggleable__label {background-color: #d4ebff;}#sk-container-id-6 div.sk-serial::before {content: \"\";position: absolute;border-left: 1px solid gray;box-sizing: border-box;top: 0;bottom: 0;left: 50%;z-index: 0;}#sk-container-id-6 div.sk-serial {display: flex;flex-direction: column;align-items: center;background-color: white;padding-right: 0.2em;padding-left: 0.2em;position: relative;}#sk-container-id-6 div.sk-item {position: relative;z-index: 1;}#sk-container-id-6 div.sk-parallel {display: flex;align-items: stretch;justify-content: center;background-color: white;position: relative;}#sk-container-id-6 div.sk-item::before, #sk-container-id-6 div.sk-parallel-item::before {content: \"\";position: absolute;border-left: 1px solid gray;box-sizing: border-box;top: 0;bottom: 0;left: 50%;z-index: -1;}#sk-container-id-6 div.sk-parallel-item {display: flex;flex-direction: column;z-index: 1;position: relative;background-color: white;}#sk-container-id-6 div.sk-parallel-item:first-child::after {align-self: flex-end;width: 50%;}#sk-container-id-6 div.sk-parallel-item:last-child::after {align-self: flex-start;width: 50%;}#sk-container-id-6 div.sk-parallel-item:only-child::after {width: 0;}#sk-container-id-6 div.sk-dashed-wrapped {border: 1px dashed gray;margin: 0 0.4em 0.5em 0.4em;box-sizing: border-box;padding-bottom: 0.4em;background-color: white;}#sk-container-id-6 div.sk-label label {font-family: monospace;font-weight: bold;display: inline-block;line-height: 1.2em;}#sk-container-id-6 div.sk-label-container {text-align: center;}#sk-container-id-6 div.sk-container {/* jupyter's `normalize.less` sets `[hidden] { display: none; }` but bootstrap.min.css set `[hidden] { display: none !important; }` so we also need the `!important` here to be able to override the default hidden behavior on the sphinx rendered scikit-learn.org. See: https://github.com/scikit-learn/scikit-learn/issues/21755 */display: inline-block !important;position: relative;}#sk-container-id-6 div.sk-text-repr-fallback {display: none;}</style><div id=\"sk-container-id-6\" class=\"sk-top-container\"><div class=\"sk-text-repr-fallback\"><pre>RandomForestRegressor(min_samples_leaf=2, n_estimators=200, random_state=42)</pre><b>In a Jupyter environment, please rerun this cell to show the HTML representation or trust the notebook. <br />On GitHub, the HTML representation is unable to render, please try loading this page with nbviewer.org.</b></div><div class=\"sk-container\" hidden><div class=\"sk-item\"><div class=\"sk-estimator sk-toggleable\"><input class=\"sk-toggleable__control sk-hidden--visually\" id=\"sk-estimator-id-8\" type=\"checkbox\" checked><label for=\"sk-estimator-id-8\" class=\"sk-toggleable__label sk-toggleable__label-arrow\">RandomForestRegressor</label><div class=\"sk-toggleable__content\"><pre>RandomForestRegressor(min_samples_leaf=2, n_estimators=200, random_state=42)</pre></div></div></div></div></div>"
            ]
          },
          "metadata": {},
          "execution_count": 36
        }
      ]
    },
    {
      "cell_type": "code",
      "source": [
        "compute_metric('Random Forest (Grid Search) Train', grid_rfr, X_train, Y_train)"
      ],
      "metadata": {
        "colab": {
          "base_uri": "https://localhost:8080/"
        },
        "id": "Ua80t0-ivT-J",
        "outputId": "ce594465-7c15-40a8-8997-e6c8f605c56c"
      },
      "execution_count": null,
      "outputs": [
        {
          "output_type": "stream",
          "name": "stdout",
          "text": [
            "Random Forest (Grid Search) Train-R2: 0.7563374135621393\n",
            "Random Forest (Grid Search) Train-RMSE: 1.1449122610156872\n",
            "Random Forest (Grid Search) Train-MAE: 0.25283045582054575\n",
            "Random Forest (Grid Search) Train-Pearson r: 0.9059481362678952\n"
          ]
        }
      ]
    },
    {
      "cell_type": "code",
      "source": [
        "compute_metric('Random Forest (Grid Search) Test', grid_rfr, X_test, Y_test)"
      ],
      "metadata": {
        "colab": {
          "base_uri": "https://localhost:8080/"
        },
        "id": "xYPrIkmtvVLp",
        "outputId": "8f4ce936-f32a-44b3-e0aa-b32204f8d38a"
      },
      "execution_count": null,
      "outputs": [
        {
          "output_type": "stream",
          "name": "stdout",
          "text": [
            "Random Forest (Grid Search) Test-R2: 0.25654370944187144\n",
            "Random Forest (Grid Search) Test-RMSE: 2.1279203549916703\n",
            "Random Forest (Grid Search) Test-MAE: 0.48674233971590597\n",
            "Random Forest (Grid Search) Test-Pearson r: 0.5065772251941677\n"
          ]
        }
      ]
    },
    {
      "cell_type": "code",
      "source": [
        "print(f'IMERG-R2:', r2_score(Y_test, IMERG_test))\n",
        "print(f'RMSE:',mean_squared_error(Y_test, IMERG_test, squared=False))\n",
        "print(f'MAE:',mean_absolute_error(Y_test,IMERG_test))\n",
        "print(f'Pearson r:', stats.pearsonr(Y_test, IMERG_test)[0])"
      ],
      "metadata": {
        "colab": {
          "base_uri": "https://localhost:8080/"
        },
        "id": "Yfo34oszvWTg",
        "outputId": "a4478b8d-15c1-4810-87fb-fc75c1bad256"
      },
      "execution_count": null,
      "outputs": [
        {
          "output_type": "stream",
          "name": "stdout",
          "text": [
            "IMERG-R2: -2.0165358931165973\n",
            "RMSE: 4.286293417706298\n",
            "MAE: 0.9819358930707369\n",
            "Pearson r: 0.2530627721247858\n"
          ]
        }
      ]
    },
    {
      "cell_type": "markdown",
      "source": [
        "# XGB"
      ],
      "metadata": {
        "id": "n8F7HGcmHCUA"
      }
    },
    {
      "cell_type": "code",
      "source": [
        "XGB = XGBRegressor(random_state=42)\n",
        "XGB.fit(X_train,Y_train)"
      ],
      "metadata": {
        "colab": {
          "base_uri": "https://localhost:8080/",
          "height": 248
        },
        "id": "Bz746lPIvdQX",
        "outputId": "edb5ead6-2475-4486-ece3-63a6d89c2899"
      },
      "execution_count": null,
      "outputs": [
        {
          "output_type": "execute_result",
          "data": {
            "text/plain": [
              "XGBRegressor(base_score=None, booster=None, callbacks=None,\n",
              "             colsample_bylevel=None, colsample_bynode=None,\n",
              "             colsample_bytree=None, early_stopping_rounds=None,\n",
              "             enable_categorical=False, eval_metric=None, feature_types=None,\n",
              "             gamma=None, gpu_id=None, grow_policy=None, importance_type=None,\n",
              "             interaction_constraints=None, learning_rate=None, max_bin=None,\n",
              "             max_cat_threshold=None, max_cat_to_onehot=None,\n",
              "             max_delta_step=None, max_depth=None, max_leaves=None,\n",
              "             min_child_weight=None, missing=nan, monotone_constraints=None,\n",
              "             n_estimators=100, n_jobs=None, num_parallel_tree=None,\n",
              "             predictor=None, random_state=42, ...)"
            ],
            "text/html": [
              "<style>#sk-container-id-7 {color: black;background-color: white;}#sk-container-id-7 pre{padding: 0;}#sk-container-id-7 div.sk-toggleable {background-color: white;}#sk-container-id-7 label.sk-toggleable__label {cursor: pointer;display: block;width: 100%;margin-bottom: 0;padding: 0.3em;box-sizing: border-box;text-align: center;}#sk-container-id-7 label.sk-toggleable__label-arrow:before {content: \"▸\";float: left;margin-right: 0.25em;color: #696969;}#sk-container-id-7 label.sk-toggleable__label-arrow:hover:before {color: black;}#sk-container-id-7 div.sk-estimator:hover label.sk-toggleable__label-arrow:before {color: black;}#sk-container-id-7 div.sk-toggleable__content {max-height: 0;max-width: 0;overflow: hidden;text-align: left;background-color: #f0f8ff;}#sk-container-id-7 div.sk-toggleable__content pre {margin: 0.2em;color: black;border-radius: 0.25em;background-color: #f0f8ff;}#sk-container-id-7 input.sk-toggleable__control:checked~div.sk-toggleable__content {max-height: 200px;max-width: 100%;overflow: auto;}#sk-container-id-7 input.sk-toggleable__control:checked~label.sk-toggleable__label-arrow:before {content: \"▾\";}#sk-container-id-7 div.sk-estimator input.sk-toggleable__control:checked~label.sk-toggleable__label {background-color: #d4ebff;}#sk-container-id-7 div.sk-label input.sk-toggleable__control:checked~label.sk-toggleable__label {background-color: #d4ebff;}#sk-container-id-7 input.sk-hidden--visually {border: 0;clip: rect(1px 1px 1px 1px);clip: rect(1px, 1px, 1px, 1px);height: 1px;margin: -1px;overflow: hidden;padding: 0;position: absolute;width: 1px;}#sk-container-id-7 div.sk-estimator {font-family: monospace;background-color: #f0f8ff;border: 1px dotted black;border-radius: 0.25em;box-sizing: border-box;margin-bottom: 0.5em;}#sk-container-id-7 div.sk-estimator:hover {background-color: #d4ebff;}#sk-container-id-7 div.sk-parallel-item::after {content: \"\";width: 100%;border-bottom: 1px solid gray;flex-grow: 1;}#sk-container-id-7 div.sk-label:hover label.sk-toggleable__label {background-color: #d4ebff;}#sk-container-id-7 div.sk-serial::before {content: \"\";position: absolute;border-left: 1px solid gray;box-sizing: border-box;top: 0;bottom: 0;left: 50%;z-index: 0;}#sk-container-id-7 div.sk-serial {display: flex;flex-direction: column;align-items: center;background-color: white;padding-right: 0.2em;padding-left: 0.2em;position: relative;}#sk-container-id-7 div.sk-item {position: relative;z-index: 1;}#sk-container-id-7 div.sk-parallel {display: flex;align-items: stretch;justify-content: center;background-color: white;position: relative;}#sk-container-id-7 div.sk-item::before, #sk-container-id-7 div.sk-parallel-item::before {content: \"\";position: absolute;border-left: 1px solid gray;box-sizing: border-box;top: 0;bottom: 0;left: 50%;z-index: -1;}#sk-container-id-7 div.sk-parallel-item {display: flex;flex-direction: column;z-index: 1;position: relative;background-color: white;}#sk-container-id-7 div.sk-parallel-item:first-child::after {align-self: flex-end;width: 50%;}#sk-container-id-7 div.sk-parallel-item:last-child::after {align-self: flex-start;width: 50%;}#sk-container-id-7 div.sk-parallel-item:only-child::after {width: 0;}#sk-container-id-7 div.sk-dashed-wrapped {border: 1px dashed gray;margin: 0 0.4em 0.5em 0.4em;box-sizing: border-box;padding-bottom: 0.4em;background-color: white;}#sk-container-id-7 div.sk-label label {font-family: monospace;font-weight: bold;display: inline-block;line-height: 1.2em;}#sk-container-id-7 div.sk-label-container {text-align: center;}#sk-container-id-7 div.sk-container {/* jupyter's `normalize.less` sets `[hidden] { display: none; }` but bootstrap.min.css set `[hidden] { display: none !important; }` so we also need the `!important` here to be able to override the default hidden behavior on the sphinx rendered scikit-learn.org. See: https://github.com/scikit-learn/scikit-learn/issues/21755 */display: inline-block !important;position: relative;}#sk-container-id-7 div.sk-text-repr-fallback {display: none;}</style><div id=\"sk-container-id-7\" class=\"sk-top-container\"><div class=\"sk-text-repr-fallback\"><pre>XGBRegressor(base_score=None, booster=None, callbacks=None,\n",
              "             colsample_bylevel=None, colsample_bynode=None,\n",
              "             colsample_bytree=None, early_stopping_rounds=None,\n",
              "             enable_categorical=False, eval_metric=None, feature_types=None,\n",
              "             gamma=None, gpu_id=None, grow_policy=None, importance_type=None,\n",
              "             interaction_constraints=None, learning_rate=None, max_bin=None,\n",
              "             max_cat_threshold=None, max_cat_to_onehot=None,\n",
              "             max_delta_step=None, max_depth=None, max_leaves=None,\n",
              "             min_child_weight=None, missing=nan, monotone_constraints=None,\n",
              "             n_estimators=100, n_jobs=None, num_parallel_tree=None,\n",
              "             predictor=None, random_state=42, ...)</pre><b>In a Jupyter environment, please rerun this cell to show the HTML representation or trust the notebook. <br />On GitHub, the HTML representation is unable to render, please try loading this page with nbviewer.org.</b></div><div class=\"sk-container\" hidden><div class=\"sk-item\"><div class=\"sk-estimator sk-toggleable\"><input class=\"sk-toggleable__control sk-hidden--visually\" id=\"sk-estimator-id-9\" type=\"checkbox\" checked><label for=\"sk-estimator-id-9\" class=\"sk-toggleable__label sk-toggleable__label-arrow\">XGBRegressor</label><div class=\"sk-toggleable__content\"><pre>XGBRegressor(base_score=None, booster=None, callbacks=None,\n",
              "             colsample_bylevel=None, colsample_bynode=None,\n",
              "             colsample_bytree=None, early_stopping_rounds=None,\n",
              "             enable_categorical=False, eval_metric=None, feature_types=None,\n",
              "             gamma=None, gpu_id=None, grow_policy=None, importance_type=None,\n",
              "             interaction_constraints=None, learning_rate=None, max_bin=None,\n",
              "             max_cat_threshold=None, max_cat_to_onehot=None,\n",
              "             max_delta_step=None, max_depth=None, max_leaves=None,\n",
              "             min_child_weight=None, missing=nan, monotone_constraints=None,\n",
              "             n_estimators=100, n_jobs=None, num_parallel_tree=None,\n",
              "             predictor=None, random_state=42, ...)</pre></div></div></div></div></div>"
            ]
          },
          "metadata": {},
          "execution_count": 40
        }
      ]
    },
    {
      "cell_type": "code",
      "source": [
        "compute_metric('XGBoost Regressor Train', XGB, X_train, Y_train)"
      ],
      "metadata": {
        "colab": {
          "base_uri": "https://localhost:8080/"
        },
        "id": "mYQW_9gEveaU",
        "outputId": "6b75e5a1-3057-485c-a21b-f906b55d53e3"
      },
      "execution_count": null,
      "outputs": [
        {
          "output_type": "stream",
          "name": "stdout",
          "text": [
            "XGBoost Regressor Train-R2: 0.5872948548386365\n",
            "XGBoost Regressor Train-RMSE: 1.4900392994887557\n",
            "XGBoost Regressor Train-MAE: 0.40255741747656754\n",
            "XGBoost Regressor Train-Pearson r: 0.785257482298183\n"
          ]
        }
      ]
    },
    {
      "cell_type": "code",
      "source": [
        "compute_metric('XGBoost Regressor Val', XGB, X_test, Y_test)"
      ],
      "metadata": {
        "colab": {
          "base_uri": "https://localhost:8080/"
        },
        "id": "qCKHUw_FvgJs",
        "outputId": "bea6b3aa-da78-41f6-932b-316b04471f6e"
      },
      "execution_count": null,
      "outputs": [
        {
          "output_type": "stream",
          "name": "stdout",
          "text": [
            "XGBoost Regressor Val-R2: 0.21043648298728124\n",
            "XGBoost Regressor Val-RMSE: 2.1929119041374103\n",
            "XGBoost Regressor Val-MAE: 0.5228167499905918\n",
            "XGBoost Regressor Val-Pearson r: 0.46156999399331844\n"
          ]
        }
      ]
    },
    {
      "cell_type": "code",
      "source": [
        "xgb_param_grid = {\"learning_rate\"    : [0.01, 0.10] ,\n",
        "                  \"max_depth\"        : [6, 10, 15],\n",
        "                  \"min_child_weight\" : [1, 5],\n",
        "                  \"n_estimators\"     : [100, 200]}\n",
        "grid_xgb = GridSearchCV(XGB, param_grid=xgb_param_grid, cv=3, n_jobs=-1, verbose=1)\n",
        "grid_xgb.fit(X_train, Y_train)"
      ],
      "metadata": {
        "id": "m4QVFyEfRYK8"
      },
      "execution_count": null,
      "outputs": []
    },
    {
      "cell_type": "code",
      "source": [
        "grid_xgb.best_params_"
      ],
      "metadata": {
        "id": "7mcz3OPVRfnB"
      },
      "execution_count": null,
      "outputs": []
    },
    {
      "cell_type": "code",
      "source": [
        "grid_xgb = XGBRegressor(max_depth = 15, learning_rate = 0.1, min_child_weight = 5, n_estimators = 200, random_state=42)\n",
        "grid_xgb.fit(X_train, Y_train)"
      ],
      "metadata": {
        "colab": {
          "base_uri": "https://localhost:8080/",
          "height": 248
        },
        "id": "wqRXOvWqvi0l",
        "outputId": "6cd00889-9127-41d2-f699-253c04dd86f6"
      },
      "execution_count": null,
      "outputs": [
        {
          "output_type": "execute_result",
          "data": {
            "text/plain": [
              "XGBRegressor(base_score=None, booster=None, callbacks=None,\n",
              "             colsample_bylevel=None, colsample_bynode=None,\n",
              "             colsample_bytree=None, early_stopping_rounds=None,\n",
              "             enable_categorical=False, eval_metric=None, feature_types=None,\n",
              "             gamma=None, gpu_id=None, grow_policy=None, importance_type=None,\n",
              "             interaction_constraints=None, learning_rate=0.1, max_bin=None,\n",
              "             max_cat_threshold=None, max_cat_to_onehot=None,\n",
              "             max_delta_step=None, max_depth=15, max_leaves=None,\n",
              "             min_child_weight=5, missing=nan, monotone_constraints=None,\n",
              "             n_estimators=200, n_jobs=None, num_parallel_tree=None,\n",
              "             predictor=None, random_state=42, ...)"
            ],
            "text/html": [
              "<style>#sk-container-id-8 {color: black;background-color: white;}#sk-container-id-8 pre{padding: 0;}#sk-container-id-8 div.sk-toggleable {background-color: white;}#sk-container-id-8 label.sk-toggleable__label {cursor: pointer;display: block;width: 100%;margin-bottom: 0;padding: 0.3em;box-sizing: border-box;text-align: center;}#sk-container-id-8 label.sk-toggleable__label-arrow:before {content: \"▸\";float: left;margin-right: 0.25em;color: #696969;}#sk-container-id-8 label.sk-toggleable__label-arrow:hover:before {color: black;}#sk-container-id-8 div.sk-estimator:hover label.sk-toggleable__label-arrow:before {color: black;}#sk-container-id-8 div.sk-toggleable__content {max-height: 0;max-width: 0;overflow: hidden;text-align: left;background-color: #f0f8ff;}#sk-container-id-8 div.sk-toggleable__content pre {margin: 0.2em;color: black;border-radius: 0.25em;background-color: #f0f8ff;}#sk-container-id-8 input.sk-toggleable__control:checked~div.sk-toggleable__content {max-height: 200px;max-width: 100%;overflow: auto;}#sk-container-id-8 input.sk-toggleable__control:checked~label.sk-toggleable__label-arrow:before {content: \"▾\";}#sk-container-id-8 div.sk-estimator input.sk-toggleable__control:checked~label.sk-toggleable__label {background-color: #d4ebff;}#sk-container-id-8 div.sk-label input.sk-toggleable__control:checked~label.sk-toggleable__label {background-color: #d4ebff;}#sk-container-id-8 input.sk-hidden--visually {border: 0;clip: rect(1px 1px 1px 1px);clip: rect(1px, 1px, 1px, 1px);height: 1px;margin: -1px;overflow: hidden;padding: 0;position: absolute;width: 1px;}#sk-container-id-8 div.sk-estimator {font-family: monospace;background-color: #f0f8ff;border: 1px dotted black;border-radius: 0.25em;box-sizing: border-box;margin-bottom: 0.5em;}#sk-container-id-8 div.sk-estimator:hover {background-color: #d4ebff;}#sk-container-id-8 div.sk-parallel-item::after {content: \"\";width: 100%;border-bottom: 1px solid gray;flex-grow: 1;}#sk-container-id-8 div.sk-label:hover label.sk-toggleable__label {background-color: #d4ebff;}#sk-container-id-8 div.sk-serial::before {content: \"\";position: absolute;border-left: 1px solid gray;box-sizing: border-box;top: 0;bottom: 0;left: 50%;z-index: 0;}#sk-container-id-8 div.sk-serial {display: flex;flex-direction: column;align-items: center;background-color: white;padding-right: 0.2em;padding-left: 0.2em;position: relative;}#sk-container-id-8 div.sk-item {position: relative;z-index: 1;}#sk-container-id-8 div.sk-parallel {display: flex;align-items: stretch;justify-content: center;background-color: white;position: relative;}#sk-container-id-8 div.sk-item::before, #sk-container-id-8 div.sk-parallel-item::before {content: \"\";position: absolute;border-left: 1px solid gray;box-sizing: border-box;top: 0;bottom: 0;left: 50%;z-index: -1;}#sk-container-id-8 div.sk-parallel-item {display: flex;flex-direction: column;z-index: 1;position: relative;background-color: white;}#sk-container-id-8 div.sk-parallel-item:first-child::after {align-self: flex-end;width: 50%;}#sk-container-id-8 div.sk-parallel-item:last-child::after {align-self: flex-start;width: 50%;}#sk-container-id-8 div.sk-parallel-item:only-child::after {width: 0;}#sk-container-id-8 div.sk-dashed-wrapped {border: 1px dashed gray;margin: 0 0.4em 0.5em 0.4em;box-sizing: border-box;padding-bottom: 0.4em;background-color: white;}#sk-container-id-8 div.sk-label label {font-family: monospace;font-weight: bold;display: inline-block;line-height: 1.2em;}#sk-container-id-8 div.sk-label-container {text-align: center;}#sk-container-id-8 div.sk-container {/* jupyter's `normalize.less` sets `[hidden] { display: none; }` but bootstrap.min.css set `[hidden] { display: none !important; }` so we also need the `!important` here to be able to override the default hidden behavior on the sphinx rendered scikit-learn.org. See: https://github.com/scikit-learn/scikit-learn/issues/21755 */display: inline-block !important;position: relative;}#sk-container-id-8 div.sk-text-repr-fallback {display: none;}</style><div id=\"sk-container-id-8\" class=\"sk-top-container\"><div class=\"sk-text-repr-fallback\"><pre>XGBRegressor(base_score=None, booster=None, callbacks=None,\n",
              "             colsample_bylevel=None, colsample_bynode=None,\n",
              "             colsample_bytree=None, early_stopping_rounds=None,\n",
              "             enable_categorical=False, eval_metric=None, feature_types=None,\n",
              "             gamma=None, gpu_id=None, grow_policy=None, importance_type=None,\n",
              "             interaction_constraints=None, learning_rate=0.1, max_bin=None,\n",
              "             max_cat_threshold=None, max_cat_to_onehot=None,\n",
              "             max_delta_step=None, max_depth=15, max_leaves=None,\n",
              "             min_child_weight=5, missing=nan, monotone_constraints=None,\n",
              "             n_estimators=200, n_jobs=None, num_parallel_tree=None,\n",
              "             predictor=None, random_state=42, ...)</pre><b>In a Jupyter environment, please rerun this cell to show the HTML representation or trust the notebook. <br />On GitHub, the HTML representation is unable to render, please try loading this page with nbviewer.org.</b></div><div class=\"sk-container\" hidden><div class=\"sk-item\"><div class=\"sk-estimator sk-toggleable\"><input class=\"sk-toggleable__control sk-hidden--visually\" id=\"sk-estimator-id-10\" type=\"checkbox\" checked><label for=\"sk-estimator-id-10\" class=\"sk-toggleable__label sk-toggleable__label-arrow\">XGBRegressor</label><div class=\"sk-toggleable__content\"><pre>XGBRegressor(base_score=None, booster=None, callbacks=None,\n",
              "             colsample_bylevel=None, colsample_bynode=None,\n",
              "             colsample_bytree=None, early_stopping_rounds=None,\n",
              "             enable_categorical=False, eval_metric=None, feature_types=None,\n",
              "             gamma=None, gpu_id=None, grow_policy=None, importance_type=None,\n",
              "             interaction_constraints=None, learning_rate=0.1, max_bin=None,\n",
              "             max_cat_threshold=None, max_cat_to_onehot=None,\n",
              "             max_delta_step=None, max_depth=15, max_leaves=None,\n",
              "             min_child_weight=5, missing=nan, monotone_constraints=None,\n",
              "             n_estimators=200, n_jobs=None, num_parallel_tree=None,\n",
              "             predictor=None, random_state=42, ...)</pre></div></div></div></div></div>"
            ]
          },
          "metadata": {},
          "execution_count": 44
        }
      ]
    },
    {
      "cell_type": "code",
      "source": [
        "compute_metric('XGBoost Regressor (Grid Search) Train', grid_xgb, X_train, Y_train)"
      ],
      "metadata": {
        "colab": {
          "base_uri": "https://localhost:8080/"
        },
        "id": "MYJoaW8Avj88",
        "outputId": "533a4ef8-dced-4cbf-f83d-470e93029733"
      },
      "execution_count": null,
      "outputs": [
        {
          "output_type": "stream",
          "name": "stdout",
          "text": [
            "XGBoost Regressor (Grid Search) Train-R2: 0.8805596853399469\n",
            "XGBoost Regressor (Grid Search) Train-RMSE: 0.8015917721985292\n",
            "XGBoost Regressor (Grid Search) Train-MAE: 0.20653160705656515\n",
            "XGBoost Regressor (Grid Search) Train-Pearson r: 0.9470107833537529\n"
          ]
        }
      ]
    },
    {
      "cell_type": "code",
      "source": [
        "compute_metric('XGBoost Regressor (Grid Search) Val', grid_xgb, X_test, Y_test)"
      ],
      "metadata": {
        "colab": {
          "base_uri": "https://localhost:8080/"
        },
        "id": "FyH_gWwsvlgC",
        "outputId": "5e9075bf-5b2f-425c-b9b2-83e91e07e393"
      },
      "execution_count": null,
      "outputs": [
        {
          "output_type": "stream",
          "name": "stdout",
          "text": [
            "XGBoost Regressor (Grid Search) Val-R2: 0.2440363222492986\n",
            "XGBoost Regressor (Grid Search) Val-RMSE: 2.1457450200448744\n",
            "XGBoost Regressor (Grid Search) Val-MAE: 0.5058914251177457\n",
            "XGBoost Regressor (Grid Search) Val-Pearson r: 0.5021575470920933\n"
          ]
        }
      ]
    },
    {
      "cell_type": "markdown",
      "source": [
        "# CatBoost"
      ],
      "metadata": {
        "id": "DtF1lJswHGwV"
      }
    },
    {
      "cell_type": "code",
      "source": [
        "CBR = CatBoostRegressor()\n",
        "CBR.fit(X_train,Y_train)"
      ],
      "metadata": {
        "colab": {
          "base_uri": "https://localhost:8080/"
        },
        "id": "EcKKW97-vmf_",
        "outputId": "b0de6dd3-f3e7-40c7-8775-00103ec40413"
      },
      "execution_count": null,
      "outputs": [
        {
          "output_type": "stream",
          "name": "stdout",
          "text": [
            "Learning rate set to 0.086453\n",
            "0:\tlearn: 2.2971931\ttotal: 66.1ms\tremaining: 1m 6s\n",
            "1:\tlearn: 2.2775613\ttotal: 83.5ms\tremaining: 41.7s\n",
            "2:\tlearn: 2.2605444\ttotal: 101ms\tremaining: 33.5s\n",
            "3:\tlearn: 2.2465255\ttotal: 118ms\tremaining: 29.4s\n",
            "4:\tlearn: 2.2344114\ttotal: 135ms\tremaining: 27s\n",
            "5:\tlearn: 2.2239445\ttotal: 153ms\tremaining: 25.3s\n",
            "6:\tlearn: 2.2136071\ttotal: 170ms\tremaining: 24.1s\n",
            "7:\tlearn: 2.2045399\ttotal: 190ms\tremaining: 23.5s\n",
            "8:\tlearn: 2.1973810\ttotal: 206ms\tremaining: 22.7s\n",
            "9:\tlearn: 2.1906905\ttotal: 222ms\tremaining: 22s\n",
            "10:\tlearn: 2.1845091\ttotal: 239ms\tremaining: 21.5s\n",
            "11:\tlearn: 2.1787671\ttotal: 255ms\tremaining: 21s\n",
            "12:\tlearn: 2.1743980\ttotal: 271ms\tremaining: 20.6s\n",
            "13:\tlearn: 2.1693555\ttotal: 287ms\tremaining: 20.2s\n",
            "14:\tlearn: 2.1656871\ttotal: 303ms\tremaining: 19.9s\n",
            "15:\tlearn: 2.1606214\ttotal: 321ms\tremaining: 19.7s\n",
            "16:\tlearn: 2.1567111\ttotal: 361ms\tremaining: 20.9s\n",
            "17:\tlearn: 2.1534060\ttotal: 381ms\tremaining: 20.8s\n",
            "18:\tlearn: 2.1510441\ttotal: 402ms\tremaining: 20.8s\n",
            "19:\tlearn: 2.1477775\ttotal: 420ms\tremaining: 20.6s\n",
            "20:\tlearn: 2.1438573\ttotal: 435ms\tremaining: 20.3s\n",
            "21:\tlearn: 2.1411626\ttotal: 451ms\tremaining: 20s\n",
            "22:\tlearn: 2.1375881\ttotal: 467ms\tremaining: 19.9s\n",
            "23:\tlearn: 2.1351593\ttotal: 483ms\tremaining: 19.7s\n",
            "24:\tlearn: 2.1328007\ttotal: 500ms\tremaining: 19.5s\n",
            "25:\tlearn: 2.1308057\ttotal: 518ms\tremaining: 19.4s\n",
            "26:\tlearn: 2.1289876\ttotal: 540ms\tremaining: 19.5s\n",
            "27:\tlearn: 2.1270274\ttotal: 556ms\tremaining: 19.3s\n",
            "28:\tlearn: 2.1253013\ttotal: 573ms\tremaining: 19.2s\n",
            "29:\tlearn: 2.1233476\ttotal: 590ms\tremaining: 19.1s\n",
            "30:\tlearn: 2.1220214\ttotal: 614ms\tremaining: 19.2s\n",
            "31:\tlearn: 2.1206955\ttotal: 631ms\tremaining: 19.1s\n",
            "32:\tlearn: 2.1193923\ttotal: 647ms\tremaining: 19s\n",
            "33:\tlearn: 2.1183570\ttotal: 664ms\tremaining: 18.9s\n",
            "34:\tlearn: 2.1168046\ttotal: 684ms\tremaining: 18.9s\n",
            "35:\tlearn: 2.1153811\ttotal: 700ms\tremaining: 18.7s\n",
            "36:\tlearn: 2.1146510\ttotal: 716ms\tremaining: 18.6s\n",
            "37:\tlearn: 2.1138538\ttotal: 733ms\tremaining: 18.6s\n",
            "38:\tlearn: 2.1132106\ttotal: 761ms\tremaining: 18.7s\n",
            "39:\tlearn: 2.1126425\ttotal: 778ms\tremaining: 18.7s\n",
            "40:\tlearn: 2.1115524\ttotal: 796ms\tremaining: 18.6s\n",
            "41:\tlearn: 2.1110299\ttotal: 818ms\tremaining: 18.6s\n",
            "42:\tlearn: 2.1101027\ttotal: 835ms\tremaining: 18.6s\n",
            "43:\tlearn: 2.1076729\ttotal: 852ms\tremaining: 18.5s\n",
            "44:\tlearn: 2.1069796\ttotal: 869ms\tremaining: 18.4s\n",
            "45:\tlearn: 2.1056978\ttotal: 884ms\tremaining: 18.3s\n",
            "46:\tlearn: 2.1048503\ttotal: 900ms\tremaining: 18.3s\n",
            "47:\tlearn: 2.1040101\ttotal: 917ms\tremaining: 18.2s\n",
            "48:\tlearn: 2.1030278\ttotal: 939ms\tremaining: 18.2s\n",
            "49:\tlearn: 2.1010296\ttotal: 954ms\tremaining: 18.1s\n",
            "50:\tlearn: 2.1001270\ttotal: 972ms\tremaining: 18.1s\n",
            "51:\tlearn: 2.0992556\ttotal: 988ms\tremaining: 18s\n",
            "52:\tlearn: 2.0986724\ttotal: 1s\tremaining: 18s\n",
            "53:\tlearn: 2.0978804\ttotal: 1.02s\tremaining: 18s\n",
            "54:\tlearn: 2.0950128\ttotal: 1.04s\tremaining: 17.9s\n",
            "55:\tlearn: 2.0935872\ttotal: 1.06s\tremaining: 17.8s\n",
            "56:\tlearn: 2.0929291\ttotal: 1.07s\tremaining: 17.8s\n",
            "57:\tlearn: 2.0919873\ttotal: 1.09s\tremaining: 17.7s\n",
            "58:\tlearn: 2.0915119\ttotal: 1.11s\tremaining: 17.7s\n",
            "59:\tlearn: 2.0909643\ttotal: 1.13s\tremaining: 17.6s\n",
            "60:\tlearn: 2.0900728\ttotal: 1.15s\tremaining: 17.7s\n",
            "61:\tlearn: 2.0891926\ttotal: 1.17s\tremaining: 17.7s\n",
            "62:\tlearn: 2.0880122\ttotal: 1.19s\tremaining: 17.6s\n",
            "63:\tlearn: 2.0873334\ttotal: 1.2s\tremaining: 17.6s\n",
            "64:\tlearn: 2.0870917\ttotal: 1.22s\tremaining: 17.6s\n",
            "65:\tlearn: 2.0861161\ttotal: 1.24s\tremaining: 17.6s\n",
            "66:\tlearn: 2.0852571\ttotal: 1.26s\tremaining: 17.5s\n",
            "67:\tlearn: 2.0847260\ttotal: 1.28s\tremaining: 17.5s\n",
            "68:\tlearn: 2.0832848\ttotal: 1.29s\tremaining: 17.4s\n",
            "69:\tlearn: 2.0809583\ttotal: 1.31s\tremaining: 17.4s\n",
            "70:\tlearn: 2.0794483\ttotal: 1.32s\tremaining: 17.3s\n",
            "71:\tlearn: 2.0785689\ttotal: 1.35s\tremaining: 17.4s\n",
            "72:\tlearn: 2.0779752\ttotal: 1.37s\tremaining: 17.4s\n",
            "73:\tlearn: 2.0772233\ttotal: 1.39s\tremaining: 17.4s\n",
            "74:\tlearn: 2.0768726\ttotal: 1.41s\tremaining: 17.3s\n",
            "75:\tlearn: 2.0759336\ttotal: 1.42s\tremaining: 17.3s\n",
            "76:\tlearn: 2.0740146\ttotal: 1.44s\tremaining: 17.3s\n",
            "77:\tlearn: 2.0733240\ttotal: 1.46s\tremaining: 17.3s\n",
            "78:\tlearn: 2.0723190\ttotal: 1.48s\tremaining: 17.2s\n",
            "79:\tlearn: 2.0717295\ttotal: 1.49s\tremaining: 17.2s\n",
            "80:\tlearn: 2.0705452\ttotal: 1.51s\tremaining: 17.1s\n",
            "81:\tlearn: 2.0692545\ttotal: 1.53s\tremaining: 17.1s\n",
            "82:\tlearn: 2.0677674\ttotal: 1.55s\tremaining: 17.1s\n",
            "83:\tlearn: 2.0668539\ttotal: 1.56s\tremaining: 17.1s\n",
            "84:\tlearn: 2.0662223\ttotal: 1.58s\tremaining: 17s\n",
            "85:\tlearn: 2.0658452\ttotal: 1.6s\tremaining: 17s\n",
            "86:\tlearn: 2.0650745\ttotal: 1.62s\tremaining: 17s\n",
            "87:\tlearn: 2.0638765\ttotal: 1.63s\tremaining: 16.9s\n",
            "88:\tlearn: 2.0632566\ttotal: 1.65s\tremaining: 16.9s\n",
            "89:\tlearn: 2.0613274\ttotal: 1.67s\tremaining: 16.9s\n",
            "90:\tlearn: 2.0604916\ttotal: 1.69s\tremaining: 16.9s\n",
            "91:\tlearn: 2.0593076\ttotal: 1.71s\tremaining: 16.8s\n",
            "92:\tlearn: 2.0580687\ttotal: 1.72s\tremaining: 16.8s\n",
            "93:\tlearn: 2.0565845\ttotal: 1.74s\tremaining: 16.8s\n",
            "94:\tlearn: 2.0554108\ttotal: 1.75s\tremaining: 16.7s\n",
            "95:\tlearn: 2.0539124\ttotal: 1.77s\tremaining: 16.7s\n",
            "96:\tlearn: 2.0532442\ttotal: 1.79s\tremaining: 16.6s\n",
            "97:\tlearn: 2.0524803\ttotal: 1.8s\tremaining: 16.6s\n",
            "98:\tlearn: 2.0512830\ttotal: 1.82s\tremaining: 16.6s\n",
            "99:\tlearn: 2.0499312\ttotal: 1.83s\tremaining: 16.5s\n",
            "100:\tlearn: 2.0478179\ttotal: 1.85s\tremaining: 16.5s\n",
            "101:\tlearn: 2.0469877\ttotal: 1.87s\tremaining: 16.5s\n",
            "102:\tlearn: 2.0457015\ttotal: 1.89s\tremaining: 16.5s\n",
            "103:\tlearn: 2.0444774\ttotal: 1.9s\tremaining: 16.4s\n",
            "104:\tlearn: 2.0434438\ttotal: 1.92s\tremaining: 16.4s\n",
            "105:\tlearn: 2.0423193\ttotal: 1.95s\tremaining: 16.4s\n",
            "106:\tlearn: 2.0415858\ttotal: 1.96s\tremaining: 16.4s\n",
            "107:\tlearn: 2.0411150\ttotal: 1.98s\tremaining: 16.4s\n",
            "108:\tlearn: 2.0398852\ttotal: 2s\tremaining: 16.3s\n",
            "109:\tlearn: 2.0383152\ttotal: 2.01s\tremaining: 16.3s\n",
            "110:\tlearn: 2.0369378\ttotal: 2.03s\tremaining: 16.3s\n",
            "111:\tlearn: 2.0362716\ttotal: 2.05s\tremaining: 16.2s\n",
            "112:\tlearn: 2.0357233\ttotal: 2.06s\tremaining: 16.2s\n",
            "113:\tlearn: 2.0343736\ttotal: 2.08s\tremaining: 16.2s\n",
            "114:\tlearn: 2.0330821\ttotal: 2.1s\tremaining: 16.2s\n",
            "115:\tlearn: 2.0323953\ttotal: 2.13s\tremaining: 16.2s\n",
            "116:\tlearn: 2.0309947\ttotal: 2.15s\tremaining: 16.2s\n",
            "117:\tlearn: 2.0303509\ttotal: 2.16s\tremaining: 16.2s\n",
            "118:\tlearn: 2.0292149\ttotal: 2.18s\tremaining: 16.1s\n",
            "119:\tlearn: 2.0276368\ttotal: 2.19s\tremaining: 16.1s\n",
            "120:\tlearn: 2.0270903\ttotal: 2.21s\tremaining: 16s\n",
            "121:\tlearn: 2.0258502\ttotal: 2.23s\tremaining: 16s\n",
            "122:\tlearn: 2.0248675\ttotal: 2.24s\tremaining: 16s\n",
            "123:\tlearn: 2.0237216\ttotal: 2.27s\tremaining: 16s\n",
            "124:\tlearn: 2.0232393\ttotal: 2.28s\tremaining: 16s\n",
            "125:\tlearn: 2.0228863\ttotal: 2.3s\tremaining: 16s\n",
            "126:\tlearn: 2.0216815\ttotal: 2.32s\tremaining: 15.9s\n",
            "127:\tlearn: 2.0208057\ttotal: 2.33s\tremaining: 15.9s\n",
            "128:\tlearn: 2.0201558\ttotal: 2.35s\tremaining: 15.9s\n",
            "129:\tlearn: 2.0188072\ttotal: 2.38s\tremaining: 15.9s\n",
            "130:\tlearn: 2.0171474\ttotal: 2.4s\tremaining: 15.9s\n",
            "131:\tlearn: 2.0159664\ttotal: 2.41s\tremaining: 15.9s\n",
            "132:\tlearn: 2.0157413\ttotal: 2.43s\tremaining: 15.8s\n",
            "133:\tlearn: 2.0143528\ttotal: 2.45s\tremaining: 15.8s\n",
            "134:\tlearn: 2.0132541\ttotal: 2.46s\tremaining: 15.8s\n",
            "135:\tlearn: 2.0123249\ttotal: 2.48s\tremaining: 15.7s\n",
            "136:\tlearn: 2.0117952\ttotal: 2.49s\tremaining: 15.7s\n",
            "137:\tlearn: 2.0108797\ttotal: 2.51s\tremaining: 15.7s\n",
            "138:\tlearn: 2.0099730\ttotal: 2.53s\tremaining: 15.7s\n",
            "139:\tlearn: 2.0093572\ttotal: 2.56s\tremaining: 15.7s\n",
            "140:\tlearn: 2.0090429\ttotal: 2.58s\tremaining: 15.7s\n",
            "141:\tlearn: 2.0082875\ttotal: 2.59s\tremaining: 15.7s\n",
            "142:\tlearn: 2.0076538\ttotal: 2.61s\tremaining: 15.6s\n",
            "143:\tlearn: 2.0064132\ttotal: 2.62s\tremaining: 15.6s\n",
            "144:\tlearn: 2.0052103\ttotal: 2.64s\tremaining: 15.6s\n",
            "145:\tlearn: 2.0047188\ttotal: 2.66s\tremaining: 15.6s\n",
            "146:\tlearn: 2.0034501\ttotal: 2.67s\tremaining: 15.5s\n",
            "147:\tlearn: 2.0021130\ttotal: 2.69s\tremaining: 15.5s\n",
            "148:\tlearn: 2.0016938\ttotal: 2.71s\tremaining: 15.5s\n",
            "149:\tlearn: 2.0007633\ttotal: 2.73s\tremaining: 15.5s\n",
            "150:\tlearn: 1.9991154\ttotal: 2.75s\tremaining: 15.5s\n",
            "151:\tlearn: 1.9981403\ttotal: 2.77s\tremaining: 15.4s\n",
            "152:\tlearn: 1.9970230\ttotal: 2.78s\tremaining: 15.4s\n",
            "153:\tlearn: 1.9953574\ttotal: 2.8s\tremaining: 15.4s\n",
            "154:\tlearn: 1.9942871\ttotal: 2.81s\tremaining: 15.3s\n",
            "155:\tlearn: 1.9933327\ttotal: 2.83s\tremaining: 15.3s\n",
            "156:\tlearn: 1.9927117\ttotal: 2.85s\tremaining: 15.3s\n",
            "157:\tlearn: 1.9917742\ttotal: 2.86s\tremaining: 15.3s\n",
            "158:\tlearn: 1.9908543\ttotal: 2.88s\tremaining: 15.2s\n",
            "159:\tlearn: 1.9901870\ttotal: 2.9s\tremaining: 15.2s\n",
            "160:\tlearn: 1.9896071\ttotal: 2.92s\tremaining: 15.2s\n",
            "161:\tlearn: 1.9885679\ttotal: 2.94s\tremaining: 15.2s\n",
            "162:\tlearn: 1.9876604\ttotal: 2.95s\tremaining: 15.2s\n",
            "163:\tlearn: 1.9869311\ttotal: 2.97s\tremaining: 15.1s\n",
            "164:\tlearn: 1.9859875\ttotal: 2.99s\tremaining: 15.1s\n",
            "165:\tlearn: 1.9853095\ttotal: 3s\tremaining: 15.1s\n",
            "166:\tlearn: 1.9844976\ttotal: 3.02s\tremaining: 15.1s\n",
            "167:\tlearn: 1.9839672\ttotal: 3.04s\tremaining: 15s\n",
            "168:\tlearn: 1.9836200\ttotal: 3.05s\tremaining: 15s\n",
            "169:\tlearn: 1.9830939\ttotal: 3.07s\tremaining: 15s\n",
            "170:\tlearn: 1.9826045\ttotal: 3.09s\tremaining: 15s\n",
            "171:\tlearn: 1.9817523\ttotal: 3.1s\tremaining: 14.9s\n",
            "172:\tlearn: 1.9813752\ttotal: 3.12s\tremaining: 14.9s\n",
            "173:\tlearn: 1.9805561\ttotal: 3.14s\tremaining: 14.9s\n",
            "174:\tlearn: 1.9801234\ttotal: 3.16s\tremaining: 14.9s\n",
            "175:\tlearn: 1.9792237\ttotal: 3.18s\tremaining: 14.9s\n",
            "176:\tlearn: 1.9778899\ttotal: 3.2s\tremaining: 14.9s\n",
            "177:\tlearn: 1.9772357\ttotal: 3.21s\tremaining: 14.8s\n",
            "178:\tlearn: 1.9764183\ttotal: 3.23s\tremaining: 14.8s\n",
            "179:\tlearn: 1.9754040\ttotal: 3.25s\tremaining: 14.8s\n",
            "180:\tlearn: 1.9746782\ttotal: 3.26s\tremaining: 14.8s\n",
            "181:\tlearn: 1.9744686\ttotal: 3.28s\tremaining: 14.7s\n",
            "182:\tlearn: 1.9740610\ttotal: 3.29s\tremaining: 14.7s\n",
            "183:\tlearn: 1.9731867\ttotal: 3.31s\tremaining: 14.7s\n",
            "184:\tlearn: 1.9721243\ttotal: 3.33s\tremaining: 14.7s\n",
            "185:\tlearn: 1.9718079\ttotal: 3.35s\tremaining: 14.7s\n",
            "186:\tlearn: 1.9714129\ttotal: 3.38s\tremaining: 14.7s\n",
            "187:\tlearn: 1.9709947\ttotal: 3.4s\tremaining: 14.7s\n",
            "188:\tlearn: 1.9701057\ttotal: 3.41s\tremaining: 14.6s\n",
            "189:\tlearn: 1.9696406\ttotal: 3.43s\tremaining: 14.6s\n",
            "190:\tlearn: 1.9693239\ttotal: 3.45s\tremaining: 14.6s\n",
            "191:\tlearn: 1.9683207\ttotal: 3.46s\tremaining: 14.6s\n",
            "192:\tlearn: 1.9676956\ttotal: 3.49s\tremaining: 14.6s\n",
            "193:\tlearn: 1.9668945\ttotal: 3.51s\tremaining: 14.6s\n",
            "194:\tlearn: 1.9655669\ttotal: 3.52s\tremaining: 14.6s\n",
            "195:\tlearn: 1.9649536\ttotal: 3.54s\tremaining: 14.5s\n",
            "196:\tlearn: 1.9643169\ttotal: 3.56s\tremaining: 14.5s\n",
            "197:\tlearn: 1.9632718\ttotal: 3.58s\tremaining: 14.5s\n",
            "198:\tlearn: 1.9622261\ttotal: 3.59s\tremaining: 14.5s\n",
            "199:\tlearn: 1.9616437\ttotal: 3.61s\tremaining: 14.4s\n",
            "200:\tlearn: 1.9609644\ttotal: 3.63s\tremaining: 14.4s\n",
            "201:\tlearn: 1.9600540\ttotal: 3.65s\tremaining: 14.4s\n",
            "202:\tlearn: 1.9593133\ttotal: 3.66s\tremaining: 14.4s\n",
            "203:\tlearn: 1.9584003\ttotal: 3.68s\tremaining: 14.4s\n",
            "204:\tlearn: 1.9576783\ttotal: 3.69s\tremaining: 14.3s\n",
            "205:\tlearn: 1.9572602\ttotal: 3.71s\tremaining: 14.3s\n",
            "206:\tlearn: 1.9569150\ttotal: 3.73s\tremaining: 14.3s\n",
            "207:\tlearn: 1.9563414\ttotal: 3.75s\tremaining: 14.3s\n",
            "208:\tlearn: 1.9561197\ttotal: 3.76s\tremaining: 14.2s\n",
            "209:\tlearn: 1.9554195\ttotal: 3.78s\tremaining: 14.2s\n",
            "210:\tlearn: 1.9547687\ttotal: 3.8s\tremaining: 14.2s\n",
            "211:\tlearn: 1.9545786\ttotal: 3.81s\tremaining: 14.2s\n",
            "212:\tlearn: 1.9539865\ttotal: 3.83s\tremaining: 14.2s\n",
            "213:\tlearn: 1.9532055\ttotal: 3.86s\tremaining: 14.2s\n",
            "214:\tlearn: 1.9523495\ttotal: 3.9s\tremaining: 14.3s\n",
            "215:\tlearn: 1.9517734\ttotal: 3.94s\tremaining: 14.3s\n",
            "216:\tlearn: 1.9511923\ttotal: 3.99s\tremaining: 14.4s\n",
            "217:\tlearn: 1.9505268\ttotal: 4.03s\tremaining: 14.5s\n",
            "218:\tlearn: 1.9496499\ttotal: 4.07s\tremaining: 14.5s\n",
            "219:\tlearn: 1.9490657\ttotal: 4.11s\tremaining: 14.6s\n",
            "220:\tlearn: 1.9488014\ttotal: 4.14s\tremaining: 14.6s\n",
            "221:\tlearn: 1.9481031\ttotal: 4.17s\tremaining: 14.6s\n",
            "222:\tlearn: 1.9473138\ttotal: 4.2s\tremaining: 14.6s\n",
            "223:\tlearn: 1.9468673\ttotal: 4.23s\tremaining: 14.6s\n",
            "224:\tlearn: 1.9465343\ttotal: 4.28s\tremaining: 14.7s\n",
            "225:\tlearn: 1.9461149\ttotal: 4.32s\tremaining: 14.8s\n",
            "226:\tlearn: 1.9454556\ttotal: 4.37s\tremaining: 14.9s\n",
            "227:\tlearn: 1.9452062\ttotal: 4.41s\tremaining: 14.9s\n",
            "228:\tlearn: 1.9446235\ttotal: 4.45s\tremaining: 15s\n",
            "229:\tlearn: 1.9441052\ttotal: 4.49s\tremaining: 15s\n",
            "230:\tlearn: 1.9429611\ttotal: 4.54s\tremaining: 15.1s\n",
            "231:\tlearn: 1.9422480\ttotal: 4.58s\tremaining: 15.2s\n",
            "232:\tlearn: 1.9416614\ttotal: 4.63s\tremaining: 15.2s\n",
            "233:\tlearn: 1.9414268\ttotal: 4.66s\tremaining: 15.3s\n",
            "234:\tlearn: 1.9406602\ttotal: 4.7s\tremaining: 15.3s\n",
            "235:\tlearn: 1.9398966\ttotal: 4.75s\tremaining: 15.4s\n",
            "236:\tlearn: 1.9392280\ttotal: 4.79s\tremaining: 15.4s\n",
            "237:\tlearn: 1.9384267\ttotal: 4.83s\tremaining: 15.5s\n",
            "238:\tlearn: 1.9377046\ttotal: 4.88s\tremaining: 15.5s\n",
            "239:\tlearn: 1.9370776\ttotal: 4.92s\tremaining: 15.6s\n",
            "240:\tlearn: 1.9367273\ttotal: 4.95s\tremaining: 15.6s\n",
            "241:\tlearn: 1.9362130\ttotal: 4.98s\tremaining: 15.6s\n",
            "242:\tlearn: 1.9355129\ttotal: 5s\tremaining: 15.6s\n",
            "243:\tlearn: 1.9352756\ttotal: 5.04s\tremaining: 15.6s\n",
            "244:\tlearn: 1.9344766\ttotal: 5.08s\tremaining: 15.6s\n",
            "245:\tlearn: 1.9337264\ttotal: 5.12s\tremaining: 15.7s\n",
            "246:\tlearn: 1.9327569\ttotal: 5.16s\tremaining: 15.7s\n",
            "247:\tlearn: 1.9323163\ttotal: 5.2s\tremaining: 15.8s\n",
            "248:\tlearn: 1.9316139\ttotal: 5.25s\tremaining: 15.8s\n",
            "249:\tlearn: 1.9309954\ttotal: 5.28s\tremaining: 15.8s\n",
            "250:\tlearn: 1.9306997\ttotal: 5.32s\tremaining: 15.9s\n",
            "251:\tlearn: 1.9302186\ttotal: 5.37s\tremaining: 15.9s\n",
            "252:\tlearn: 1.9295550\ttotal: 5.41s\tremaining: 16s\n",
            "253:\tlearn: 1.9285869\ttotal: 5.45s\tremaining: 16s\n",
            "254:\tlearn: 1.9284448\ttotal: 5.49s\tremaining: 16s\n",
            "255:\tlearn: 1.9280736\ttotal: 5.54s\tremaining: 16.1s\n",
            "256:\tlearn: 1.9275912\ttotal: 5.57s\tremaining: 16.1s\n",
            "257:\tlearn: 1.9272881\ttotal: 5.59s\tremaining: 16.1s\n",
            "258:\tlearn: 1.9261777\ttotal: 5.61s\tremaining: 16.1s\n",
            "259:\tlearn: 1.9254696\ttotal: 5.64s\tremaining: 16s\n",
            "260:\tlearn: 1.9249865\ttotal: 5.66s\tremaining: 16s\n",
            "261:\tlearn: 1.9246487\ttotal: 5.69s\tremaining: 16s\n",
            "262:\tlearn: 1.9239988\ttotal: 5.74s\tremaining: 16.1s\n",
            "263:\tlearn: 1.9232870\ttotal: 5.78s\tremaining: 16.1s\n",
            "264:\tlearn: 1.9228255\ttotal: 5.83s\tremaining: 16.2s\n",
            "265:\tlearn: 1.9222904\ttotal: 5.88s\tremaining: 16.2s\n",
            "266:\tlearn: 1.9212991\ttotal: 5.93s\tremaining: 16.3s\n",
            "267:\tlearn: 1.9201383\ttotal: 5.96s\tremaining: 16.3s\n",
            "268:\tlearn: 1.9194179\ttotal: 6s\tremaining: 16.3s\n",
            "269:\tlearn: 1.9188155\ttotal: 6.04s\tremaining: 16.3s\n",
            "270:\tlearn: 1.9181926\ttotal: 6.09s\tremaining: 16.4s\n",
            "271:\tlearn: 1.9172488\ttotal: 6.13s\tremaining: 16.4s\n",
            "272:\tlearn: 1.9169817\ttotal: 6.17s\tremaining: 16.4s\n",
            "273:\tlearn: 1.9162013\ttotal: 6.21s\tremaining: 16.4s\n",
            "274:\tlearn: 1.9155964\ttotal: 6.25s\tremaining: 16.5s\n",
            "275:\tlearn: 1.9147429\ttotal: 6.29s\tremaining: 16.5s\n",
            "276:\tlearn: 1.9142548\ttotal: 6.33s\tremaining: 16.5s\n",
            "277:\tlearn: 1.9137594\ttotal: 6.38s\tremaining: 16.6s\n",
            "278:\tlearn: 1.9130431\ttotal: 6.43s\tremaining: 16.6s\n",
            "279:\tlearn: 1.9125991\ttotal: 6.47s\tremaining: 16.6s\n",
            "280:\tlearn: 1.9117675\ttotal: 6.52s\tremaining: 16.7s\n",
            "281:\tlearn: 1.9111653\ttotal: 6.57s\tremaining: 16.7s\n",
            "282:\tlearn: 1.9105653\ttotal: 6.61s\tremaining: 16.7s\n",
            "283:\tlearn: 1.9102633\ttotal: 6.65s\tremaining: 16.8s\n",
            "284:\tlearn: 1.9097854\ttotal: 6.68s\tremaining: 16.7s\n",
            "285:\tlearn: 1.9090914\ttotal: 6.71s\tremaining: 16.8s\n",
            "286:\tlearn: 1.9084916\ttotal: 6.75s\tremaining: 16.8s\n",
            "287:\tlearn: 1.9079927\ttotal: 6.78s\tremaining: 16.8s\n",
            "288:\tlearn: 1.9075661\ttotal: 6.82s\tremaining: 16.8s\n",
            "289:\tlearn: 1.9071324\ttotal: 6.86s\tremaining: 16.8s\n",
            "290:\tlearn: 1.9066034\ttotal: 6.9s\tremaining: 16.8s\n",
            "291:\tlearn: 1.9060167\ttotal: 6.95s\tremaining: 16.8s\n",
            "292:\tlearn: 1.9054744\ttotal: 6.98s\tremaining: 16.8s\n",
            "293:\tlearn: 1.9050181\ttotal: 7.02s\tremaining: 16.9s\n",
            "294:\tlearn: 1.9042062\ttotal: 7.06s\tremaining: 16.9s\n",
            "295:\tlearn: 1.9036326\ttotal: 7.1s\tremaining: 16.9s\n",
            "296:\tlearn: 1.9030247\ttotal: 7.16s\tremaining: 17s\n",
            "297:\tlearn: 1.9022039\ttotal: 7.21s\tremaining: 17s\n",
            "298:\tlearn: 1.9013724\ttotal: 7.26s\tremaining: 17s\n",
            "299:\tlearn: 1.9007921\ttotal: 7.29s\tremaining: 17s\n",
            "300:\tlearn: 1.9000598\ttotal: 7.33s\tremaining: 17s\n",
            "301:\tlearn: 1.8996152\ttotal: 7.38s\tremaining: 17.1s\n",
            "302:\tlearn: 1.8988323\ttotal: 7.42s\tremaining: 17.1s\n",
            "303:\tlearn: 1.8984790\ttotal: 7.46s\tremaining: 17.1s\n",
            "304:\tlearn: 1.8980665\ttotal: 7.5s\tremaining: 17.1s\n",
            "305:\tlearn: 1.8972940\ttotal: 7.54s\tremaining: 17.1s\n",
            "306:\tlearn: 1.8969121\ttotal: 7.6s\tremaining: 17.2s\n",
            "307:\tlearn: 1.8963601\ttotal: 7.63s\tremaining: 17.2s\n",
            "308:\tlearn: 1.8957312\ttotal: 7.68s\tremaining: 17.2s\n",
            "309:\tlearn: 1.8954904\ttotal: 7.73s\tremaining: 17.2s\n",
            "310:\tlearn: 1.8948698\ttotal: 7.77s\tremaining: 17.2s\n",
            "311:\tlearn: 1.8943801\ttotal: 7.82s\tremaining: 17.2s\n",
            "312:\tlearn: 1.8937692\ttotal: 7.87s\tremaining: 17.3s\n",
            "313:\tlearn: 1.8931870\ttotal: 7.91s\tremaining: 17.3s\n",
            "314:\tlearn: 1.8927295\ttotal: 7.95s\tremaining: 17.3s\n",
            "315:\tlearn: 1.8922938\ttotal: 7.99s\tremaining: 17.3s\n",
            "316:\tlearn: 1.8917234\ttotal: 8.03s\tremaining: 17.3s\n",
            "317:\tlearn: 1.8911996\ttotal: 8.07s\tremaining: 17.3s\n",
            "318:\tlearn: 1.8910408\ttotal: 8.12s\tremaining: 17.3s\n",
            "319:\tlearn: 1.8904383\ttotal: 8.15s\tremaining: 17.3s\n",
            "320:\tlearn: 1.8900346\ttotal: 8.2s\tremaining: 17.3s\n",
            "321:\tlearn: 1.8896361\ttotal: 8.23s\tremaining: 17.3s\n",
            "322:\tlearn: 1.8894515\ttotal: 8.27s\tremaining: 17.3s\n",
            "323:\tlearn: 1.8891956\ttotal: 8.31s\tremaining: 17.3s\n",
            "324:\tlearn: 1.8889101\ttotal: 8.34s\tremaining: 17.3s\n",
            "325:\tlearn: 1.8883800\ttotal: 8.35s\tremaining: 17.3s\n",
            "326:\tlearn: 1.8877615\ttotal: 8.39s\tremaining: 17.3s\n",
            "327:\tlearn: 1.8871109\ttotal: 8.4s\tremaining: 17.2s\n",
            "328:\tlearn: 1.8866768\ttotal: 8.42s\tremaining: 17.2s\n",
            "329:\tlearn: 1.8862971\ttotal: 8.44s\tremaining: 17.1s\n",
            "330:\tlearn: 1.8859345\ttotal: 8.46s\tremaining: 17.1s\n",
            "331:\tlearn: 1.8855311\ttotal: 8.49s\tremaining: 17.1s\n",
            "332:\tlearn: 1.8851176\ttotal: 8.5s\tremaining: 17s\n",
            "333:\tlearn: 1.8845463\ttotal: 8.52s\tremaining: 17s\n",
            "334:\tlearn: 1.8838634\ttotal: 8.54s\tremaining: 16.9s\n",
            "335:\tlearn: 1.8832696\ttotal: 8.56s\tremaining: 16.9s\n",
            "336:\tlearn: 1.8826807\ttotal: 8.57s\tremaining: 16.9s\n",
            "337:\tlearn: 1.8819014\ttotal: 8.59s\tremaining: 16.8s\n",
            "338:\tlearn: 1.8813539\ttotal: 8.61s\tremaining: 16.8s\n",
            "339:\tlearn: 1.8808380\ttotal: 8.62s\tremaining: 16.7s\n",
            "340:\tlearn: 1.8802994\ttotal: 8.64s\tremaining: 16.7s\n",
            "341:\tlearn: 1.8800572\ttotal: 8.66s\tremaining: 16.7s\n",
            "342:\tlearn: 1.8794357\ttotal: 8.68s\tremaining: 16.6s\n",
            "343:\tlearn: 1.8791087\ttotal: 8.69s\tremaining: 16.6s\n",
            "344:\tlearn: 1.8786888\ttotal: 8.71s\tremaining: 16.5s\n",
            "345:\tlearn: 1.8783192\ttotal: 8.72s\tremaining: 16.5s\n",
            "346:\tlearn: 1.8777211\ttotal: 8.74s\tremaining: 16.5s\n",
            "347:\tlearn: 1.8771846\ttotal: 8.76s\tremaining: 16.4s\n",
            "348:\tlearn: 1.8766229\ttotal: 8.78s\tremaining: 16.4s\n",
            "349:\tlearn: 1.8764371\ttotal: 8.79s\tremaining: 16.3s\n",
            "350:\tlearn: 1.8757834\ttotal: 8.82s\tremaining: 16.3s\n",
            "351:\tlearn: 1.8755343\ttotal: 8.83s\tremaining: 16.3s\n",
            "352:\tlearn: 1.8750047\ttotal: 8.85s\tremaining: 16.2s\n",
            "353:\tlearn: 1.8743062\ttotal: 8.87s\tremaining: 16.2s\n",
            "354:\tlearn: 1.8738333\ttotal: 8.88s\tremaining: 16.1s\n",
            "355:\tlearn: 1.8732832\ttotal: 8.9s\tremaining: 16.1s\n",
            "356:\tlearn: 1.8726310\ttotal: 8.92s\tremaining: 16.1s\n",
            "357:\tlearn: 1.8721692\ttotal: 8.93s\tremaining: 16s\n",
            "358:\tlearn: 1.8715280\ttotal: 8.95s\tremaining: 16s\n",
            "359:\tlearn: 1.8711250\ttotal: 8.97s\tremaining: 15.9s\n",
            "360:\tlearn: 1.8703924\ttotal: 8.98s\tremaining: 15.9s\n",
            "361:\tlearn: 1.8700492\ttotal: 9s\tremaining: 15.9s\n",
            "362:\tlearn: 1.8695804\ttotal: 9.02s\tremaining: 15.8s\n",
            "363:\tlearn: 1.8689788\ttotal: 9.04s\tremaining: 15.8s\n",
            "364:\tlearn: 1.8686293\ttotal: 9.07s\tremaining: 15.8s\n",
            "365:\tlearn: 1.8680193\ttotal: 9.08s\tremaining: 15.7s\n",
            "366:\tlearn: 1.8675825\ttotal: 9.1s\tremaining: 15.7s\n",
            "367:\tlearn: 1.8672876\ttotal: 9.12s\tremaining: 15.7s\n",
            "368:\tlearn: 1.8668688\ttotal: 9.13s\tremaining: 15.6s\n",
            "369:\tlearn: 1.8663529\ttotal: 9.16s\tremaining: 15.6s\n",
            "370:\tlearn: 1.8659183\ttotal: 9.18s\tremaining: 15.6s\n",
            "371:\tlearn: 1.8655909\ttotal: 9.2s\tremaining: 15.5s\n",
            "372:\tlearn: 1.8649858\ttotal: 9.21s\tremaining: 15.5s\n",
            "373:\tlearn: 1.8643205\ttotal: 9.23s\tremaining: 15.4s\n",
            "374:\tlearn: 1.8640164\ttotal: 9.24s\tremaining: 15.4s\n",
            "375:\tlearn: 1.8633943\ttotal: 9.26s\tremaining: 15.4s\n",
            "376:\tlearn: 1.8629787\ttotal: 9.28s\tremaining: 15.3s\n",
            "377:\tlearn: 1.8621825\ttotal: 9.3s\tremaining: 15.3s\n",
            "378:\tlearn: 1.8615673\ttotal: 9.32s\tremaining: 15.3s\n",
            "379:\tlearn: 1.8611295\ttotal: 9.33s\tremaining: 15.2s\n",
            "380:\tlearn: 1.8607999\ttotal: 9.35s\tremaining: 15.2s\n",
            "381:\tlearn: 1.8606609\ttotal: 9.36s\tremaining: 15.2s\n",
            "382:\tlearn: 1.8604441\ttotal: 9.38s\tremaining: 15.1s\n",
            "383:\tlearn: 1.8599000\ttotal: 9.4s\tremaining: 15.1s\n",
            "384:\tlearn: 1.8595424\ttotal: 9.41s\tremaining: 15s\n",
            "385:\tlearn: 1.8590131\ttotal: 9.43s\tremaining: 15s\n",
            "386:\tlearn: 1.8588131\ttotal: 9.45s\tremaining: 15s\n",
            "387:\tlearn: 1.8584776\ttotal: 9.48s\tremaining: 14.9s\n",
            "388:\tlearn: 1.8580611\ttotal: 9.5s\tremaining: 14.9s\n",
            "389:\tlearn: 1.8574138\ttotal: 9.51s\tremaining: 14.9s\n",
            "390:\tlearn: 1.8570384\ttotal: 9.53s\tremaining: 14.8s\n",
            "391:\tlearn: 1.8565626\ttotal: 9.55s\tremaining: 14.8s\n",
            "392:\tlearn: 1.8564307\ttotal: 9.56s\tremaining: 14.8s\n",
            "393:\tlearn: 1.8560952\ttotal: 9.58s\tremaining: 14.7s\n",
            "394:\tlearn: 1.8554861\ttotal: 9.6s\tremaining: 14.7s\n",
            "395:\tlearn: 1.8549766\ttotal: 9.62s\tremaining: 14.7s\n",
            "396:\tlearn: 1.8545352\ttotal: 9.63s\tremaining: 14.6s\n",
            "397:\tlearn: 1.8540636\ttotal: 9.65s\tremaining: 14.6s\n",
            "398:\tlearn: 1.8536191\ttotal: 9.66s\tremaining: 14.6s\n",
            "399:\tlearn: 1.8533080\ttotal: 9.69s\tremaining: 14.5s\n",
            "400:\tlearn: 1.8531276\ttotal: 9.71s\tremaining: 14.5s\n",
            "401:\tlearn: 1.8527796\ttotal: 9.72s\tremaining: 14.5s\n",
            "402:\tlearn: 1.8522618\ttotal: 9.74s\tremaining: 14.4s\n",
            "403:\tlearn: 1.8521603\ttotal: 9.76s\tremaining: 14.4s\n",
            "404:\tlearn: 1.8519027\ttotal: 9.78s\tremaining: 14.4s\n",
            "405:\tlearn: 1.8517627\ttotal: 9.79s\tremaining: 14.3s\n",
            "406:\tlearn: 1.8511134\ttotal: 9.81s\tremaining: 14.3s\n",
            "407:\tlearn: 1.8509569\ttotal: 9.83s\tremaining: 14.3s\n",
            "408:\tlearn: 1.8506081\ttotal: 9.85s\tremaining: 14.2s\n",
            "409:\tlearn: 1.8500560\ttotal: 9.86s\tremaining: 14.2s\n",
            "410:\tlearn: 1.8496968\ttotal: 9.88s\tremaining: 14.2s\n",
            "411:\tlearn: 1.8492446\ttotal: 9.9s\tremaining: 14.1s\n",
            "412:\tlearn: 1.8486666\ttotal: 9.91s\tremaining: 14.1s\n",
            "413:\tlearn: 1.8481624\ttotal: 9.93s\tremaining: 14.1s\n",
            "414:\tlearn: 1.8477567\ttotal: 9.95s\tremaining: 14s\n",
            "415:\tlearn: 1.8474233\ttotal: 9.96s\tremaining: 14s\n",
            "416:\tlearn: 1.8469642\ttotal: 9.98s\tremaining: 14s\n",
            "417:\tlearn: 1.8465323\ttotal: 10s\tremaining: 13.9s\n",
            "418:\tlearn: 1.8459880\ttotal: 10s\tremaining: 13.9s\n",
            "419:\tlearn: 1.8454339\ttotal: 10s\tremaining: 13.9s\n",
            "420:\tlearn: 1.8450114\ttotal: 10s\tremaining: 13.8s\n",
            "421:\tlearn: 1.8444580\ttotal: 10.1s\tremaining: 13.8s\n",
            "422:\tlearn: 1.8441029\ttotal: 10.1s\tremaining: 13.8s\n",
            "423:\tlearn: 1.8436883\ttotal: 10.1s\tremaining: 13.7s\n",
            "424:\tlearn: 1.8433796\ttotal: 10.1s\tremaining: 13.7s\n",
            "425:\tlearn: 1.8430766\ttotal: 10.1s\tremaining: 13.7s\n",
            "426:\tlearn: 1.8426855\ttotal: 10.2s\tremaining: 13.6s\n",
            "427:\tlearn: 1.8422099\ttotal: 10.2s\tremaining: 13.6s\n",
            "428:\tlearn: 1.8419089\ttotal: 10.2s\tremaining: 13.6s\n",
            "429:\tlearn: 1.8414386\ttotal: 10.2s\tremaining: 13.5s\n",
            "430:\tlearn: 1.8410622\ttotal: 10.2s\tremaining: 13.5s\n",
            "431:\tlearn: 1.8405227\ttotal: 10.2s\tremaining: 13.5s\n",
            "432:\tlearn: 1.8402085\ttotal: 10.3s\tremaining: 13.4s\n",
            "433:\tlearn: 1.8398677\ttotal: 10.3s\tremaining: 13.4s\n",
            "434:\tlearn: 1.8395751\ttotal: 10.3s\tremaining: 13.4s\n",
            "435:\tlearn: 1.8390425\ttotal: 10.3s\tremaining: 13.3s\n",
            "436:\tlearn: 1.8385586\ttotal: 10.3s\tremaining: 13.3s\n",
            "437:\tlearn: 1.8376908\ttotal: 10.3s\tremaining: 13.3s\n",
            "438:\tlearn: 1.8371884\ttotal: 10.4s\tremaining: 13.2s\n",
            "439:\tlearn: 1.8366562\ttotal: 10.4s\tremaining: 13.2s\n",
            "440:\tlearn: 1.8362072\ttotal: 10.4s\tremaining: 13.2s\n",
            "441:\tlearn: 1.8358175\ttotal: 10.4s\tremaining: 13.1s\n",
            "442:\tlearn: 1.8356926\ttotal: 10.4s\tremaining: 13.1s\n",
            "443:\tlearn: 1.8352766\ttotal: 10.5s\tremaining: 13.1s\n",
            "444:\tlearn: 1.8351435\ttotal: 10.5s\tremaining: 13.1s\n",
            "445:\tlearn: 1.8349038\ttotal: 10.5s\tremaining: 13s\n",
            "446:\tlearn: 1.8343390\ttotal: 10.5s\tremaining: 13s\n",
            "447:\tlearn: 1.8339294\ttotal: 10.5s\tremaining: 13s\n",
            "448:\tlearn: 1.8335616\ttotal: 10.6s\tremaining: 13s\n",
            "449:\tlearn: 1.8330566\ttotal: 10.6s\tremaining: 12.9s\n",
            "450:\tlearn: 1.8328238\ttotal: 10.6s\tremaining: 12.9s\n",
            "451:\tlearn: 1.8324967\ttotal: 10.6s\tremaining: 12.9s\n",
            "452:\tlearn: 1.8319691\ttotal: 10.6s\tremaining: 12.8s\n",
            "453:\tlearn: 1.8313318\ttotal: 10.6s\tremaining: 12.8s\n",
            "454:\tlearn: 1.8310761\ttotal: 10.7s\tremaining: 12.8s\n",
            "455:\tlearn: 1.8305440\ttotal: 10.7s\tremaining: 12.7s\n",
            "456:\tlearn: 1.8301528\ttotal: 10.7s\tremaining: 12.7s\n",
            "457:\tlearn: 1.8299251\ttotal: 10.7s\tremaining: 12.7s\n",
            "458:\tlearn: 1.8294289\ttotal: 10.7s\tremaining: 12.6s\n",
            "459:\tlearn: 1.8288686\ttotal: 10.7s\tremaining: 12.6s\n",
            "460:\tlearn: 1.8285502\ttotal: 10.8s\tremaining: 12.6s\n",
            "461:\tlearn: 1.8283470\ttotal: 10.8s\tremaining: 12.5s\n",
            "462:\tlearn: 1.8279852\ttotal: 10.8s\tremaining: 12.5s\n",
            "463:\tlearn: 1.8276359\ttotal: 10.8s\tremaining: 12.5s\n",
            "464:\tlearn: 1.8267558\ttotal: 10.8s\tremaining: 12.4s\n",
            "465:\tlearn: 1.8262442\ttotal: 10.8s\tremaining: 12.4s\n",
            "466:\tlearn: 1.8260428\ttotal: 10.8s\tremaining: 12.4s\n",
            "467:\tlearn: 1.8254868\ttotal: 10.9s\tremaining: 12.4s\n",
            "468:\tlearn: 1.8251423\ttotal: 10.9s\tremaining: 12.3s\n",
            "469:\tlearn: 1.8249198\ttotal: 10.9s\tremaining: 12.3s\n",
            "470:\tlearn: 1.8245691\ttotal: 10.9s\tremaining: 12.3s\n",
            "471:\tlearn: 1.8240681\ttotal: 10.9s\tremaining: 12.2s\n",
            "472:\tlearn: 1.8239308\ttotal: 11s\tremaining: 12.2s\n",
            "473:\tlearn: 1.8235250\ttotal: 11s\tremaining: 12.2s\n",
            "474:\tlearn: 1.8230685\ttotal: 11s\tremaining: 12.2s\n",
            "475:\tlearn: 1.8229058\ttotal: 11s\tremaining: 12.1s\n",
            "476:\tlearn: 1.8225618\ttotal: 11s\tremaining: 12.1s\n",
            "477:\tlearn: 1.8220651\ttotal: 11s\tremaining: 12.1s\n",
            "478:\tlearn: 1.8217386\ttotal: 11.1s\tremaining: 12s\n",
            "479:\tlearn: 1.8212359\ttotal: 11.1s\tremaining: 12s\n",
            "480:\tlearn: 1.8210617\ttotal: 11.1s\tremaining: 12s\n",
            "481:\tlearn: 1.8208386\ttotal: 11.1s\tremaining: 11.9s\n",
            "482:\tlearn: 1.8204780\ttotal: 11.1s\tremaining: 11.9s\n",
            "483:\tlearn: 1.8199692\ttotal: 11.1s\tremaining: 11.9s\n",
            "484:\tlearn: 1.8195105\ttotal: 11.2s\tremaining: 11.9s\n",
            "485:\tlearn: 1.8188097\ttotal: 11.2s\tremaining: 11.8s\n",
            "486:\tlearn: 1.8185582\ttotal: 11.2s\tremaining: 11.8s\n",
            "487:\tlearn: 1.8181311\ttotal: 11.2s\tremaining: 11.8s\n",
            "488:\tlearn: 1.8179209\ttotal: 11.2s\tremaining: 11.7s\n",
            "489:\tlearn: 1.8170263\ttotal: 11.2s\tremaining: 11.7s\n",
            "490:\tlearn: 1.8168369\ttotal: 11.3s\tremaining: 11.7s\n",
            "491:\tlearn: 1.8164698\ttotal: 11.3s\tremaining: 11.6s\n",
            "492:\tlearn: 1.8160811\ttotal: 11.3s\tremaining: 11.6s\n",
            "493:\tlearn: 1.8157151\ttotal: 11.3s\tremaining: 11.6s\n",
            "494:\tlearn: 1.8153819\ttotal: 11.3s\tremaining: 11.6s\n",
            "495:\tlearn: 1.8151475\ttotal: 11.4s\tremaining: 11.5s\n",
            "496:\tlearn: 1.8147349\ttotal: 11.4s\tremaining: 11.5s\n",
            "497:\tlearn: 1.8142901\ttotal: 11.4s\tremaining: 11.5s\n",
            "498:\tlearn: 1.8139265\ttotal: 11.4s\tremaining: 11.4s\n",
            "499:\tlearn: 1.8137835\ttotal: 11.4s\tremaining: 11.4s\n",
            "500:\tlearn: 1.8130994\ttotal: 11.4s\tremaining: 11.4s\n",
            "501:\tlearn: 1.8125363\ttotal: 11.5s\tremaining: 11.4s\n",
            "502:\tlearn: 1.8122627\ttotal: 11.5s\tremaining: 11.3s\n",
            "503:\tlearn: 1.8119686\ttotal: 11.5s\tremaining: 11.3s\n",
            "504:\tlearn: 1.8114637\ttotal: 11.5s\tremaining: 11.3s\n",
            "505:\tlearn: 1.8108407\ttotal: 11.5s\tremaining: 11.3s\n",
            "506:\tlearn: 1.8102010\ttotal: 11.6s\tremaining: 11.2s\n",
            "507:\tlearn: 1.8100819\ttotal: 11.6s\tremaining: 11.2s\n",
            "508:\tlearn: 1.8099315\ttotal: 11.6s\tremaining: 11.2s\n",
            "509:\tlearn: 1.8093649\ttotal: 11.6s\tremaining: 11.2s\n",
            "510:\tlearn: 1.8091841\ttotal: 11.6s\tremaining: 11.1s\n",
            "511:\tlearn: 1.8086355\ttotal: 11.6s\tremaining: 11.1s\n",
            "512:\tlearn: 1.8082031\ttotal: 11.7s\tremaining: 11.1s\n",
            "513:\tlearn: 1.8077472\ttotal: 11.7s\tremaining: 11s\n",
            "514:\tlearn: 1.8075742\ttotal: 11.7s\tremaining: 11s\n",
            "515:\tlearn: 1.8074810\ttotal: 11.7s\tremaining: 11s\n",
            "516:\tlearn: 1.8073433\ttotal: 11.7s\tremaining: 11s\n",
            "517:\tlearn: 1.8069951\ttotal: 11.7s\tremaining: 10.9s\n",
            "518:\tlearn: 1.8069070\ttotal: 11.8s\tremaining: 10.9s\n",
            "519:\tlearn: 1.8065447\ttotal: 11.8s\tremaining: 10.9s\n",
            "520:\tlearn: 1.8062247\ttotal: 11.8s\tremaining: 10.8s\n",
            "521:\tlearn: 1.8058171\ttotal: 11.8s\tremaining: 10.8s\n",
            "522:\tlearn: 1.8052372\ttotal: 11.8s\tremaining: 10.8s\n",
            "523:\tlearn: 1.8045598\ttotal: 11.8s\tremaining: 10.8s\n",
            "524:\tlearn: 1.8041114\ttotal: 11.9s\tremaining: 10.7s\n",
            "525:\tlearn: 1.8034060\ttotal: 11.9s\tremaining: 10.7s\n",
            "526:\tlearn: 1.8030436\ttotal: 11.9s\tremaining: 10.7s\n",
            "527:\tlearn: 1.8026087\ttotal: 11.9s\tremaining: 10.7s\n",
            "528:\tlearn: 1.8021899\ttotal: 11.9s\tremaining: 10.6s\n",
            "529:\tlearn: 1.8018173\ttotal: 11.9s\tremaining: 10.6s\n",
            "530:\tlearn: 1.8014825\ttotal: 12s\tremaining: 10.6s\n",
            "531:\tlearn: 1.8013968\ttotal: 12s\tremaining: 10.6s\n",
            "532:\tlearn: 1.8013158\ttotal: 12s\tremaining: 10.5s\n",
            "533:\tlearn: 1.8009521\ttotal: 12s\tremaining: 10.5s\n",
            "534:\tlearn: 1.8005409\ttotal: 12s\tremaining: 10.5s\n",
            "535:\tlearn: 1.8000008\ttotal: 12.1s\tremaining: 10.4s\n",
            "536:\tlearn: 1.7996138\ttotal: 12.1s\tremaining: 10.4s\n",
            "537:\tlearn: 1.7994225\ttotal: 12.1s\tremaining: 10.4s\n",
            "538:\tlearn: 1.7991848\ttotal: 12.1s\tremaining: 10.4s\n",
            "539:\tlearn: 1.7988288\ttotal: 12.1s\tremaining: 10.3s\n",
            "540:\tlearn: 1.7983311\ttotal: 12.1s\tremaining: 10.3s\n",
            "541:\tlearn: 1.7978579\ttotal: 12.2s\tremaining: 10.3s\n",
            "542:\tlearn: 1.7974335\ttotal: 12.2s\tremaining: 10.3s\n",
            "543:\tlearn: 1.7969460\ttotal: 12.2s\tremaining: 10.2s\n",
            "544:\tlearn: 1.7966662\ttotal: 12.2s\tremaining: 10.2s\n",
            "545:\tlearn: 1.7965583\ttotal: 12.2s\tremaining: 10.2s\n",
            "546:\tlearn: 1.7961817\ttotal: 12.3s\tremaining: 10.1s\n",
            "547:\tlearn: 1.7954238\ttotal: 12.3s\tremaining: 10.1s\n",
            "548:\tlearn: 1.7950261\ttotal: 12.3s\tremaining: 10.1s\n",
            "549:\tlearn: 1.7945482\ttotal: 12.3s\tremaining: 10.1s\n",
            "550:\tlearn: 1.7944782\ttotal: 12.3s\tremaining: 10s\n",
            "551:\tlearn: 1.7938527\ttotal: 12.3s\tremaining: 10s\n",
            "552:\tlearn: 1.7936980\ttotal: 12.4s\tremaining: 9.99s\n",
            "553:\tlearn: 1.7935570\ttotal: 12.4s\tremaining: 9.96s\n",
            "554:\tlearn: 1.7934326\ttotal: 12.4s\tremaining: 9.94s\n",
            "555:\tlearn: 1.7933359\ttotal: 12.4s\tremaining: 9.91s\n",
            "556:\tlearn: 1.7929782\ttotal: 12.4s\tremaining: 9.88s\n",
            "557:\tlearn: 1.7926371\ttotal: 12.4s\tremaining: 9.86s\n",
            "558:\tlearn: 1.7924721\ttotal: 12.5s\tremaining: 9.83s\n",
            "559:\tlearn: 1.7923254\ttotal: 12.5s\tremaining: 9.81s\n",
            "560:\tlearn: 1.7921920\ttotal: 12.5s\tremaining: 9.79s\n",
            "561:\tlearn: 1.7919935\ttotal: 12.5s\tremaining: 9.76s\n",
            "562:\tlearn: 1.7913464\ttotal: 12.5s\tremaining: 9.74s\n",
            "563:\tlearn: 1.7909217\ttotal: 12.6s\tremaining: 9.71s\n",
            "564:\tlearn: 1.7907956\ttotal: 12.6s\tremaining: 9.68s\n",
            "565:\tlearn: 1.7902656\ttotal: 12.6s\tremaining: 9.66s\n",
            "566:\tlearn: 1.7899987\ttotal: 12.6s\tremaining: 9.63s\n",
            "567:\tlearn: 1.7893173\ttotal: 12.6s\tremaining: 9.61s\n",
            "568:\tlearn: 1.7891569\ttotal: 12.6s\tremaining: 9.58s\n",
            "569:\tlearn: 1.7888487\ttotal: 12.7s\tremaining: 9.55s\n",
            "570:\tlearn: 1.7886453\ttotal: 12.7s\tremaining: 9.53s\n",
            "571:\tlearn: 1.7879493\ttotal: 12.7s\tremaining: 9.51s\n",
            "572:\tlearn: 1.7875611\ttotal: 12.7s\tremaining: 9.48s\n",
            "573:\tlearn: 1.7872609\ttotal: 12.7s\tremaining: 9.45s\n",
            "574:\tlearn: 1.7869164\ttotal: 12.8s\tremaining: 9.43s\n",
            "575:\tlearn: 1.7864318\ttotal: 12.8s\tremaining: 9.4s\n",
            "576:\tlearn: 1.7860560\ttotal: 12.8s\tremaining: 9.37s\n",
            "577:\tlearn: 1.7857323\ttotal: 12.8s\tremaining: 9.35s\n",
            "578:\tlearn: 1.7852155\ttotal: 12.8s\tremaining: 9.32s\n",
            "579:\tlearn: 1.7849491\ttotal: 12.8s\tremaining: 9.3s\n",
            "580:\tlearn: 1.7845358\ttotal: 12.9s\tremaining: 9.27s\n",
            "581:\tlearn: 1.7842053\ttotal: 12.9s\tremaining: 9.25s\n",
            "582:\tlearn: 1.7837676\ttotal: 12.9s\tremaining: 9.22s\n",
            "583:\tlearn: 1.7834048\ttotal: 12.9s\tremaining: 9.19s\n",
            "584:\tlearn: 1.7832980\ttotal: 12.9s\tremaining: 9.17s\n",
            "585:\tlearn: 1.7827230\ttotal: 12.9s\tremaining: 9.14s\n",
            "586:\tlearn: 1.7822192\ttotal: 13s\tremaining: 9.12s\n",
            "587:\tlearn: 1.7818072\ttotal: 13s\tremaining: 9.09s\n",
            "588:\tlearn: 1.7815829\ttotal: 13s\tremaining: 9.07s\n",
            "589:\tlearn: 1.7814479\ttotal: 13s\tremaining: 9.05s\n",
            "590:\tlearn: 1.7811019\ttotal: 13s\tremaining: 9.02s\n",
            "591:\tlearn: 1.7806922\ttotal: 13.1s\tremaining: 9s\n",
            "592:\tlearn: 1.7804830\ttotal: 13.1s\tremaining: 8.97s\n",
            "593:\tlearn: 1.7801885\ttotal: 13.1s\tremaining: 8.95s\n",
            "594:\tlearn: 1.7799701\ttotal: 13.1s\tremaining: 8.92s\n",
            "595:\tlearn: 1.7795504\ttotal: 13.1s\tremaining: 8.9s\n",
            "596:\tlearn: 1.7794053\ttotal: 13.1s\tremaining: 8.87s\n",
            "597:\tlearn: 1.7790853\ttotal: 13.2s\tremaining: 8.85s\n",
            "598:\tlearn: 1.7787554\ttotal: 13.2s\tremaining: 8.82s\n",
            "599:\tlearn: 1.7785127\ttotal: 13.2s\tremaining: 8.79s\n",
            "600:\tlearn: 1.7782568\ttotal: 13.2s\tremaining: 8.77s\n",
            "601:\tlearn: 1.7777372\ttotal: 13.2s\tremaining: 8.75s\n",
            "602:\tlearn: 1.7775272\ttotal: 13.3s\tremaining: 8.72s\n",
            "603:\tlearn: 1.7770704\ttotal: 13.3s\tremaining: 8.7s\n",
            "604:\tlearn: 1.7767511\ttotal: 13.3s\tremaining: 8.67s\n",
            "605:\tlearn: 1.7765014\ttotal: 13.3s\tremaining: 8.65s\n",
            "606:\tlearn: 1.7760965\ttotal: 13.3s\tremaining: 8.63s\n",
            "607:\tlearn: 1.7757613\ttotal: 13.3s\tremaining: 8.6s\n",
            "608:\tlearn: 1.7753808\ttotal: 13.4s\tremaining: 8.58s\n",
            "609:\tlearn: 1.7750896\ttotal: 13.4s\tremaining: 8.55s\n",
            "610:\tlearn: 1.7746765\ttotal: 13.4s\tremaining: 8.53s\n",
            "611:\tlearn: 1.7740956\ttotal: 13.4s\tremaining: 8.5s\n",
            "612:\tlearn: 1.7734480\ttotal: 13.4s\tremaining: 8.47s\n",
            "613:\tlearn: 1.7730571\ttotal: 13.4s\tremaining: 8.45s\n",
            "614:\tlearn: 1.7727409\ttotal: 13.5s\tremaining: 8.44s\n",
            "615:\tlearn: 1.7723711\ttotal: 13.5s\tremaining: 8.41s\n",
            "616:\tlearn: 1.7719518\ttotal: 13.5s\tremaining: 8.39s\n",
            "617:\tlearn: 1.7717766\ttotal: 13.5s\tremaining: 8.36s\n",
            "618:\tlearn: 1.7713710\ttotal: 13.5s\tremaining: 8.34s\n",
            "619:\tlearn: 1.7710218\ttotal: 13.6s\tremaining: 8.31s\n",
            "620:\tlearn: 1.7706304\ttotal: 13.6s\tremaining: 8.29s\n",
            "621:\tlearn: 1.7704280\ttotal: 13.6s\tremaining: 8.26s\n",
            "622:\tlearn: 1.7700217\ttotal: 13.6s\tremaining: 8.24s\n",
            "623:\tlearn: 1.7694146\ttotal: 13.6s\tremaining: 8.21s\n",
            "624:\tlearn: 1.7693332\ttotal: 13.7s\tremaining: 8.19s\n",
            "625:\tlearn: 1.7689678\ttotal: 13.7s\tremaining: 8.17s\n",
            "626:\tlearn: 1.7684851\ttotal: 13.7s\tremaining: 8.14s\n",
            "627:\tlearn: 1.7682002\ttotal: 13.7s\tremaining: 8.12s\n",
            "628:\tlearn: 1.7676907\ttotal: 13.7s\tremaining: 8.09s\n",
            "629:\tlearn: 1.7675218\ttotal: 13.7s\tremaining: 8.07s\n",
            "630:\tlearn: 1.7672098\ttotal: 13.8s\tremaining: 8.04s\n",
            "631:\tlearn: 1.7668231\ttotal: 13.8s\tremaining: 8.02s\n",
            "632:\tlearn: 1.7665979\ttotal: 13.8s\tremaining: 7.99s\n",
            "633:\tlearn: 1.7662379\ttotal: 13.8s\tremaining: 7.97s\n",
            "634:\tlearn: 1.7658163\ttotal: 13.8s\tremaining: 7.94s\n",
            "635:\tlearn: 1.7653306\ttotal: 13.8s\tremaining: 7.92s\n",
            "636:\tlearn: 1.7651541\ttotal: 13.9s\tremaining: 7.89s\n",
            "637:\tlearn: 1.7648710\ttotal: 13.9s\tremaining: 7.87s\n",
            "638:\tlearn: 1.7645113\ttotal: 13.9s\tremaining: 7.84s\n",
            "639:\tlearn: 1.7641637\ttotal: 13.9s\tremaining: 7.82s\n",
            "640:\tlearn: 1.7638320\ttotal: 13.9s\tremaining: 7.8s\n",
            "641:\tlearn: 1.7637032\ttotal: 13.9s\tremaining: 7.77s\n",
            "642:\tlearn: 1.7632907\ttotal: 14s\tremaining: 7.75s\n",
            "643:\tlearn: 1.7630074\ttotal: 14s\tremaining: 7.72s\n",
            "644:\tlearn: 1.7626816\ttotal: 14s\tremaining: 7.71s\n",
            "645:\tlearn: 1.7625730\ttotal: 14s\tremaining: 7.68s\n",
            "646:\tlearn: 1.7622664\ttotal: 14s\tremaining: 7.66s\n",
            "647:\tlearn: 1.7617798\ttotal: 14s\tremaining: 7.63s\n",
            "648:\tlearn: 1.7614785\ttotal: 14.1s\tremaining: 7.61s\n",
            "649:\tlearn: 1.7612339\ttotal: 14.1s\tremaining: 7.59s\n",
            "650:\tlearn: 1.7608685\ttotal: 14.1s\tremaining: 7.56s\n",
            "651:\tlearn: 1.7607692\ttotal: 14.1s\tremaining: 7.54s\n",
            "652:\tlearn: 1.7605017\ttotal: 14.1s\tremaining: 7.51s\n",
            "653:\tlearn: 1.7600422\ttotal: 14.2s\tremaining: 7.49s\n",
            "654:\tlearn: 1.7597997\ttotal: 14.2s\tremaining: 7.46s\n",
            "655:\tlearn: 1.7595344\ttotal: 14.2s\tremaining: 7.44s\n",
            "656:\tlearn: 1.7592393\ttotal: 14.2s\tremaining: 7.42s\n",
            "657:\tlearn: 1.7589730\ttotal: 14.2s\tremaining: 7.39s\n",
            "658:\tlearn: 1.7587011\ttotal: 14.2s\tremaining: 7.37s\n",
            "659:\tlearn: 1.7584024\ttotal: 14.3s\tremaining: 7.34s\n",
            "660:\tlearn: 1.7581671\ttotal: 14.3s\tremaining: 7.32s\n",
            "661:\tlearn: 1.7579008\ttotal: 14.3s\tremaining: 7.3s\n",
            "662:\tlearn: 1.7576035\ttotal: 14.3s\tremaining: 7.28s\n",
            "663:\tlearn: 1.7573214\ttotal: 14.3s\tremaining: 7.25s\n",
            "664:\tlearn: 1.7567618\ttotal: 14.4s\tremaining: 7.23s\n",
            "665:\tlearn: 1.7560508\ttotal: 14.4s\tremaining: 7.21s\n",
            "666:\tlearn: 1.7557898\ttotal: 14.4s\tremaining: 7.18s\n",
            "667:\tlearn: 1.7554680\ttotal: 14.4s\tremaining: 7.16s\n",
            "668:\tlearn: 1.7553726\ttotal: 14.4s\tremaining: 7.13s\n",
            "669:\tlearn: 1.7552349\ttotal: 14.4s\tremaining: 7.11s\n",
            "670:\tlearn: 1.7548725\ttotal: 14.5s\tremaining: 7.09s\n",
            "671:\tlearn: 1.7545601\ttotal: 14.5s\tremaining: 7.07s\n",
            "672:\tlearn: 1.7544695\ttotal: 14.5s\tremaining: 7.05s\n",
            "673:\tlearn: 1.7543214\ttotal: 14.5s\tremaining: 7.03s\n",
            "674:\tlearn: 1.7540914\ttotal: 14.5s\tremaining: 7s\n",
            "675:\tlearn: 1.7540068\ttotal: 14.6s\tremaining: 6.98s\n",
            "676:\tlearn: 1.7537968\ttotal: 14.6s\tremaining: 6.95s\n",
            "677:\tlearn: 1.7532880\ttotal: 14.6s\tremaining: 6.93s\n",
            "678:\tlearn: 1.7531265\ttotal: 14.6s\tremaining: 6.9s\n",
            "679:\tlearn: 1.7528722\ttotal: 14.6s\tremaining: 6.88s\n",
            "680:\tlearn: 1.7524135\ttotal: 14.6s\tremaining: 6.86s\n",
            "681:\tlearn: 1.7519307\ttotal: 14.7s\tremaining: 6.83s\n",
            "682:\tlearn: 1.7515506\ttotal: 14.7s\tremaining: 6.81s\n",
            "683:\tlearn: 1.7512953\ttotal: 14.7s\tremaining: 6.79s\n",
            "684:\tlearn: 1.7511265\ttotal: 14.7s\tremaining: 6.76s\n",
            "685:\tlearn: 1.7509273\ttotal: 14.7s\tremaining: 6.74s\n",
            "686:\tlearn: 1.7508328\ttotal: 14.7s\tremaining: 6.72s\n",
            "687:\tlearn: 1.7504027\ttotal: 14.8s\tremaining: 6.69s\n",
            "688:\tlearn: 1.7501343\ttotal: 14.8s\tremaining: 6.67s\n",
            "689:\tlearn: 1.7498278\ttotal: 14.8s\tremaining: 6.65s\n",
            "690:\tlearn: 1.7492965\ttotal: 14.8s\tremaining: 6.62s\n",
            "691:\tlearn: 1.7489160\ttotal: 14.8s\tremaining: 6.6s\n",
            "692:\tlearn: 1.7488191\ttotal: 14.8s\tremaining: 6.58s\n",
            "693:\tlearn: 1.7486186\ttotal: 14.9s\tremaining: 6.55s\n",
            "694:\tlearn: 1.7482969\ttotal: 14.9s\tremaining: 6.53s\n",
            "695:\tlearn: 1.7481182\ttotal: 14.9s\tremaining: 6.51s\n",
            "696:\tlearn: 1.7479157\ttotal: 14.9s\tremaining: 6.49s\n",
            "697:\tlearn: 1.7477971\ttotal: 14.9s\tremaining: 6.46s\n",
            "698:\tlearn: 1.7474972\ttotal: 15s\tremaining: 6.44s\n",
            "699:\tlearn: 1.7471807\ttotal: 15s\tremaining: 6.42s\n",
            "700:\tlearn: 1.7468211\ttotal: 15s\tremaining: 6.39s\n",
            "701:\tlearn: 1.7463449\ttotal: 15s\tremaining: 6.37s\n",
            "702:\tlearn: 1.7459706\ttotal: 15s\tremaining: 6.35s\n",
            "703:\tlearn: 1.7457238\ttotal: 15s\tremaining: 6.32s\n",
            "704:\tlearn: 1.7453739\ttotal: 15.1s\tremaining: 6.3s\n",
            "705:\tlearn: 1.7451109\ttotal: 15.1s\tremaining: 6.28s\n",
            "706:\tlearn: 1.7445008\ttotal: 15.1s\tremaining: 6.25s\n",
            "707:\tlearn: 1.7442743\ttotal: 15.1s\tremaining: 6.23s\n",
            "708:\tlearn: 1.7440276\ttotal: 15.1s\tremaining: 6.21s\n",
            "709:\tlearn: 1.7437531\ttotal: 15.1s\tremaining: 6.19s\n",
            "710:\tlearn: 1.7435922\ttotal: 15.2s\tremaining: 6.16s\n",
            "711:\tlearn: 1.7434235\ttotal: 15.2s\tremaining: 6.14s\n",
            "712:\tlearn: 1.7433153\ttotal: 15.2s\tremaining: 6.12s\n",
            "713:\tlearn: 1.7429663\ttotal: 15.2s\tremaining: 6.09s\n",
            "714:\tlearn: 1.7425574\ttotal: 15.2s\tremaining: 6.07s\n",
            "715:\tlearn: 1.7422388\ttotal: 15.2s\tremaining: 6.05s\n",
            "716:\tlearn: 1.7420264\ttotal: 15.3s\tremaining: 6.02s\n",
            "717:\tlearn: 1.7417747\ttotal: 15.3s\tremaining: 6s\n",
            "718:\tlearn: 1.7415667\ttotal: 15.3s\tremaining: 5.98s\n",
            "719:\tlearn: 1.7411865\ttotal: 15.3s\tremaining: 5.96s\n",
            "720:\tlearn: 1.7408801\ttotal: 15.3s\tremaining: 5.93s\n",
            "721:\tlearn: 1.7406574\ttotal: 15.4s\tremaining: 5.91s\n",
            "722:\tlearn: 1.7402595\ttotal: 15.4s\tremaining: 5.89s\n",
            "723:\tlearn: 1.7398367\ttotal: 15.4s\tremaining: 5.87s\n",
            "724:\tlearn: 1.7394923\ttotal: 15.4s\tremaining: 5.84s\n",
            "725:\tlearn: 1.7394004\ttotal: 15.4s\tremaining: 5.82s\n",
            "726:\tlearn: 1.7390485\ttotal: 15.4s\tremaining: 5.8s\n",
            "727:\tlearn: 1.7387582\ttotal: 15.5s\tremaining: 5.78s\n",
            "728:\tlearn: 1.7384594\ttotal: 15.5s\tremaining: 5.76s\n",
            "729:\tlearn: 1.7381699\ttotal: 15.5s\tremaining: 5.74s\n",
            "730:\tlearn: 1.7379175\ttotal: 15.5s\tremaining: 5.71s\n",
            "731:\tlearn: 1.7377532\ttotal: 15.5s\tremaining: 5.69s\n",
            "732:\tlearn: 1.7376328\ttotal: 15.6s\tremaining: 5.67s\n",
            "733:\tlearn: 1.7374059\ttotal: 15.6s\tremaining: 5.65s\n",
            "734:\tlearn: 1.7368568\ttotal: 15.6s\tremaining: 5.62s\n",
            "735:\tlearn: 1.7364586\ttotal: 15.6s\tremaining: 5.6s\n",
            "736:\tlearn: 1.7363448\ttotal: 15.6s\tremaining: 5.58s\n",
            "737:\tlearn: 1.7360421\ttotal: 15.6s\tremaining: 5.55s\n",
            "738:\tlearn: 1.7355496\ttotal: 15.7s\tremaining: 5.53s\n",
            "739:\tlearn: 1.7353508\ttotal: 15.7s\tremaining: 5.51s\n",
            "740:\tlearn: 1.7351308\ttotal: 15.7s\tremaining: 5.49s\n",
            "741:\tlearn: 1.7348459\ttotal: 15.7s\tremaining: 5.47s\n",
            "742:\tlearn: 1.7346037\ttotal: 15.7s\tremaining: 5.45s\n",
            "743:\tlearn: 1.7343064\ttotal: 15.8s\tremaining: 5.42s\n",
            "744:\tlearn: 1.7339023\ttotal: 15.8s\tremaining: 5.4s\n",
            "745:\tlearn: 1.7335862\ttotal: 15.8s\tremaining: 5.38s\n",
            "746:\tlearn: 1.7333907\ttotal: 15.8s\tremaining: 5.36s\n",
            "747:\tlearn: 1.7332945\ttotal: 15.8s\tremaining: 5.33s\n",
            "748:\tlearn: 1.7329789\ttotal: 15.8s\tremaining: 5.31s\n",
            "749:\tlearn: 1.7324149\ttotal: 15.9s\tremaining: 5.29s\n",
            "750:\tlearn: 1.7320640\ttotal: 15.9s\tremaining: 5.27s\n",
            "751:\tlearn: 1.7319065\ttotal: 15.9s\tremaining: 5.24s\n",
            "752:\tlearn: 1.7316891\ttotal: 15.9s\tremaining: 5.22s\n",
            "753:\tlearn: 1.7315311\ttotal: 15.9s\tremaining: 5.2s\n",
            "754:\tlearn: 1.7313098\ttotal: 16s\tremaining: 5.18s\n",
            "755:\tlearn: 1.7309944\ttotal: 16s\tremaining: 5.16s\n",
            "756:\tlearn: 1.7306659\ttotal: 16s\tremaining: 5.13s\n",
            "757:\tlearn: 1.7304100\ttotal: 16s\tremaining: 5.11s\n",
            "758:\tlearn: 1.7302401\ttotal: 16s\tremaining: 5.09s\n",
            "759:\tlearn: 1.7299856\ttotal: 16s\tremaining: 5.07s\n",
            "760:\tlearn: 1.7298774\ttotal: 16.1s\tremaining: 5.04s\n",
            "761:\tlearn: 1.7293796\ttotal: 16.1s\tremaining: 5.02s\n",
            "762:\tlearn: 1.7291042\ttotal: 16.1s\tremaining: 5s\n",
            "763:\tlearn: 1.7289804\ttotal: 16.1s\tremaining: 4.98s\n",
            "764:\tlearn: 1.7286491\ttotal: 16.1s\tremaining: 4.96s\n",
            "765:\tlearn: 1.7282816\ttotal: 16.2s\tremaining: 4.93s\n",
            "766:\tlearn: 1.7281944\ttotal: 16.2s\tremaining: 4.91s\n",
            "767:\tlearn: 1.7279282\ttotal: 16.2s\tremaining: 4.89s\n",
            "768:\tlearn: 1.7276618\ttotal: 16.2s\tremaining: 4.87s\n",
            "769:\tlearn: 1.7273863\ttotal: 16.2s\tremaining: 4.85s\n",
            "770:\tlearn: 1.7271320\ttotal: 16.2s\tremaining: 4.82s\n",
            "771:\tlearn: 1.7267162\ttotal: 16.3s\tremaining: 4.8s\n",
            "772:\tlearn: 1.7265010\ttotal: 16.3s\tremaining: 4.78s\n",
            "773:\tlearn: 1.7260753\ttotal: 16.3s\tremaining: 4.76s\n",
            "774:\tlearn: 1.7257885\ttotal: 16.3s\tremaining: 4.74s\n",
            "775:\tlearn: 1.7254341\ttotal: 16.3s\tremaining: 4.71s\n",
            "776:\tlearn: 1.7251741\ttotal: 16.3s\tremaining: 4.69s\n",
            "777:\tlearn: 1.7248609\ttotal: 16.4s\tremaining: 4.67s\n",
            "778:\tlearn: 1.7246140\ttotal: 16.4s\tremaining: 4.65s\n",
            "779:\tlearn: 1.7243622\ttotal: 16.4s\tremaining: 4.63s\n",
            "780:\tlearn: 1.7241065\ttotal: 16.4s\tremaining: 4.6s\n",
            "781:\tlearn: 1.7238013\ttotal: 16.4s\tremaining: 4.58s\n",
            "782:\tlearn: 1.7234064\ttotal: 16.5s\tremaining: 4.56s\n",
            "783:\tlearn: 1.7231291\ttotal: 16.5s\tremaining: 4.54s\n",
            "784:\tlearn: 1.7227120\ttotal: 16.5s\tremaining: 4.52s\n",
            "785:\tlearn: 1.7224164\ttotal: 16.5s\tremaining: 4.5s\n",
            "786:\tlearn: 1.7223069\ttotal: 16.5s\tremaining: 4.47s\n",
            "787:\tlearn: 1.7220253\ttotal: 16.6s\tremaining: 4.45s\n",
            "788:\tlearn: 1.7216737\ttotal: 16.6s\tremaining: 4.43s\n",
            "789:\tlearn: 1.7213954\ttotal: 16.6s\tremaining: 4.41s\n",
            "790:\tlearn: 1.7212616\ttotal: 16.6s\tremaining: 4.39s\n",
            "791:\tlearn: 1.7209636\ttotal: 16.6s\tremaining: 4.37s\n",
            "792:\tlearn: 1.7205627\ttotal: 16.6s\tremaining: 4.34s\n",
            "793:\tlearn: 1.7202900\ttotal: 16.7s\tremaining: 4.32s\n",
            "794:\tlearn: 1.7199576\ttotal: 16.7s\tremaining: 4.3s\n",
            "795:\tlearn: 1.7197725\ttotal: 16.7s\tremaining: 4.28s\n",
            "796:\tlearn: 1.7193296\ttotal: 16.7s\tremaining: 4.26s\n",
            "797:\tlearn: 1.7189987\ttotal: 16.7s\tremaining: 4.24s\n",
            "798:\tlearn: 1.7186651\ttotal: 16.7s\tremaining: 4.21s\n",
            "799:\tlearn: 1.7185865\ttotal: 16.8s\tremaining: 4.19s\n",
            "800:\tlearn: 1.7182773\ttotal: 16.8s\tremaining: 4.17s\n",
            "801:\tlearn: 1.7178976\ttotal: 16.8s\tremaining: 4.15s\n",
            "802:\tlearn: 1.7176650\ttotal: 16.8s\tremaining: 4.13s\n",
            "803:\tlearn: 1.7173194\ttotal: 16.8s\tremaining: 4.1s\n",
            "804:\tlearn: 1.7171049\ttotal: 16.9s\tremaining: 4.08s\n",
            "805:\tlearn: 1.7168001\ttotal: 16.9s\tremaining: 4.06s\n",
            "806:\tlearn: 1.7166349\ttotal: 16.9s\tremaining: 4.04s\n",
            "807:\tlearn: 1.7165597\ttotal: 16.9s\tremaining: 4.02s\n",
            "808:\tlearn: 1.7164244\ttotal: 16.9s\tremaining: 3.99s\n",
            "809:\tlearn: 1.7161876\ttotal: 16.9s\tremaining: 3.97s\n",
            "810:\tlearn: 1.7160141\ttotal: 17s\tremaining: 3.95s\n",
            "811:\tlearn: 1.7157049\ttotal: 17s\tremaining: 3.93s\n",
            "812:\tlearn: 1.7153673\ttotal: 17s\tremaining: 3.91s\n",
            "813:\tlearn: 1.7152926\ttotal: 17s\tremaining: 3.89s\n",
            "814:\tlearn: 1.7152282\ttotal: 17s\tremaining: 3.87s\n",
            "815:\tlearn: 1.7147971\ttotal: 17.1s\tremaining: 3.85s\n",
            "816:\tlearn: 1.7147146\ttotal: 17.1s\tremaining: 3.82s\n",
            "817:\tlearn: 1.7144334\ttotal: 17.1s\tremaining: 3.8s\n",
            "818:\tlearn: 1.7138826\ttotal: 17.1s\tremaining: 3.78s\n",
            "819:\tlearn: 1.7134521\ttotal: 17.1s\tremaining: 3.76s\n",
            "820:\tlearn: 1.7131885\ttotal: 17.1s\tremaining: 3.73s\n",
            "821:\tlearn: 1.7129952\ttotal: 17.2s\tremaining: 3.71s\n",
            "822:\tlearn: 1.7127523\ttotal: 17.2s\tremaining: 3.69s\n",
            "823:\tlearn: 1.7125166\ttotal: 17.2s\tremaining: 3.67s\n",
            "824:\tlearn: 1.7120855\ttotal: 17.2s\tremaining: 3.65s\n",
            "825:\tlearn: 1.7118675\ttotal: 17.2s\tremaining: 3.63s\n",
            "826:\tlearn: 1.7115996\ttotal: 17.2s\tremaining: 3.61s\n",
            "827:\tlearn: 1.7114001\ttotal: 17.3s\tremaining: 3.58s\n",
            "828:\tlearn: 1.7110059\ttotal: 17.3s\tremaining: 3.56s\n",
            "829:\tlearn: 1.7107698\ttotal: 17.3s\tremaining: 3.54s\n",
            "830:\tlearn: 1.7105344\ttotal: 17.3s\tremaining: 3.52s\n",
            "831:\tlearn: 1.7101841\ttotal: 17.3s\tremaining: 3.5s\n",
            "832:\tlearn: 1.7099100\ttotal: 17.3s\tremaining: 3.48s\n",
            "833:\tlearn: 1.7096893\ttotal: 17.4s\tremaining: 3.46s\n",
            "834:\tlearn: 1.7094305\ttotal: 17.4s\tremaining: 3.43s\n",
            "835:\tlearn: 1.7087792\ttotal: 17.4s\tremaining: 3.41s\n",
            "836:\tlearn: 1.7083398\ttotal: 17.4s\tremaining: 3.39s\n",
            "837:\tlearn: 1.7080471\ttotal: 17.4s\tremaining: 3.37s\n",
            "838:\tlearn: 1.7075019\ttotal: 17.5s\tremaining: 3.35s\n",
            "839:\tlearn: 1.7072729\ttotal: 17.5s\tremaining: 3.33s\n",
            "840:\tlearn: 1.7071843\ttotal: 17.5s\tremaining: 3.31s\n",
            "841:\tlearn: 1.7068307\ttotal: 17.5s\tremaining: 3.29s\n",
            "842:\tlearn: 1.7063994\ttotal: 17.5s\tremaining: 3.27s\n",
            "843:\tlearn: 1.7062351\ttotal: 17.6s\tremaining: 3.24s\n",
            "844:\tlearn: 1.7061323\ttotal: 17.6s\tremaining: 3.22s\n",
            "845:\tlearn: 1.7059728\ttotal: 17.6s\tremaining: 3.2s\n",
            "846:\tlearn: 1.7057044\ttotal: 17.6s\tremaining: 3.18s\n",
            "847:\tlearn: 1.7055086\ttotal: 17.6s\tremaining: 3.16s\n",
            "848:\tlearn: 1.7051813\ttotal: 17.6s\tremaining: 3.14s\n",
            "849:\tlearn: 1.7045930\ttotal: 17.7s\tremaining: 3.12s\n",
            "850:\tlearn: 1.7042783\ttotal: 17.7s\tremaining: 3.1s\n",
            "851:\tlearn: 1.7040261\ttotal: 17.7s\tremaining: 3.08s\n",
            "852:\tlearn: 1.7037073\ttotal: 17.7s\tremaining: 3.05s\n",
            "853:\tlearn: 1.7029358\ttotal: 17.7s\tremaining: 3.03s\n",
            "854:\tlearn: 1.7025256\ttotal: 17.8s\tremaining: 3.01s\n",
            "855:\tlearn: 1.7020861\ttotal: 17.8s\tremaining: 2.99s\n",
            "856:\tlearn: 1.7014309\ttotal: 17.8s\tremaining: 2.97s\n",
            "857:\tlearn: 1.7008313\ttotal: 17.8s\tremaining: 2.95s\n",
            "858:\tlearn: 1.7004176\ttotal: 17.8s\tremaining: 2.92s\n",
            "859:\tlearn: 1.7001414\ttotal: 17.8s\tremaining: 2.9s\n",
            "860:\tlearn: 1.7000270\ttotal: 17.9s\tremaining: 2.88s\n",
            "861:\tlearn: 1.6998925\ttotal: 17.9s\tremaining: 2.86s\n",
            "862:\tlearn: 1.6996181\ttotal: 17.9s\tremaining: 2.84s\n",
            "863:\tlearn: 1.6992013\ttotal: 17.9s\tremaining: 2.82s\n",
            "864:\tlearn: 1.6986516\ttotal: 17.9s\tremaining: 2.8s\n",
            "865:\tlearn: 1.6982811\ttotal: 17.9s\tremaining: 2.78s\n",
            "866:\tlearn: 1.6981696\ttotal: 18s\tremaining: 2.75s\n",
            "867:\tlearn: 1.6977796\ttotal: 18s\tremaining: 2.73s\n",
            "868:\tlearn: 1.6976309\ttotal: 18s\tremaining: 2.71s\n",
            "869:\tlearn: 1.6972134\ttotal: 18s\tremaining: 2.69s\n",
            "870:\tlearn: 1.6971132\ttotal: 18s\tremaining: 2.67s\n",
            "871:\tlearn: 1.6967608\ttotal: 18.1s\tremaining: 2.65s\n",
            "872:\tlearn: 1.6961315\ttotal: 18.1s\tremaining: 2.63s\n",
            "873:\tlearn: 1.6958334\ttotal: 18.1s\tremaining: 2.61s\n",
            "874:\tlearn: 1.6954992\ttotal: 18.1s\tremaining: 2.59s\n",
            "875:\tlearn: 1.6951600\ttotal: 18.1s\tremaining: 2.56s\n",
            "876:\tlearn: 1.6948478\ttotal: 18.1s\tremaining: 2.54s\n",
            "877:\tlearn: 1.6947248\ttotal: 18.2s\tremaining: 2.52s\n",
            "878:\tlearn: 1.6945915\ttotal: 18.2s\tremaining: 2.5s\n",
            "879:\tlearn: 1.6943653\ttotal: 18.2s\tremaining: 2.48s\n",
            "880:\tlearn: 1.6936339\ttotal: 18.2s\tremaining: 2.46s\n",
            "881:\tlearn: 1.6932415\ttotal: 18.2s\tremaining: 2.44s\n",
            "882:\tlearn: 1.6929528\ttotal: 18.3s\tremaining: 2.42s\n",
            "883:\tlearn: 1.6926495\ttotal: 18.3s\tremaining: 2.4s\n",
            "884:\tlearn: 1.6925270\ttotal: 18.4s\tremaining: 2.38s\n",
            "885:\tlearn: 1.6922251\ttotal: 18.4s\tremaining: 2.36s\n",
            "886:\tlearn: 1.6916939\ttotal: 18.4s\tremaining: 2.34s\n",
            "887:\tlearn: 1.6913125\ttotal: 18.4s\tremaining: 2.33s\n",
            "888:\tlearn: 1.6909975\ttotal: 18.5s\tremaining: 2.31s\n",
            "889:\tlearn: 1.6908618\ttotal: 18.5s\tremaining: 2.29s\n",
            "890:\tlearn: 1.6907062\ttotal: 18.6s\tremaining: 2.27s\n",
            "891:\tlearn: 1.6905486\ttotal: 18.6s\tremaining: 2.25s\n",
            "892:\tlearn: 1.6902618\ttotal: 18.6s\tremaining: 2.23s\n",
            "893:\tlearn: 1.6900724\ttotal: 18.7s\tremaining: 2.22s\n",
            "894:\tlearn: 1.6898327\ttotal: 18.7s\tremaining: 2.2s\n",
            "895:\tlearn: 1.6896167\ttotal: 18.8s\tremaining: 2.18s\n",
            "896:\tlearn: 1.6893476\ttotal: 18.8s\tremaining: 2.16s\n",
            "897:\tlearn: 1.6890519\ttotal: 18.8s\tremaining: 2.14s\n",
            "898:\tlearn: 1.6885382\ttotal: 18.9s\tremaining: 2.12s\n",
            "899:\tlearn: 1.6882226\ttotal: 18.9s\tremaining: 2.1s\n",
            "900:\tlearn: 1.6880054\ttotal: 18.9s\tremaining: 2.08s\n",
            "901:\tlearn: 1.6879100\ttotal: 19s\tremaining: 2.06s\n",
            "902:\tlearn: 1.6877282\ttotal: 19s\tremaining: 2.04s\n",
            "903:\tlearn: 1.6875338\ttotal: 19s\tremaining: 2.02s\n",
            "904:\tlearn: 1.6872599\ttotal: 19.1s\tremaining: 2s\n",
            "905:\tlearn: 1.6871092\ttotal: 19.1s\tremaining: 1.98s\n",
            "906:\tlearn: 1.6867753\ttotal: 19.2s\tremaining: 1.97s\n",
            "907:\tlearn: 1.6865200\ttotal: 19.2s\tremaining: 1.95s\n",
            "908:\tlearn: 1.6860432\ttotal: 19.3s\tremaining: 1.93s\n",
            "909:\tlearn: 1.6857356\ttotal: 19.3s\tremaining: 1.91s\n",
            "910:\tlearn: 1.6853548\ttotal: 19.3s\tremaining: 1.89s\n",
            "911:\tlearn: 1.6849299\ttotal: 19.4s\tremaining: 1.87s\n",
            "912:\tlearn: 1.6845455\ttotal: 19.4s\tremaining: 1.85s\n",
            "913:\tlearn: 1.6843137\ttotal: 19.5s\tremaining: 1.83s\n",
            "914:\tlearn: 1.6841972\ttotal: 19.5s\tremaining: 1.81s\n",
            "915:\tlearn: 1.6839790\ttotal: 19.6s\tremaining: 1.79s\n",
            "916:\tlearn: 1.6835091\ttotal: 19.6s\tremaining: 1.77s\n",
            "917:\tlearn: 1.6833675\ttotal: 19.7s\tremaining: 1.76s\n",
            "918:\tlearn: 1.6831563\ttotal: 19.7s\tremaining: 1.74s\n",
            "919:\tlearn: 1.6830155\ttotal: 19.8s\tremaining: 1.72s\n",
            "920:\tlearn: 1.6826556\ttotal: 19.8s\tremaining: 1.7s\n",
            "921:\tlearn: 1.6823646\ttotal: 19.9s\tremaining: 1.68s\n",
            "922:\tlearn: 1.6820070\ttotal: 19.9s\tremaining: 1.66s\n",
            "923:\tlearn: 1.6815929\ttotal: 19.9s\tremaining: 1.64s\n",
            "924:\tlearn: 1.6814180\ttotal: 20s\tremaining: 1.62s\n",
            "925:\tlearn: 1.6811157\ttotal: 20s\tremaining: 1.6s\n",
            "926:\tlearn: 1.6807780\ttotal: 20.1s\tremaining: 1.58s\n",
            "927:\tlearn: 1.6804007\ttotal: 20.1s\tremaining: 1.56s\n",
            "928:\tlearn: 1.6800787\ttotal: 20.2s\tremaining: 1.54s\n",
            "929:\tlearn: 1.6798014\ttotal: 20.2s\tremaining: 1.52s\n",
            "930:\tlearn: 1.6795023\ttotal: 20.2s\tremaining: 1.5s\n",
            "931:\tlearn: 1.6793468\ttotal: 20.3s\tremaining: 1.48s\n",
            "932:\tlearn: 1.6790909\ttotal: 20.3s\tremaining: 1.46s\n",
            "933:\tlearn: 1.6787519\ttotal: 20.4s\tremaining: 1.44s\n",
            "934:\tlearn: 1.6785265\ttotal: 20.4s\tremaining: 1.42s\n",
            "935:\tlearn: 1.6782220\ttotal: 20.5s\tremaining: 1.4s\n",
            "936:\tlearn: 1.6778627\ttotal: 20.5s\tremaining: 1.38s\n",
            "937:\tlearn: 1.6776549\ttotal: 20.6s\tremaining: 1.36s\n",
            "938:\tlearn: 1.6775722\ttotal: 20.6s\tremaining: 1.34s\n",
            "939:\tlearn: 1.6774045\ttotal: 20.6s\tremaining: 1.32s\n",
            "940:\tlearn: 1.6770671\ttotal: 20.7s\tremaining: 1.3s\n",
            "941:\tlearn: 1.6768512\ttotal: 20.7s\tremaining: 1.28s\n",
            "942:\tlearn: 1.6764248\ttotal: 20.8s\tremaining: 1.26s\n",
            "943:\tlearn: 1.6761289\ttotal: 20.8s\tremaining: 1.24s\n",
            "944:\tlearn: 1.6758527\ttotal: 20.9s\tremaining: 1.21s\n",
            "945:\tlearn: 1.6755886\ttotal: 20.9s\tremaining: 1.19s\n",
            "946:\tlearn: 1.6753747\ttotal: 21s\tremaining: 1.17s\n",
            "947:\tlearn: 1.6750571\ttotal: 21s\tremaining: 1.15s\n",
            "948:\tlearn: 1.6745940\ttotal: 21s\tremaining: 1.13s\n",
            "949:\tlearn: 1.6744125\ttotal: 21.1s\tremaining: 1.11s\n",
            "950:\tlearn: 1.6741492\ttotal: 21.1s\tremaining: 1.09s\n",
            "951:\tlearn: 1.6740174\ttotal: 21.2s\tremaining: 1.07s\n",
            "952:\tlearn: 1.6737839\ttotal: 21.2s\tremaining: 1.05s\n",
            "953:\tlearn: 1.6736291\ttotal: 21.3s\tremaining: 1.02s\n",
            "954:\tlearn: 1.6734715\ttotal: 21.3s\tremaining: 1s\n",
            "955:\tlearn: 1.6731700\ttotal: 21.4s\tremaining: 983ms\n",
            "956:\tlearn: 1.6729461\ttotal: 21.4s\tremaining: 961ms\n",
            "957:\tlearn: 1.6726723\ttotal: 21.4s\tremaining: 940ms\n",
            "958:\tlearn: 1.6724600\ttotal: 21.5s\tremaining: 919ms\n",
            "959:\tlearn: 1.6722472\ttotal: 21.5s\tremaining: 897ms\n",
            "960:\tlearn: 1.6720064\ttotal: 21.6s\tremaining: 875ms\n",
            "961:\tlearn: 1.6714434\ttotal: 21.6s\tremaining: 854ms\n",
            "962:\tlearn: 1.6711670\ttotal: 21.7s\tremaining: 832ms\n",
            "963:\tlearn: 1.6709119\ttotal: 21.7s\tremaining: 810ms\n",
            "964:\tlearn: 1.6707997\ttotal: 21.7s\tremaining: 788ms\n",
            "965:\tlearn: 1.6705513\ttotal: 21.8s\tremaining: 767ms\n",
            "966:\tlearn: 1.6704793\ttotal: 21.8s\tremaining: 744ms\n",
            "967:\tlearn: 1.6701197\ttotal: 21.9s\tremaining: 723ms\n",
            "968:\tlearn: 1.6699297\ttotal: 21.9s\tremaining: 701ms\n",
            "969:\tlearn: 1.6697146\ttotal: 21.9s\tremaining: 679ms\n",
            "970:\tlearn: 1.6694904\ttotal: 22s\tremaining: 656ms\n",
            "971:\tlearn: 1.6692467\ttotal: 22s\tremaining: 634ms\n",
            "972:\tlearn: 1.6689209\ttotal: 22s\tremaining: 611ms\n",
            "973:\tlearn: 1.6685644\ttotal: 22.1s\tremaining: 589ms\n",
            "974:\tlearn: 1.6683836\ttotal: 22.1s\tremaining: 567ms\n",
            "975:\tlearn: 1.6681449\ttotal: 22.1s\tremaining: 544ms\n",
            "976:\tlearn: 1.6676997\ttotal: 22.2s\tremaining: 522ms\n",
            "977:\tlearn: 1.6673189\ttotal: 22.2s\tremaining: 499ms\n",
            "978:\tlearn: 1.6672187\ttotal: 22.2s\tremaining: 477ms\n",
            "979:\tlearn: 1.6670930\ttotal: 22.3s\tremaining: 455ms\n",
            "980:\tlearn: 1.6668690\ttotal: 22.3s\tremaining: 432ms\n",
            "981:\tlearn: 1.6665283\ttotal: 22.3s\tremaining: 409ms\n",
            "982:\tlearn: 1.6663895\ttotal: 22.4s\tremaining: 387ms\n",
            "983:\tlearn: 1.6660813\ttotal: 22.4s\tremaining: 364ms\n",
            "984:\tlearn: 1.6657682\ttotal: 22.5s\tremaining: 342ms\n",
            "985:\tlearn: 1.6655044\ttotal: 22.5s\tremaining: 320ms\n",
            "986:\tlearn: 1.6653125\ttotal: 22.5s\tremaining: 297ms\n",
            "987:\tlearn: 1.6651417\ttotal: 22.6s\tremaining: 274ms\n",
            "988:\tlearn: 1.6649867\ttotal: 22.6s\tremaining: 252ms\n",
            "989:\tlearn: 1.6647038\ttotal: 22.7s\tremaining: 229ms\n",
            "990:\tlearn: 1.6643586\ttotal: 22.7s\tremaining: 206ms\n",
            "991:\tlearn: 1.6640026\ttotal: 22.7s\tremaining: 183ms\n",
            "992:\tlearn: 1.6636714\ttotal: 22.8s\tremaining: 161ms\n",
            "993:\tlearn: 1.6634462\ttotal: 22.8s\tremaining: 138ms\n",
            "994:\tlearn: 1.6633743\ttotal: 22.8s\tremaining: 115ms\n",
            "995:\tlearn: 1.6632188\ttotal: 22.8s\tremaining: 91.7ms\n",
            "996:\tlearn: 1.6630836\ttotal: 22.9s\tremaining: 68.8ms\n",
            "997:\tlearn: 1.6628299\ttotal: 22.9s\tremaining: 45.9ms\n",
            "998:\tlearn: 1.6626803\ttotal: 22.9s\tremaining: 22.9ms\n",
            "999:\tlearn: 1.6624339\ttotal: 22.9s\tremaining: 0us\n"
          ]
        },
        {
          "output_type": "execute_result",
          "data": {
            "text/plain": [
              "<catboost.core.CatBoostRegressor at 0x7f14906c9b40>"
            ]
          },
          "metadata": {},
          "execution_count": 29
        }
      ]
    },
    {
      "cell_type": "code",
      "source": [
        "compute_metric('CatBoost Regressor Train', CBR, X_train, Y_train)"
      ],
      "metadata": {
        "colab": {
          "base_uri": "https://localhost:8080/"
        },
        "id": "ueeBWUSIvnxV",
        "outputId": "974ac11f-07f4-420c-f79c-055cdd2a4f84"
      },
      "execution_count": null,
      "outputs": [
        {
          "output_type": "stream",
          "name": "stdout",
          "text": [
            "CatBoost Regressor Train-R2: 0.4862720544210314\n",
            "CatBoost Regressor Train-RMSE: 1.662433863687221\n",
            "CatBoost Regressor Train-MAE: 0.44564992495385664\n",
            "CatBoost Regressor Train-Pearson r: 0.718826362651344\n"
          ]
        }
      ]
    },
    {
      "cell_type": "code",
      "source": [
        "compute_metric('CatBoost Regressor Val', CBR, X_test, Y_test)"
      ],
      "metadata": {
        "colab": {
          "base_uri": "https://localhost:8080/"
        },
        "id": "vqc2MUFsvowS",
        "outputId": "36d45026-e6c8-4aca-b5f6-f2447cfd037d"
      },
      "execution_count": null,
      "outputs": [
        {
          "output_type": "stream",
          "name": "stdout",
          "text": [
            "CatBoost Regressor Val-R2: 0.23098248185179304\n",
            "CatBoost Regressor Val-RMSE: 2.164191889865386\n",
            "CatBoost Regressor Val-MAE: 0.5303271330518351\n",
            "CatBoost Regressor Val-Pearson r: 0.480621181878249\n"
          ]
        }
      ]
    },
    {
      "cell_type": "code",
      "source": [
        "cbr_param_grid = {\"depth\"    : [11, 15, 16],\n",
        "                  \"learning_rate\" : [0.1, 0.2, 0.3],\n",
        "                  \"iterations\"     : [10, 50, 100]}\n",
        "grid_cbr = GridSearchCV(CBR, param_grid=cbr_param_grid, cv=3, n_jobs=-1, verbose=1)\n",
        "grid_cbr.fit(X_train, Y_train)"
      ],
      "metadata": {
        "colab": {
          "base_uri": "https://localhost:8080/",
          "height": 1000
        },
        "id": "omMOBgeumHyz",
        "outputId": "072093b7-d9ca-452c-d3cb-c1a72f60d137"
      },
      "execution_count": null,
      "outputs": [
        {
          "output_type": "stream",
          "name": "stdout",
          "text": [
            "Fitting 3 folds for each of 27 candidates, totalling 81 fits\n"
          ]
        },
        {
          "output_type": "stream",
          "name": "stderr",
          "text": [
            "/usr/local/lib/python3.10/dist-packages/joblib/externals/loky/process_executor.py:700: UserWarning: A worker stopped while some jobs were given to the executor. This can be caused by a too short worker timeout or by a memory leak.\n",
            "  warnings.warn(\n"
          ]
        },
        {
          "output_type": "stream",
          "name": "stdout",
          "text": [
            "0:\tlearn: 2.2806560\ttotal: 1.66s\tremaining: 2m 44s\n",
            "1:\tlearn: 2.2442629\ttotal: 3.29s\tremaining: 2m 41s\n",
            "2:\tlearn: 2.2151109\ttotal: 4.91s\tremaining: 2m 38s\n",
            "3:\tlearn: 2.1892111\ttotal: 6.52s\tremaining: 2m 36s\n",
            "4:\tlearn: 2.1639451\ttotal: 8.9s\tremaining: 2m 49s\n",
            "5:\tlearn: 2.1423622\ttotal: 11.7s\tremaining: 3m 2s\n",
            "6:\tlearn: 2.1198478\ttotal: 13.4s\tremaining: 2m 57s\n",
            "7:\tlearn: 2.0995516\ttotal: 15s\tremaining: 2m 52s\n",
            "8:\tlearn: 2.0810919\ttotal: 16.6s\tremaining: 2m 47s\n",
            "9:\tlearn: 2.0650979\ttotal: 18.2s\tremaining: 2m 43s\n",
            "10:\tlearn: 2.0511747\ttotal: 19.8s\tremaining: 2m 40s\n",
            "11:\tlearn: 2.0353300\ttotal: 21.4s\tremaining: 2m 37s\n",
            "12:\tlearn: 2.0227993\ttotal: 23.8s\tremaining: 2m 39s\n",
            "13:\tlearn: 2.0085015\ttotal: 26.5s\tremaining: 2m 42s\n",
            "14:\tlearn: 1.9959428\ttotal: 28.2s\tremaining: 2m 40s\n",
            "15:\tlearn: 1.9828414\ttotal: 29.8s\tremaining: 2m 36s\n",
            "16:\tlearn: 1.9737085\ttotal: 31.5s\tremaining: 2m 33s\n",
            "17:\tlearn: 1.9640422\ttotal: 33.1s\tremaining: 2m 30s\n",
            "18:\tlearn: 1.9545216\ttotal: 34.7s\tremaining: 2m 27s\n",
            "19:\tlearn: 1.9424676\ttotal: 36.3s\tremaining: 2m 25s\n",
            "20:\tlearn: 1.9310573\ttotal: 38.8s\tremaining: 2m 25s\n",
            "21:\tlearn: 1.9226357\ttotal: 41.5s\tremaining: 2m 27s\n",
            "22:\tlearn: 1.9148143\ttotal: 43.1s\tremaining: 2m 24s\n",
            "23:\tlearn: 1.9051107\ttotal: 44.8s\tremaining: 2m 21s\n",
            "24:\tlearn: 1.8980365\ttotal: 46.4s\tremaining: 2m 19s\n",
            "25:\tlearn: 1.8921300\ttotal: 48s\tremaining: 2m 16s\n",
            "26:\tlearn: 1.8857567\ttotal: 49.6s\tremaining: 2m 14s\n",
            "27:\tlearn: 1.8783561\ttotal: 51.2s\tremaining: 2m 11s\n",
            "28:\tlearn: 1.8699011\ttotal: 53.8s\tremaining: 2m 11s\n",
            "29:\tlearn: 1.8663298\ttotal: 56.4s\tremaining: 2m 11s\n",
            "30:\tlearn: 1.8577970\ttotal: 58.1s\tremaining: 2m 9s\n",
            "31:\tlearn: 1.8504539\ttotal: 59.7s\tremaining: 2m 6s\n",
            "32:\tlearn: 1.8437321\ttotal: 1m 1s\tremaining: 2m 4s\n",
            "33:\tlearn: 1.8371290\ttotal: 1m 2s\tremaining: 2m 2s\n",
            "34:\tlearn: 1.8295419\ttotal: 1m 4s\tremaining: 1m 59s\n",
            "35:\tlearn: 1.8236430\ttotal: 1m 6s\tremaining: 1m 57s\n",
            "36:\tlearn: 1.8157770\ttotal: 1m 8s\tremaining: 1m 57s\n",
            "37:\tlearn: 1.8102284\ttotal: 1m 11s\tremaining: 1m 56s\n",
            "38:\tlearn: 1.8036377\ttotal: 1m 12s\tremaining: 1m 54s\n",
            "39:\tlearn: 1.7978713\ttotal: 1m 14s\tremaining: 1m 51s\n",
            "40:\tlearn: 1.7923569\ttotal: 1m 16s\tremaining: 1m 49s\n",
            "41:\tlearn: 1.7885333\ttotal: 1m 17s\tremaining: 1m 47s\n",
            "42:\tlearn: 1.7824954\ttotal: 1m 19s\tremaining: 1m 45s\n",
            "43:\tlearn: 1.7768037\ttotal: 1m 21s\tremaining: 1m 43s\n",
            "44:\tlearn: 1.7726697\ttotal: 1m 24s\tremaining: 1m 42s\n",
            "45:\tlearn: 1.7674362\ttotal: 1m 26s\tremaining: 1m 41s\n",
            "46:\tlearn: 1.7623618\ttotal: 1m 27s\tremaining: 1m 38s\n",
            "47:\tlearn: 1.7575819\ttotal: 1m 29s\tremaining: 1m 36s\n",
            "48:\tlearn: 1.7539641\ttotal: 1m 31s\tremaining: 1m 34s\n",
            "49:\tlearn: 1.7498747\ttotal: 1m 32s\tremaining: 1m 32s\n",
            "50:\tlearn: 1.7461097\ttotal: 1m 34s\tremaining: 1m 30s\n",
            "51:\tlearn: 1.7430220\ttotal: 1m 36s\tremaining: 1m 28s\n",
            "52:\tlearn: 1.7393746\ttotal: 1m 39s\tremaining: 1m 28s\n",
            "53:\tlearn: 1.7357988\ttotal: 1m 41s\tremaining: 1m 26s\n",
            "54:\tlearn: 1.7330326\ttotal: 1m 43s\tremaining: 1m 24s\n",
            "55:\tlearn: 1.7300700\ttotal: 1m 44s\tremaining: 1m 22s\n",
            "56:\tlearn: 1.7265428\ttotal: 1m 46s\tremaining: 1m 20s\n",
            "57:\tlearn: 1.7214158\ttotal: 1m 48s\tremaining: 1m 18s\n",
            "58:\tlearn: 1.7184831\ttotal: 1m 49s\tremaining: 1m 16s\n",
            "59:\tlearn: 1.7158601\ttotal: 1m 52s\tremaining: 1m 14s\n",
            "60:\tlearn: 1.7128017\ttotal: 1m 55s\tremaining: 1m 13s\n",
            "61:\tlearn: 1.7109984\ttotal: 1m 56s\tremaining: 1m 11s\n",
            "62:\tlearn: 1.7070533\ttotal: 1m 58s\tremaining: 1m 9s\n",
            "63:\tlearn: 1.7027570\ttotal: 2m\tremaining: 1m 7s\n",
            "64:\tlearn: 1.7004144\ttotal: 2m 1s\tremaining: 1m 5s\n",
            "65:\tlearn: 1.6979114\ttotal: 2m 3s\tremaining: 1m 3s\n",
            "66:\tlearn: 1.6955958\ttotal: 2m 5s\tremaining: 1m 1s\n",
            "67:\tlearn: 1.6919556\ttotal: 2m 8s\tremaining: 1m\n",
            "68:\tlearn: 1.6897946\ttotal: 2m 10s\tremaining: 58.7s\n",
            "69:\tlearn: 1.6869369\ttotal: 2m 12s\tremaining: 56.7s\n",
            "70:\tlearn: 1.6843996\ttotal: 2m 14s\tremaining: 54.7s\n",
            "71:\tlearn: 1.6814976\ttotal: 2m 15s\tremaining: 52.8s\n",
            "72:\tlearn: 1.6767119\ttotal: 2m 17s\tremaining: 50.8s\n",
            "73:\tlearn: 1.6741706\ttotal: 2m 19s\tremaining: 48.9s\n",
            "74:\tlearn: 1.6691147\ttotal: 2m 21s\tremaining: 47.1s\n",
            "75:\tlearn: 1.6654306\ttotal: 2m 24s\tremaining: 45.6s\n",
            "76:\tlearn: 1.6631709\ttotal: 2m 26s\tremaining: 43.6s\n",
            "77:\tlearn: 1.6591704\ttotal: 2m 27s\tremaining: 41.7s\n",
            "78:\tlearn: 1.6569182\ttotal: 2m 29s\tremaining: 39.7s\n",
            "79:\tlearn: 1.6541653\ttotal: 2m 31s\tremaining: 37.8s\n",
            "80:\tlearn: 1.6511168\ttotal: 2m 32s\tremaining: 35.8s\n",
            "81:\tlearn: 1.6480658\ttotal: 2m 34s\tremaining: 33.9s\n",
            "82:\tlearn: 1.6455875\ttotal: 2m 37s\tremaining: 32.2s\n",
            "83:\tlearn: 1.6416479\ttotal: 2m 39s\tremaining: 30.4s\n",
            "84:\tlearn: 1.6391604\ttotal: 2m 41s\tremaining: 28.5s\n",
            "85:\tlearn: 1.6372128\ttotal: 2m 42s\tremaining: 26.5s\n",
            "86:\tlearn: 1.6338654\ttotal: 2m 44s\tremaining: 24.6s\n",
            "87:\tlearn: 1.6321298\ttotal: 2m 46s\tremaining: 22.7s\n",
            "88:\tlearn: 1.6282058\ttotal: 2m 47s\tremaining: 20.8s\n",
            "89:\tlearn: 1.6267395\ttotal: 2m 49s\tremaining: 18.9s\n",
            "90:\tlearn: 1.6249975\ttotal: 2m 52s\tremaining: 17.1s\n",
            "91:\tlearn: 1.6230730\ttotal: 2m 54s\tremaining: 15.2s\n",
            "92:\tlearn: 1.6203479\ttotal: 2m 56s\tremaining: 13.3s\n",
            "93:\tlearn: 1.6165689\ttotal: 2m 58s\tremaining: 11.4s\n",
            "94:\tlearn: 1.6123904\ttotal: 2m 59s\tremaining: 9.46s\n",
            "95:\tlearn: 1.6092356\ttotal: 3m 1s\tremaining: 7.56s\n",
            "96:\tlearn: 1.6076861\ttotal: 3m 3s\tremaining: 5.66s\n",
            "97:\tlearn: 1.6064184\ttotal: 3m 5s\tremaining: 3.79s\n",
            "98:\tlearn: 1.6038498\ttotal: 3m 8s\tremaining: 1.9s\n",
            "99:\tlearn: 1.6018324\ttotal: 3m 9s\tremaining: 0us\n"
          ]
        },
        {
          "output_type": "execute_result",
          "data": {
            "text/plain": [
              "GridSearchCV(cv=3,\n",
              "             estimator=<catboost.core.CatBoostRegressor object at 0x7f14906c9b40>,\n",
              "             n_jobs=-1,\n",
              "             param_grid={'depth': [11, 15, 16], 'iterations': [10, 50, 100],\n",
              "                         'learning_rate': [0.1, 0.2, 0.3]},\n",
              "             verbose=1)"
            ],
            "text/html": [
              "<style>#sk-container-id-5 {color: black;background-color: white;}#sk-container-id-5 pre{padding: 0;}#sk-container-id-5 div.sk-toggleable {background-color: white;}#sk-container-id-5 label.sk-toggleable__label {cursor: pointer;display: block;width: 100%;margin-bottom: 0;padding: 0.3em;box-sizing: border-box;text-align: center;}#sk-container-id-5 label.sk-toggleable__label-arrow:before {content: \"▸\";float: left;margin-right: 0.25em;color: #696969;}#sk-container-id-5 label.sk-toggleable__label-arrow:hover:before {color: black;}#sk-container-id-5 div.sk-estimator:hover label.sk-toggleable__label-arrow:before {color: black;}#sk-container-id-5 div.sk-toggleable__content {max-height: 0;max-width: 0;overflow: hidden;text-align: left;background-color: #f0f8ff;}#sk-container-id-5 div.sk-toggleable__content pre {margin: 0.2em;color: black;border-radius: 0.25em;background-color: #f0f8ff;}#sk-container-id-5 input.sk-toggleable__control:checked~div.sk-toggleable__content {max-height: 200px;max-width: 100%;overflow: auto;}#sk-container-id-5 input.sk-toggleable__control:checked~label.sk-toggleable__label-arrow:before {content: \"▾\";}#sk-container-id-5 div.sk-estimator input.sk-toggleable__control:checked~label.sk-toggleable__label {background-color: #d4ebff;}#sk-container-id-5 div.sk-label input.sk-toggleable__control:checked~label.sk-toggleable__label {background-color: #d4ebff;}#sk-container-id-5 input.sk-hidden--visually {border: 0;clip: rect(1px 1px 1px 1px);clip: rect(1px, 1px, 1px, 1px);height: 1px;margin: -1px;overflow: hidden;padding: 0;position: absolute;width: 1px;}#sk-container-id-5 div.sk-estimator {font-family: monospace;background-color: #f0f8ff;border: 1px dotted black;border-radius: 0.25em;box-sizing: border-box;margin-bottom: 0.5em;}#sk-container-id-5 div.sk-estimator:hover {background-color: #d4ebff;}#sk-container-id-5 div.sk-parallel-item::after {content: \"\";width: 100%;border-bottom: 1px solid gray;flex-grow: 1;}#sk-container-id-5 div.sk-label:hover label.sk-toggleable__label {background-color: #d4ebff;}#sk-container-id-5 div.sk-serial::before {content: \"\";position: absolute;border-left: 1px solid gray;box-sizing: border-box;top: 0;bottom: 0;left: 50%;z-index: 0;}#sk-container-id-5 div.sk-serial {display: flex;flex-direction: column;align-items: center;background-color: white;padding-right: 0.2em;padding-left: 0.2em;position: relative;}#sk-container-id-5 div.sk-item {position: relative;z-index: 1;}#sk-container-id-5 div.sk-parallel {display: flex;align-items: stretch;justify-content: center;background-color: white;position: relative;}#sk-container-id-5 div.sk-item::before, #sk-container-id-5 div.sk-parallel-item::before {content: \"\";position: absolute;border-left: 1px solid gray;box-sizing: border-box;top: 0;bottom: 0;left: 50%;z-index: -1;}#sk-container-id-5 div.sk-parallel-item {display: flex;flex-direction: column;z-index: 1;position: relative;background-color: white;}#sk-container-id-5 div.sk-parallel-item:first-child::after {align-self: flex-end;width: 50%;}#sk-container-id-5 div.sk-parallel-item:last-child::after {align-self: flex-start;width: 50%;}#sk-container-id-5 div.sk-parallel-item:only-child::after {width: 0;}#sk-container-id-5 div.sk-dashed-wrapped {border: 1px dashed gray;margin: 0 0.4em 0.5em 0.4em;box-sizing: border-box;padding-bottom: 0.4em;background-color: white;}#sk-container-id-5 div.sk-label label {font-family: monospace;font-weight: bold;display: inline-block;line-height: 1.2em;}#sk-container-id-5 div.sk-label-container {text-align: center;}#sk-container-id-5 div.sk-container {/* jupyter's `normalize.less` sets `[hidden] { display: none; }` but bootstrap.min.css set `[hidden] { display: none !important; }` so we also need the `!important` here to be able to override the default hidden behavior on the sphinx rendered scikit-learn.org. See: https://github.com/scikit-learn/scikit-learn/issues/21755 */display: inline-block !important;position: relative;}#sk-container-id-5 div.sk-text-repr-fallback {display: none;}</style><div id=\"sk-container-id-5\" class=\"sk-top-container\"><div class=\"sk-text-repr-fallback\"><pre>GridSearchCV(cv=3,\n",
              "             estimator=&lt;catboost.core.CatBoostRegressor object at 0x7f14906c9b40&gt;,\n",
              "             n_jobs=-1,\n",
              "             param_grid={&#x27;depth&#x27;: [11, 15, 16], &#x27;iterations&#x27;: [10, 50, 100],\n",
              "                         &#x27;learning_rate&#x27;: [0.1, 0.2, 0.3]},\n",
              "             verbose=1)</pre><b>In a Jupyter environment, please rerun this cell to show the HTML representation or trust the notebook. <br />On GitHub, the HTML representation is unable to render, please try loading this page with nbviewer.org.</b></div><div class=\"sk-container\" hidden><div class=\"sk-item sk-dashed-wrapped\"><div class=\"sk-label-container\"><div class=\"sk-label sk-toggleable\"><input class=\"sk-toggleable__control sk-hidden--visually\" id=\"sk-estimator-id-7\" type=\"checkbox\" ><label for=\"sk-estimator-id-7\" class=\"sk-toggleable__label sk-toggleable__label-arrow\">GridSearchCV</label><div class=\"sk-toggleable__content\"><pre>GridSearchCV(cv=3,\n",
              "             estimator=&lt;catboost.core.CatBoostRegressor object at 0x7f14906c9b40&gt;,\n",
              "             n_jobs=-1,\n",
              "             param_grid={&#x27;depth&#x27;: [11, 15, 16], &#x27;iterations&#x27;: [10, 50, 100],\n",
              "                         &#x27;learning_rate&#x27;: [0.1, 0.2, 0.3]},\n",
              "             verbose=1)</pre></div></div></div><div class=\"sk-parallel\"><div class=\"sk-parallel-item\"><div class=\"sk-item\"><div class=\"sk-label-container\"><div class=\"sk-label sk-toggleable\"><input class=\"sk-toggleable__control sk-hidden--visually\" id=\"sk-estimator-id-8\" type=\"checkbox\" ><label for=\"sk-estimator-id-8\" class=\"sk-toggleable__label sk-toggleable__label-arrow\">estimator: CatBoostRegressor</label><div class=\"sk-toggleable__content\"><pre>&lt;catboost.core.CatBoostRegressor object at 0x7f14906c9b40&gt;</pre></div></div></div><div class=\"sk-serial\"><div class=\"sk-item\"><div class=\"sk-estimator sk-toggleable\"><input class=\"sk-toggleable__control sk-hidden--visually\" id=\"sk-estimator-id-9\" type=\"checkbox\" ><label for=\"sk-estimator-id-9\" class=\"sk-toggleable__label sk-toggleable__label-arrow\">CatBoostRegressor</label><div class=\"sk-toggleable__content\"><pre>&lt;catboost.core.CatBoostRegressor object at 0x7f14906c9b40&gt;</pre></div></div></div></div></div></div></div></div></div></div>"
            ]
          },
          "metadata": {},
          "execution_count": 32
        }
      ]
    },
    {
      "cell_type": "code",
      "source": [
        "grid_cbr.best_params_"
      ],
      "metadata": {
        "colab": {
          "base_uri": "https://localhost:8080/"
        },
        "id": "nGUblL1GMhA_",
        "outputId": "43ef103a-d0d5-4142-f050-a117058879b2"
      },
      "execution_count": null,
      "outputs": [
        {
          "output_type": "execute_result",
          "data": {
            "text/plain": [
              "{'depth': 15, 'iterations': 100, 'learning_rate': 0.1}"
            ]
          },
          "metadata": {},
          "execution_count": 33
        }
      ]
    },
    {
      "cell_type": "code",
      "source": [
        "grid_cbr = CatBoostRegressor(depth = 10, iterations = 200, learning_rate = 0.2, random_state=42)\n",
        "grid_cbr.fit(X_train, Y_train)"
      ],
      "metadata": {
        "colab": {
          "base_uri": "https://localhost:8080/"
        },
        "id": "idUKapcTvsMX",
        "outputId": "33d5b10a-dddb-49fd-9803-21f01550f6a7"
      },
      "execution_count": null,
      "outputs": [
        {
          "output_type": "stream",
          "name": "stdout",
          "text": [
            "0:\tlearn: 2.2585258\ttotal: 84.4ms\tremaining: 16.8s\n",
            "1:\tlearn: 2.2134078\ttotal: 200ms\tremaining: 19.8s\n",
            "2:\tlearn: 2.1836518\ttotal: 307ms\tremaining: 20.2s\n",
            "3:\tlearn: 2.1584292\ttotal: 392ms\tremaining: 19.2s\n",
            "4:\tlearn: 2.1368802\ttotal: 592ms\tremaining: 23.1s\n",
            "5:\tlearn: 2.1195479\ttotal: 764ms\tremaining: 24.7s\n",
            "6:\tlearn: 2.1020819\ttotal: 903ms\tremaining: 24.9s\n",
            "7:\tlearn: 2.0913725\ttotal: 1.04s\tremaining: 24.9s\n",
            "8:\tlearn: 2.0805696\ttotal: 1.13s\tremaining: 24s\n",
            "9:\tlearn: 2.0693666\ttotal: 1.22s\tremaining: 23.2s\n",
            "10:\tlearn: 2.0578698\ttotal: 1.3s\tremaining: 22.3s\n",
            "11:\tlearn: 2.0478455\ttotal: 1.44s\tremaining: 22.5s\n",
            "12:\tlearn: 2.0382982\ttotal: 1.57s\tremaining: 22.6s\n",
            "13:\tlearn: 2.0291243\ttotal: 1.75s\tremaining: 23.2s\n",
            "14:\tlearn: 2.0184203\ttotal: 1.86s\tremaining: 22.9s\n",
            "15:\tlearn: 2.0099620\ttotal: 2s\tremaining: 23.1s\n",
            "16:\tlearn: 2.0065976\ttotal: 2.15s\tremaining: 23.1s\n",
            "17:\tlearn: 2.0015426\ttotal: 2.33s\tremaining: 23.6s\n",
            "18:\tlearn: 1.9926965\ttotal: 2.48s\tremaining: 23.7s\n",
            "19:\tlearn: 1.9890332\ttotal: 2.65s\tremaining: 23.8s\n",
            "20:\tlearn: 1.9863443\ttotal: 2.81s\tremaining: 23.9s\n",
            "21:\tlearn: 1.9783942\ttotal: 2.93s\tremaining: 23.7s\n",
            "22:\tlearn: 1.9712327\ttotal: 3.07s\tremaining: 23.6s\n",
            "23:\tlearn: 1.9680804\ttotal: 3.21s\tremaining: 23.6s\n",
            "24:\tlearn: 1.9628184\ttotal: 3.35s\tremaining: 23.4s\n",
            "25:\tlearn: 1.9603337\ttotal: 3.51s\tremaining: 23.5s\n",
            "26:\tlearn: 1.9554260\ttotal: 3.59s\tremaining: 23s\n",
            "27:\tlearn: 1.9494625\ttotal: 3.65s\tremaining: 22.4s\n",
            "28:\tlearn: 1.9445675\ttotal: 3.71s\tremaining: 21.9s\n",
            "29:\tlearn: 1.9408691\ttotal: 3.78s\tremaining: 21.4s\n",
            "30:\tlearn: 1.9372082\ttotal: 3.84s\tremaining: 20.9s\n",
            "31:\tlearn: 1.9335869\ttotal: 3.9s\tremaining: 20.5s\n",
            "32:\tlearn: 1.9293478\ttotal: 3.96s\tremaining: 20s\n",
            "33:\tlearn: 1.9250844\ttotal: 4.03s\tremaining: 19.7s\n",
            "34:\tlearn: 1.9219254\ttotal: 4.11s\tremaining: 19.4s\n",
            "35:\tlearn: 1.9179469\ttotal: 4.18s\tremaining: 19s\n",
            "36:\tlearn: 1.9155082\ttotal: 4.25s\tremaining: 18.7s\n",
            "37:\tlearn: 1.9108223\ttotal: 4.3s\tremaining: 18.4s\n",
            "38:\tlearn: 1.9057197\ttotal: 4.37s\tremaining: 18s\n",
            "39:\tlearn: 1.9010462\ttotal: 4.43s\tremaining: 17.7s\n",
            "40:\tlearn: 1.8967561\ttotal: 4.49s\tremaining: 17.4s\n",
            "41:\tlearn: 1.8935762\ttotal: 4.55s\tremaining: 17.1s\n",
            "42:\tlearn: 1.8889241\ttotal: 4.61s\tremaining: 16.8s\n",
            "43:\tlearn: 1.8858207\ttotal: 4.67s\tremaining: 16.6s\n",
            "44:\tlearn: 1.8809571\ttotal: 4.73s\tremaining: 16.3s\n",
            "45:\tlearn: 1.8789034\ttotal: 4.79s\tremaining: 16s\n",
            "46:\tlearn: 1.8728977\ttotal: 4.85s\tremaining: 15.8s\n",
            "47:\tlearn: 1.8686218\ttotal: 4.91s\tremaining: 15.6s\n",
            "48:\tlearn: 1.8657892\ttotal: 4.97s\tremaining: 15.3s\n",
            "49:\tlearn: 1.8600778\ttotal: 5.04s\tremaining: 15.1s\n",
            "50:\tlearn: 1.8573447\ttotal: 5.11s\tremaining: 14.9s\n",
            "51:\tlearn: 1.8541838\ttotal: 5.17s\tremaining: 14.7s\n",
            "52:\tlearn: 1.8514489\ttotal: 5.23s\tremaining: 14.5s\n",
            "53:\tlearn: 1.8486723\ttotal: 5.29s\tremaining: 14.3s\n",
            "54:\tlearn: 1.8443855\ttotal: 5.35s\tremaining: 14.1s\n",
            "55:\tlearn: 1.8419934\ttotal: 5.41s\tremaining: 13.9s\n",
            "56:\tlearn: 1.8355004\ttotal: 5.48s\tremaining: 13.7s\n",
            "57:\tlearn: 1.8295488\ttotal: 5.54s\tremaining: 13.6s\n",
            "58:\tlearn: 1.8275204\ttotal: 5.59s\tremaining: 13.4s\n",
            "59:\tlearn: 1.8226496\ttotal: 5.65s\tremaining: 13.2s\n",
            "60:\tlearn: 1.8169323\ttotal: 5.73s\tremaining: 13.1s\n",
            "61:\tlearn: 1.8126302\ttotal: 5.79s\tremaining: 12.9s\n",
            "62:\tlearn: 1.8099162\ttotal: 5.85s\tremaining: 12.7s\n",
            "63:\tlearn: 1.8054181\ttotal: 5.91s\tremaining: 12.6s\n",
            "64:\tlearn: 1.8018543\ttotal: 5.97s\tremaining: 12.4s\n",
            "65:\tlearn: 1.7978289\ttotal: 6.04s\tremaining: 12.3s\n",
            "66:\tlearn: 1.7927572\ttotal: 6.09s\tremaining: 12.1s\n",
            "67:\tlearn: 1.7905395\ttotal: 6.17s\tremaining: 12s\n",
            "68:\tlearn: 1.7899877\ttotal: 6.23s\tremaining: 11.8s\n",
            "69:\tlearn: 1.7857604\ttotal: 6.29s\tremaining: 11.7s\n",
            "70:\tlearn: 1.7806224\ttotal: 6.36s\tremaining: 11.5s\n",
            "71:\tlearn: 1.7765982\ttotal: 6.42s\tremaining: 11.4s\n",
            "72:\tlearn: 1.7731776\ttotal: 6.48s\tremaining: 11.3s\n",
            "73:\tlearn: 1.7682415\ttotal: 6.55s\tremaining: 11.1s\n",
            "74:\tlearn: 1.7649386\ttotal: 6.61s\tremaining: 11s\n",
            "75:\tlearn: 1.7623572\ttotal: 6.67s\tremaining: 10.9s\n",
            "76:\tlearn: 1.7584326\ttotal: 6.74s\tremaining: 10.8s\n",
            "77:\tlearn: 1.7546113\ttotal: 6.8s\tremaining: 10.6s\n",
            "78:\tlearn: 1.7510161\ttotal: 6.86s\tremaining: 10.5s\n",
            "79:\tlearn: 1.7477725\ttotal: 6.92s\tremaining: 10.4s\n",
            "80:\tlearn: 1.7443640\ttotal: 6.99s\tremaining: 10.3s\n",
            "81:\tlearn: 1.7419454\ttotal: 7.05s\tremaining: 10.1s\n",
            "82:\tlearn: 1.7392564\ttotal: 7.11s\tremaining: 10s\n",
            "83:\tlearn: 1.7364161\ttotal: 7.19s\tremaining: 9.92s\n",
            "84:\tlearn: 1.7326560\ttotal: 7.26s\tremaining: 9.82s\n",
            "85:\tlearn: 1.7303857\ttotal: 7.32s\tremaining: 9.7s\n",
            "86:\tlearn: 1.7279205\ttotal: 7.38s\tremaining: 9.59s\n",
            "87:\tlearn: 1.7246239\ttotal: 7.45s\tremaining: 9.48s\n",
            "88:\tlearn: 1.7241853\ttotal: 7.51s\tremaining: 9.37s\n",
            "89:\tlearn: 1.7203764\ttotal: 7.63s\tremaining: 9.32s\n",
            "90:\tlearn: 1.7178702\ttotal: 7.74s\tremaining: 9.27s\n",
            "91:\tlearn: 1.7163426\ttotal: 7.86s\tremaining: 9.22s\n",
            "92:\tlearn: 1.7159750\ttotal: 7.98s\tremaining: 9.18s\n",
            "93:\tlearn: 1.7126852\ttotal: 8.1s\tremaining: 9.13s\n",
            "94:\tlearn: 1.7091955\ttotal: 8.23s\tremaining: 9.1s\n",
            "95:\tlearn: 1.7055371\ttotal: 8.34s\tremaining: 9.04s\n",
            "96:\tlearn: 1.7022283\ttotal: 8.44s\tremaining: 8.96s\n",
            "97:\tlearn: 1.6992569\ttotal: 8.55s\tremaining: 8.9s\n",
            "98:\tlearn: 1.6970484\ttotal: 8.68s\tremaining: 8.85s\n",
            "99:\tlearn: 1.6945355\ttotal: 8.81s\tremaining: 8.81s\n",
            "100:\tlearn: 1.6910738\ttotal: 8.94s\tremaining: 8.76s\n",
            "101:\tlearn: 1.6878553\ttotal: 9.06s\tremaining: 8.7s\n",
            "102:\tlearn: 1.6864145\ttotal: 9.19s\tremaining: 8.65s\n",
            "103:\tlearn: 1.6839091\ttotal: 9.31s\tremaining: 8.59s\n",
            "104:\tlearn: 1.6816439\ttotal: 9.4s\tremaining: 8.5s\n",
            "105:\tlearn: 1.6803356\ttotal: 9.52s\tremaining: 8.44s\n",
            "106:\tlearn: 1.6780129\ttotal: 9.64s\tremaining: 8.38s\n",
            "107:\tlearn: 1.6761175\ttotal: 9.76s\tremaining: 8.32s\n",
            "108:\tlearn: 1.6745904\ttotal: 9.9s\tremaining: 8.27s\n",
            "109:\tlearn: 1.6715691\ttotal: 10s\tremaining: 8.2s\n",
            "110:\tlearn: 1.6704207\ttotal: 10.1s\tremaining: 8.14s\n",
            "111:\tlearn: 1.6686307\ttotal: 10.3s\tremaining: 8.07s\n",
            "112:\tlearn: 1.6678681\ttotal: 10.4s\tremaining: 7.99s\n",
            "113:\tlearn: 1.6646289\ttotal: 10.5s\tremaining: 7.9s\n",
            "114:\tlearn: 1.6621027\ttotal: 10.6s\tremaining: 7.84s\n",
            "115:\tlearn: 1.6611300\ttotal: 10.7s\tremaining: 7.77s\n",
            "116:\tlearn: 1.6603584\ttotal: 10.8s\tremaining: 7.69s\n",
            "117:\tlearn: 1.6587586\ttotal: 11s\tremaining: 7.62s\n",
            "118:\tlearn: 1.6580235\ttotal: 11.1s\tremaining: 7.54s\n",
            "119:\tlearn: 1.6547898\ttotal: 11.2s\tremaining: 7.47s\n",
            "120:\tlearn: 1.6527914\ttotal: 11.3s\tremaining: 7.41s\n",
            "121:\tlearn: 1.6505215\ttotal: 11.5s\tremaining: 7.33s\n",
            "122:\tlearn: 1.6490366\ttotal: 11.6s\tremaining: 7.26s\n",
            "123:\tlearn: 1.6462061\ttotal: 11.7s\tremaining: 7.19s\n",
            "124:\tlearn: 1.6435611\ttotal: 11.9s\tremaining: 7.11s\n",
            "125:\tlearn: 1.6418421\ttotal: 12s\tremaining: 7.03s\n",
            "126:\tlearn: 1.6401202\ttotal: 12.1s\tremaining: 6.95s\n",
            "127:\tlearn: 1.6392797\ttotal: 12.2s\tremaining: 6.87s\n",
            "128:\tlearn: 1.6366581\ttotal: 12.3s\tremaining: 6.79s\n",
            "129:\tlearn: 1.6350319\ttotal: 12.4s\tremaining: 6.67s\n",
            "130:\tlearn: 1.6331592\ttotal: 12.5s\tremaining: 6.56s\n",
            "131:\tlearn: 1.6310213\ttotal: 12.5s\tremaining: 6.45s\n",
            "132:\tlearn: 1.6287455\ttotal: 12.6s\tremaining: 6.33s\n",
            "133:\tlearn: 1.6261181\ttotal: 12.6s\tremaining: 6.22s\n",
            "134:\tlearn: 1.6245068\ttotal: 12.7s\tremaining: 6.11s\n",
            "135:\tlearn: 1.6219460\ttotal: 12.8s\tremaining: 6s\n",
            "136:\tlearn: 1.6213770\ttotal: 12.8s\tremaining: 5.89s\n",
            "137:\tlearn: 1.6189388\ttotal: 12.9s\tremaining: 5.78s\n",
            "138:\tlearn: 1.6162845\ttotal: 12.9s\tremaining: 5.68s\n",
            "139:\tlearn: 1.6152216\ttotal: 13s\tremaining: 5.57s\n",
            "140:\tlearn: 1.6129649\ttotal: 13.1s\tremaining: 5.47s\n",
            "141:\tlearn: 1.6109044\ttotal: 13.1s\tremaining: 5.36s\n",
            "142:\tlearn: 1.6096493\ttotal: 13.2s\tremaining: 5.25s\n",
            "143:\tlearn: 1.6089169\ttotal: 13.2s\tremaining: 5.15s\n",
            "144:\tlearn: 1.6070310\ttotal: 13.3s\tremaining: 5.05s\n",
            "145:\tlearn: 1.6048403\ttotal: 13.4s\tremaining: 4.95s\n",
            "146:\tlearn: 1.6026550\ttotal: 13.4s\tremaining: 4.84s\n",
            "147:\tlearn: 1.6007022\ttotal: 13.5s\tremaining: 4.74s\n",
            "148:\tlearn: 1.5991316\ttotal: 13.6s\tremaining: 4.64s\n",
            "149:\tlearn: 1.5978621\ttotal: 13.6s\tremaining: 4.54s\n",
            "150:\tlearn: 1.5961355\ttotal: 13.7s\tremaining: 4.44s\n",
            "151:\tlearn: 1.5938019\ttotal: 13.7s\tremaining: 4.34s\n",
            "152:\tlearn: 1.5919995\ttotal: 13.8s\tremaining: 4.24s\n",
            "153:\tlearn: 1.5910765\ttotal: 13.9s\tremaining: 4.14s\n",
            "154:\tlearn: 1.5891997\ttotal: 13.9s\tremaining: 4.04s\n",
            "155:\tlearn: 1.5874547\ttotal: 14s\tremaining: 3.94s\n",
            "156:\tlearn: 1.5862440\ttotal: 14s\tremaining: 3.85s\n",
            "157:\tlearn: 1.5852025\ttotal: 14.1s\tremaining: 3.75s\n",
            "158:\tlearn: 1.5836562\ttotal: 14.2s\tremaining: 3.65s\n",
            "159:\tlearn: 1.5828800\ttotal: 14.2s\tremaining: 3.56s\n",
            "160:\tlearn: 1.5804895\ttotal: 14.3s\tremaining: 3.46s\n",
            "161:\tlearn: 1.5787323\ttotal: 14.4s\tremaining: 3.37s\n",
            "162:\tlearn: 1.5767341\ttotal: 14.4s\tremaining: 3.27s\n",
            "163:\tlearn: 1.5761550\ttotal: 14.5s\tremaining: 3.18s\n",
            "164:\tlearn: 1.5759171\ttotal: 14.5s\tremaining: 3.09s\n",
            "165:\tlearn: 1.5741613\ttotal: 14.6s\tremaining: 2.99s\n",
            "166:\tlearn: 1.5721317\ttotal: 14.7s\tremaining: 2.9s\n",
            "167:\tlearn: 1.5710084\ttotal: 14.7s\tremaining: 2.81s\n",
            "168:\tlearn: 1.5703853\ttotal: 14.8s\tremaining: 2.72s\n",
            "169:\tlearn: 1.5683104\ttotal: 14.9s\tremaining: 2.62s\n",
            "170:\tlearn: 1.5664436\ttotal: 14.9s\tremaining: 2.53s\n",
            "171:\tlearn: 1.5643235\ttotal: 15s\tremaining: 2.44s\n",
            "172:\tlearn: 1.5620114\ttotal: 15s\tremaining: 2.35s\n",
            "173:\tlearn: 1.5602490\ttotal: 15.1s\tremaining: 2.26s\n",
            "174:\tlearn: 1.5591534\ttotal: 15.2s\tremaining: 2.17s\n",
            "175:\tlearn: 1.5574493\ttotal: 15.2s\tremaining: 2.08s\n",
            "176:\tlearn: 1.5553751\ttotal: 15.3s\tremaining: 1.99s\n",
            "177:\tlearn: 1.5529357\ttotal: 15.4s\tremaining: 1.9s\n",
            "178:\tlearn: 1.5514584\ttotal: 15.4s\tremaining: 1.81s\n",
            "179:\tlearn: 1.5498266\ttotal: 15.5s\tremaining: 1.72s\n",
            "180:\tlearn: 1.5481960\ttotal: 15.6s\tremaining: 1.63s\n",
            "181:\tlearn: 1.5473753\ttotal: 15.6s\tremaining: 1.54s\n",
            "182:\tlearn: 1.5459161\ttotal: 15.7s\tremaining: 1.46s\n",
            "183:\tlearn: 1.5443144\ttotal: 15.7s\tremaining: 1.37s\n",
            "184:\tlearn: 1.5430316\ttotal: 15.8s\tremaining: 1.28s\n",
            "185:\tlearn: 1.5409811\ttotal: 15.9s\tremaining: 1.19s\n",
            "186:\tlearn: 1.5396556\ttotal: 15.9s\tremaining: 1.11s\n",
            "187:\tlearn: 1.5387867\ttotal: 16s\tremaining: 1.02s\n",
            "188:\tlearn: 1.5376849\ttotal: 16s\tremaining: 934ms\n",
            "189:\tlearn: 1.5351618\ttotal: 16.1s\tremaining: 848ms\n",
            "190:\tlearn: 1.5338863\ttotal: 16.2s\tremaining: 762ms\n",
            "191:\tlearn: 1.5325871\ttotal: 16.2s\tremaining: 676ms\n",
            "192:\tlearn: 1.5310535\ttotal: 16.3s\tremaining: 591ms\n",
            "193:\tlearn: 1.5297113\ttotal: 16.3s\tremaining: 506ms\n",
            "194:\tlearn: 1.5290028\ttotal: 16.4s\tremaining: 421ms\n",
            "195:\tlearn: 1.5270693\ttotal: 16.5s\tremaining: 336ms\n",
            "196:\tlearn: 1.5249651\ttotal: 16.5s\tremaining: 252ms\n",
            "197:\tlearn: 1.5229213\ttotal: 16.6s\tremaining: 168ms\n",
            "198:\tlearn: 1.5212904\ttotal: 16.7s\tremaining: 83.7ms\n",
            "199:\tlearn: 1.5195941\ttotal: 16.7s\tremaining: 0us\n"
          ]
        },
        {
          "output_type": "execute_result",
          "data": {
            "text/plain": [
              "<catboost.core.CatBoostRegressor at 0x7f14908846d0>"
            ]
          },
          "metadata": {},
          "execution_count": 64
        }
      ]
    },
    {
      "cell_type": "code",
      "source": [
        "compute_metric('CatBoost Regressor (Grid Search) Train', grid_cbr, X_train, Y_train)"
      ],
      "metadata": {
        "colab": {
          "base_uri": "https://localhost:8080/"
        },
        "id": "-7KQNcW9vtJu",
        "outputId": "9a1f805a-87d0-4c81-90c2-1d3bfd4e6fd1"
      },
      "execution_count": null,
      "outputs": [
        {
          "output_type": "stream",
          "name": "stdout",
          "text": [
            "CatBoost Regressor (Grid Search) Train-R2: 0.5707605221335779\n",
            "CatBoost Regressor (Grid Search) Train-RMSE: 1.519594140766113\n",
            "CatBoost Regressor (Grid Search) Train-MAE: 0.4166025642171788\n",
            "CatBoost Regressor (Grid Search) Train-Pearson r: 0.7765917961162732\n"
          ]
        }
      ]
    },
    {
      "cell_type": "code",
      "source": [
        "compute_metric('CatBoost Regressor (Grid Search) Val', grid_cbr, X_test, Y_test)"
      ],
      "metadata": {
        "colab": {
          "base_uri": "https://localhost:8080/"
        },
        "id": "fXtHKfaLvuTz",
        "outputId": "65b35685-35e1-470c-922b-68542071177f"
      },
      "execution_count": null,
      "outputs": [
        {
          "output_type": "stream",
          "name": "stdout",
          "text": [
            "CatBoost Regressor (Grid Search) Val-R2: 0.22849332460949245\n",
            "CatBoost Regressor (Grid Search) Val-RMSE: 2.1676915902337157\n",
            "CatBoost Regressor (Grid Search) Val-MAE: 0.5306031317165472\n",
            "CatBoost Regressor (Grid Search) Val-Pearson r: 0.47815756989367053\n"
          ]
        }
      ]
    }
  ]
}